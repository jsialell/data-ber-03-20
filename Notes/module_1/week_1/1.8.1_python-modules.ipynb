{
 "cells": [
  {
   "cell_type": "code",
   "execution_count": 1,
   "metadata": {},
   "outputs": [],
   "source": [
    "import sacramento_module"
   ]
  },
  {
   "cell_type": "code",
   "execution_count": 2,
   "metadata": {},
   "outputs": [],
   "source": [
    "data = sacramento_module.open_csv(\"data/Sacramentorealestatetransactions.csv\")"
   ]
  },
  {
   "cell_type": "code",
   "execution_count": 6,
   "metadata": {},
   "outputs": [],
   "source": [
    "conversions = {\"city\": lambda x: x.capitalize(),\n",
    "               \"zip\": int,\n",
    "               \"beds\": int,\n",
    "               \"price\": int,\n",
    "               \"baths\": int,\n",
    "               \"sq__ft\": int,\n",
    "               \"latitude\": float,\n",
    "               \"longitude\": float,\n",
    "               \"sale_date\": sacramento_module.extract_date,}\n",
    "\n",
    "clean_data = [sacramento_module.process_row(row, conversions) for row in data]"
   ]
  },
  {
   "cell_type": "code",
   "execution_count": 8,
   "metadata": {},
   "outputs": [],
   "source": [
    "sacramento_module.export_csv(\"data/module_sacramento_clean.csv\", clean_data)"
   ]
  }
 ],
 "metadata": {
  "kernelspec": {
   "display_name": "Python 3",
   "language": "python",
   "name": "python3"
  },
  "language_info": {
   "codemirror_mode": {
    "name": "ipython",
    "version": 3
   },
   "file_extension": ".py",
   "mimetype": "text/x-python",
   "name": "python",
   "nbconvert_exporter": "python",
   "pygments_lexer": "ipython3",
   "version": "3.7.6"
  }
 },
 "nbformat": 4,
 "nbformat_minor": 4
}
