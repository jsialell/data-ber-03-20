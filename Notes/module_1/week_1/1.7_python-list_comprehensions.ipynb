{
 "cells": [
  {
   "cell_type": "markdown",
   "metadata": {},
   "source": [
    "# Python - List comprehensions"
   ]
  },
  {
   "cell_type": "code",
   "execution_count": 1,
   "metadata": {},
   "outputs": [],
   "source": [
    "sample = list(range(10))"
   ]
  },
  {
   "cell_type": "code",
   "execution_count": 2,
   "metadata": {},
   "outputs": [
    {
     "data": {
      "text/plain": [
       "[0, 1, 2, 3, 4, 5, 6, 7, 8, 9]"
      ]
     },
     "execution_count": 2,
     "metadata": {},
     "output_type": "execute_result"
    }
   ],
   "source": [
    "sample"
   ]
  },
  {
   "cell_type": "code",
   "execution_count": 4,
   "metadata": {},
   "outputs": [
    {
     "data": {
      "text/plain": [
       "[10, 11, 12, 13, 14, 15, 16, 17, 18, 19]"
      ]
     },
     "execution_count": 4,
     "metadata": {},
     "output_type": "execute_result"
    }
   ],
   "source": [
    "sample_plus_10 = []\n",
    "for i in sample:\n",
    "    sample_plus_10.append(i + 10)\n",
    "    \n",
    "sample_plus_10"
   ]
  },
  {
   "cell_type": "code",
   "execution_count": 5,
   "metadata": {},
   "outputs": [
    {
     "data": {
      "text/plain": [
       "[10, 11, 12, 13, 14, 15, 16, 17, 18, 19]"
      ]
     },
     "execution_count": 5,
     "metadata": {},
     "output_type": "execute_result"
    }
   ],
   "source": [
    "[i+10 for i in sample]"
   ]
  },
  {
   "cell_type": "markdown",
   "metadata": {},
   "source": [
    "List comprehensions\n",
    "- use brackets to tell python you want to apply list comprehensions\n",
    "    []\n",
    "- a list comprehensions returns a list\n",
    "\n",
    "[1. component: [function or transformation],\n",
    "2. component: loop]\n"
   ]
  },
  {
   "cell_type": "code",
   "execution_count": 6,
   "metadata": {},
   "outputs": [
    {
     "data": {
      "text/plain": [
       "list"
      ]
     },
     "execution_count": 6,
     "metadata": {},
     "output_type": "execute_result"
    }
   ],
   "source": [
    "type([i+10 for i in sample])"
   ]
  },
  {
   "cell_type": "code",
   "execution_count": 7,
   "metadata": {},
   "outputs": [],
   "source": [
    "sample_plus_10 = [i+10 for i in sample]"
   ]
  },
  {
   "cell_type": "code",
   "execution_count": 8,
   "metadata": {},
   "outputs": [
    {
     "data": {
      "text/plain": [
       "[10, 11, 12, 13, 14, 15, 16, 17, 18, 19]"
      ]
     },
     "execution_count": 8,
     "metadata": {},
     "output_type": "execute_result"
    }
   ],
   "source": [
    "sample_plus_10"
   ]
  },
  {
   "cell_type": "code",
   "execution_count": 9,
   "metadata": {},
   "outputs": [
    {
     "data": {
      "text/plain": [
       "[0, 1, 4, 9, 16, 25, 36, 49, 64, 81]"
      ]
     },
     "execution_count": 9,
     "metadata": {},
     "output_type": "execute_result"
    }
   ],
   "source": [
    "[i**2 for i in sample]"
   ]
  },
  {
   "cell_type": "markdown",
   "metadata": {},
   "source": [
    "Combining it with control flow"
   ]
  },
  {
   "cell_type": "code",
   "execution_count": 10,
   "metadata": {},
   "outputs": [],
   "source": [
    "import random \n",
    "another_sample = random.sample(range(100), 40)"
   ]
  },
  {
   "cell_type": "code",
   "execution_count": 13,
   "metadata": {},
   "outputs": [
    {
     "data": {
      "text/plain": [
       "[45, 58, 4, 69, 12, 81, 64, 7, 73, 27]"
      ]
     },
     "execution_count": 13,
     "metadata": {},
     "output_type": "execute_result"
    }
   ],
   "source": [
    "another_sample[:10]"
   ]
  },
  {
   "cell_type": "code",
   "execution_count": 14,
   "metadata": {},
   "outputs": [
    {
     "data": {
      "text/plain": [
       "[55, 1, 9, 61, 79, 73, 49, 33, 29, 81, 39, 27, 67, 11, 65, 31, 69, 35]"
      ]
     },
     "execution_count": 14,
     "metadata": {},
     "output_type": "execute_result"
    }
   ],
   "source": [
    "# iterate over another_sample, and keep only those elements that are even, \n",
    "# for those that are even, subtract 3\n",
    "\n",
    "even_minus_three = []\n",
    "for i in another_sample:\n",
    "    # check if i is even\n",
    "    if (i%2) == 0:\n",
    "        # if it is even, append even_minus_three with i minus 3\n",
    "        even_minus_three.append(i-3)\n",
    "\n",
    "even_minus_three"
   ]
  },
  {
   "cell_type": "code",
   "execution_count": 15,
   "metadata": {},
   "outputs": [
    {
     "data": {
      "text/plain": [
       "[55, 1, 9, 61, 79, 73, 49, 33, 29, 81, 39, 27, 67, 11, 65, 31, 69, 35]"
      ]
     },
     "execution_count": 15,
     "metadata": {},
     "output_type": "execute_result"
    }
   ],
   "source": [
    "[i-3 for i in another_sample if (i%2) == 0]"
   ]
  },
  {
   "cell_type": "code",
   "execution_count": 17,
   "metadata": {},
   "outputs": [
    {
     "data": {
      "text/plain": [
       "[45,\n",
       " 55,\n",
       " 1,\n",
       " 69,\n",
       " 9,\n",
       " 81,\n",
       " 61,\n",
       " 7,\n",
       " 73,\n",
       " 27,\n",
       " 89,\n",
       " 65,\n",
       " 35,\n",
       " 79,\n",
       " 25,\n",
       " 73,\n",
       " 53,\n",
       " 49,\n",
       " 33,\n",
       " 29,\n",
       " 9,\n",
       " 81,\n",
       " 39,\n",
       " 27,\n",
       " 31,\n",
       " 67,\n",
       " 39,\n",
       " 11,\n",
       " 67,\n",
       " 65,\n",
       " 57,\n",
       " 77,\n",
       " 31,\n",
       " 69,\n",
       " 71,\n",
       " 23,\n",
       " 61,\n",
       " 17,\n",
       " 43,\n",
       " 35]"
      ]
     },
     "execution_count": 17,
     "metadata": {},
     "output_type": "execute_result"
    }
   ],
   "source": [
    "# iterate over another_sample, subtract 3 only from those values that are even, \n",
    "# keep the ones that are odd\n",
    "even_minus_three = []\n",
    "for i in another_sample:\n",
    "    # check if i is even\n",
    "    if (i%2) == 0:\n",
    "        even_minus_three.append(i-3)\n",
    "    else:\n",
    "        even_minus_three.append(i)\n",
    "\n",
    "even_minus_three"
   ]
  },
  {
   "cell_type": "code",
   "execution_count": 18,
   "metadata": {},
   "outputs": [
    {
     "data": {
      "text/plain": [
       "[45,\n",
       " 55,\n",
       " 1,\n",
       " 69,\n",
       " 9,\n",
       " 81,\n",
       " 61,\n",
       " 7,\n",
       " 73,\n",
       " 27,\n",
       " 89,\n",
       " 65,\n",
       " 35,\n",
       " 79,\n",
       " 25,\n",
       " 73,\n",
       " 53,\n",
       " 49,\n",
       " 33,\n",
       " 29,\n",
       " 9,\n",
       " 81,\n",
       " 39,\n",
       " 27,\n",
       " 31,\n",
       " 67,\n",
       " 39,\n",
       " 11,\n",
       " 67,\n",
       " 65,\n",
       " 57,\n",
       " 77,\n",
       " 31,\n",
       " 69,\n",
       " 71,\n",
       " 23,\n",
       " 61,\n",
       " 17,\n",
       " 43,\n",
       " 35]"
      ]
     },
     "execution_count": 18,
     "metadata": {},
     "output_type": "execute_result"
    }
   ],
   "source": [
    "# iterate over another_sample, subtract 3 only from those values that are even, \n",
    "# keep the ones that are odd\n",
    "# using ternary operator\n",
    "even_minus_three = []\n",
    "for i in another_sample:\n",
    "    even_minus_three.append(i-3 if (i%2) == 0 else i)\n",
    "\n",
    "even_minus_three"
   ]
  },
  {
   "cell_type": "code",
   "execution_count": 19,
   "metadata": {},
   "outputs": [
    {
     "data": {
      "text/plain": [
       "[45,\n",
       " 55,\n",
       " 1,\n",
       " 69,\n",
       " 9,\n",
       " 81,\n",
       " 61,\n",
       " 7,\n",
       " 73,\n",
       " 27,\n",
       " 89,\n",
       " 65,\n",
       " 35,\n",
       " 79,\n",
       " 25,\n",
       " 73,\n",
       " 53,\n",
       " 49,\n",
       " 33,\n",
       " 29,\n",
       " 9,\n",
       " 81,\n",
       " 39,\n",
       " 27,\n",
       " 31,\n",
       " 67,\n",
       " 39,\n",
       " 11,\n",
       " 67,\n",
       " 65,\n",
       " 57,\n",
       " 77,\n",
       " 31,\n",
       " 69,\n",
       " 71,\n",
       " 23,\n",
       " 61,\n",
       " 17,\n",
       " 43,\n",
       " 35]"
      ]
     },
     "execution_count": 19,
     "metadata": {},
     "output_type": "execute_result"
    }
   ],
   "source": [
    "[i-3 if (i%2) == 0 else i for i in another_sample]"
   ]
  }
 ],
 "metadata": {
  "kernelspec": {
   "display_name": "Python 3",
   "language": "python",
   "name": "python3"
  },
  "language_info": {
   "codemirror_mode": {
    "name": "ipython",
    "version": 3
   },
   "file_extension": ".py",
   "mimetype": "text/x-python",
   "name": "python",
   "nbconvert_exporter": "python",
   "pygments_lexer": "ipython3",
   "version": "3.7.6"
  }
 },
 "nbformat": 4,
 "nbformat_minor": 4
}
