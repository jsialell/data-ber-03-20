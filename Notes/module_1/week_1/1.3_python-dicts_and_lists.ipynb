{
 "cells": [
  {
   "cell_type": "markdown",
   "metadata": {},
   "source": [
    "# Dicts & Lists\n",
    "\n",
    "## 1. Using `dict`s for control flow\n",
    "\n",
    "We're at a supermarket. For all customers that are checking out, we want to give them a little something to make them less grumpy.\n",
    "\n",
    "For purchases \n",
    "```\n",
    "x < 10 : Chocolate\n",
    "10 <= x < 20 : Beer\n",
    "20 <= x < 30 : Wine\n",
    "30 <= x < 40 : Avocado\n",
    "```"
   ]
  },
  {
   "cell_type": "code",
   "execution_count": 1,
   "metadata": {},
   "outputs": [],
   "source": [
    "import random\n",
    "shoppers = random.sample(range(40), 20)"
   ]
  },
  {
   "cell_type": "code",
   "execution_count": 4,
   "metadata": {},
   "outputs": [
    {
     "data": {
      "text/plain": [
       "list"
      ]
     },
     "execution_count": 4,
     "metadata": {},
     "output_type": "execute_result"
    }
   ],
   "source": [
    "type(random.sample(range(40), 20))"
   ]
  },
  {
   "cell_type": "markdown",
   "metadata": {},
   "source": [
    "Sampling with replacement"
   ]
  },
  {
   "cell_type": "code",
   "execution_count": 11,
   "metadata": {},
   "outputs": [],
   "source": [
    "shoppers_n = random.choices(range(40), k=20)"
   ]
  },
  {
   "cell_type": "code",
   "execution_count": 16,
   "metadata": {},
   "outputs": [
    {
     "data": {
      "text/plain": [
       "[35, 36, 11, 34, 16, 24, 4, 31, 13, 25, 3, 4, 4, 6, 11, 34, 31, 0, 27, 29]"
      ]
     },
     "execution_count": 16,
     "metadata": {},
     "output_type": "execute_result"
    }
   ],
   "source": [
    "shoppers_n"
   ]
  },
  {
   "cell_type": "code",
   "execution_count": 17,
   "metadata": {},
   "outputs": [
    {
     "name": "stdout",
     "output_type": "stream",
     "text": [
      "Avocado\n",
      "Avocado\n",
      "Beer\n",
      "Wine\n",
      "Avocado\n",
      "Avocado\n",
      "Beer\n",
      "Wine\n",
      "Avocado\n",
      "Wine\n",
      "Avocado\n",
      "Chocolate\n",
      "Beer\n",
      "Wine\n",
      "Avocado\n",
      "Avocado\n",
      "Beer\n",
      "Wine\n",
      "Avocado\n",
      "Wine\n",
      "Avocado\n",
      "Chocolate\n",
      "Beer\n",
      "Wine\n",
      "Avocado\n",
      "Chocolate\n",
      "Beer\n",
      "Wine\n",
      "Avocado\n",
      "Chocolate\n",
      "Beer\n",
      "Wine\n",
      "Avocado\n",
      "Chocolate\n",
      "Beer\n",
      "Wine\n",
      "Avocado\n",
      "Beer\n",
      "Wine\n",
      "Avocado\n",
      "Avocado\n",
      "Avocado\n",
      "Chocolate\n",
      "Beer\n",
      "Wine\n",
      "Avocado\n",
      "Wine\n",
      "Avocado\n",
      "Wine\n",
      "Avocado\n"
     ]
    }
   ],
   "source": [
    "for purchase_price in shoppers_n:\n",
    "    if purchase_price < 10:\n",
    "        print(\"Chocolate\")\n",
    "    if purchase_price < 20:\n",
    "        print(\"Beer\")\n",
    "    if purchase_price < 30:\n",
    "        print(\"Wine\")\n",
    "    if purchase_price < 40:\n",
    "        print(\"Avocado\")"
   ]
  },
  {
   "cell_type": "markdown",
   "metadata": {},
   "source": [
    "Looks weird!\n",
    "All if conditions were executed in each iteration"
   ]
  },
  {
   "cell_type": "code",
   "execution_count": 18,
   "metadata": {},
   "outputs": [
    {
     "name": "stdout",
     "output_type": "stream",
     "text": [
      "Avocado\n",
      "Avocado\n",
      "Beer\n",
      "Avocado\n",
      "Beer\n",
      "Wine\n",
      "Chocolate\n",
      "Avocado\n",
      "Beer\n",
      "Wine\n",
      "Chocolate\n",
      "Chocolate\n",
      "Chocolate\n",
      "Chocolate\n",
      "Beer\n",
      "Avocado\n",
      "Avocado\n",
      "Chocolate\n",
      "Wine\n",
      "Wine\n"
     ]
    }
   ],
   "source": [
    "for purchase_price in shoppers_n:\n",
    "    if purchase_price < 10:\n",
    "        print(\"Chocolate\")\n",
    "    elif purchase_price < 20:\n",
    "        print(\"Beer\")\n",
    "    elif purchase_price < 30:\n",
    "        print(\"Wine\")\n",
    "    elif purchase_price < 40:\n",
    "        print(\"Avocado\")"
   ]
  },
  {
   "cell_type": "markdown",
   "metadata": {},
   "source": [
    "Simplify by not checking for ranges:"
   ]
  },
  {
   "cell_type": "code",
   "execution_count": 19,
   "metadata": {},
   "outputs": [
    {
     "data": {
      "text/plain": [
       "[35, 36, 11, 34, 16, 24, 4, 31, 13, 25, 3, 4, 4, 6, 11, 34, 31, 0, 27, 29]"
      ]
     },
     "execution_count": 19,
     "metadata": {},
     "output_type": "execute_result"
    }
   ],
   "source": [
    "shoppers_n"
   ]
  },
  {
   "cell_type": "code",
   "execution_count": 22,
   "metadata": {},
   "outputs": [
    {
     "data": {
      "text/plain": [
       "3"
      ]
     },
     "execution_count": 22,
     "metadata": {},
     "output_type": "execute_result"
    }
   ],
   "source": [
    "int(shoppers_n[0]/10)"
   ]
  },
  {
   "cell_type": "code",
   "execution_count": 25,
   "metadata": {},
   "outputs": [
    {
     "data": {
      "text/plain": [
       "0"
      ]
     },
     "execution_count": 25,
     "metadata": {},
     "output_type": "execute_result"
    }
   ],
   "source": [
    "int(shoppers_n[6]/10)"
   ]
  },
  {
   "cell_type": "code",
   "execution_count": 26,
   "metadata": {},
   "outputs": [
    {
     "name": "stdout",
     "output_type": "stream",
     "text": [
      "Avocado\n",
      "Avocado\n",
      "Beer\n",
      "Avocado\n",
      "Beer\n",
      "Wine\n",
      "Chocolate\n",
      "Avocado\n",
      "Beer\n",
      "Wine\n",
      "Chocolate\n",
      "Chocolate\n",
      "Chocolate\n",
      "Chocolate\n",
      "Beer\n",
      "Avocado\n",
      "Avocado\n",
      "Chocolate\n",
      "Wine\n",
      "Wine\n"
     ]
    }
   ],
   "source": [
    "for purchase_price in shoppers_n:\n",
    "    purchase_price = int(purchase_price/10)\n",
    "    if purchase_price == 3:\n",
    "        print(\"Avocado\")\n",
    "    elif purchase_price == 2:\n",
    "        print(\"Wine\")\n",
    "    elif purchase_price == 1:\n",
    "        print(\"Beer\")\n",
    "    else:\n",
    "        print(\"Chocolate\")"
   ]
  },
  {
   "cell_type": "code",
   "execution_count": 28,
   "metadata": {},
   "outputs": [
    {
     "name": "stdout",
     "output_type": "stream",
     "text": [
      "Avocado\n",
      "Avocado\n",
      "Beer\n",
      "Avocado\n",
      "Beer\n",
      "Wine\n",
      "Chocolate\n",
      "Avocado\n",
      "Beer\n",
      "Wine\n",
      "Chocolate\n",
      "Chocolate\n",
      "Chocolate\n",
      "Chocolate\n",
      "Beer\n",
      "Avocado\n",
      "Avocado\n",
      "Chocolate\n",
      "Wine\n",
      "Wine\n"
     ]
    }
   ],
   "source": [
    "for purchase_price in shoppers_n:\n",
    "    purchase_price = int(purchase_price/10)\n",
    "    if purchase_price == 3:\n",
    "        print(\"Avocado\")\n",
    "    if purchase_price == 2:\n",
    "        print(\"Wine\")\n",
    "    if purchase_price == 1:\n",
    "        print(\"Beer\")\n",
    "    if purchase_price == 0:\n",
    "        print(\"Chocolate\")"
   ]
  },
  {
   "cell_type": "markdown",
   "metadata": {},
   "source": [
    "Add dicts:"
   ]
  },
  {
   "cell_type": "code",
   "execution_count": 29,
   "metadata": {},
   "outputs": [],
   "source": [
    "rewards = {0: \"Chocolate\",\n",
    "           1: \"Beer\",\n",
    "           2: \"Wine\",\n",
    "           3: \"Avocado\"}"
   ]
  },
  {
   "cell_type": "code",
   "execution_count": 30,
   "metadata": {},
   "outputs": [
    {
     "data": {
      "text/plain": [
       "{0: 'Chocolate', 1: 'Beer', 2: 'Wine', 3: 'Avocado'}"
      ]
     },
     "execution_count": 30,
     "metadata": {},
     "output_type": "execute_result"
    }
   ],
   "source": [
    "rewards"
   ]
  },
  {
   "cell_type": "code",
   "execution_count": 34,
   "metadata": {},
   "outputs": [
    {
     "data": {
      "text/plain": [
       "'Avocado'"
      ]
     },
     "execution_count": 34,
     "metadata": {},
     "output_type": "execute_result"
    }
   ],
   "source": [
    "rewards[3]"
   ]
  },
  {
   "cell_type": "code",
   "execution_count": 36,
   "metadata": {},
   "outputs": [
    {
     "name": "stdout",
     "output_type": "stream",
     "text": [
      "Avocado\n",
      "Avocado\n",
      "Beer\n",
      "Avocado\n",
      "Beer\n",
      "Wine\n",
      "Chocolate\n",
      "Avocado\n",
      "Beer\n",
      "Wine\n",
      "Chocolate\n",
      "Chocolate\n",
      "Chocolate\n",
      "Chocolate\n",
      "Beer\n",
      "Avocado\n",
      "Avocado\n",
      "Chocolate\n",
      "Wine\n",
      "Wine\n"
     ]
    }
   ],
   "source": [
    "for purchase_price in shoppers_n:\n",
    "    purchase_price = int(purchase_price/10)\n",
    "    print(rewards[purchase_price])"
   ]
  },
  {
   "cell_type": "markdown",
   "metadata": {},
   "source": [
    "Storing functions in dicts"
   ]
  },
  {
   "cell_type": "code",
   "execution_count": 37,
   "metadata": {},
   "outputs": [],
   "source": [
    "def print_chocolate():\n",
    "    print(\"Chocolate\")"
   ]
  },
  {
   "cell_type": "code",
   "execution_count": 47,
   "metadata": {},
   "outputs": [
    {
     "name": "stdout",
     "output_type": "stream",
     "text": [
      "Chocolate\n"
     ]
    }
   ],
   "source": [
    "print_chocolate()"
   ]
  },
  {
   "cell_type": "code",
   "execution_count": 39,
   "metadata": {},
   "outputs": [
    {
     "data": {
      "text/plain": [
       "function"
      ]
     },
     "execution_count": 39,
     "metadata": {},
     "output_type": "execute_result"
    }
   ],
   "source": [
    "type(print_chocolate)"
   ]
  },
  {
   "cell_type": "code",
   "execution_count": 40,
   "metadata": {},
   "outputs": [
    {
     "data": {
      "text/plain": [
       "<function __main__.print_chocolate()>"
      ]
     },
     "execution_count": 40,
     "metadata": {},
     "output_type": "execute_result"
    }
   ],
   "source": [
    "print_chocolate"
   ]
  },
  {
   "cell_type": "code",
   "execution_count": 60,
   "metadata": {},
   "outputs": [],
   "source": [
    "def print_beer():\n",
    "    print(\"Beer\")\n",
    "    \n",
    "def print_wine():\n",
    "    print(\"Wine\")\n",
    "    \n",
    "def print_avocado():\n",
    "    print(\"Avocado\")"
   ]
  },
  {
   "cell_type": "code",
   "execution_count": 50,
   "metadata": {},
   "outputs": [],
   "source": [
    "# signature of a function\n",
    "def some_function():\n",
    "    return None"
   ]
  },
  {
   "cell_type": "code",
   "execution_count": 61,
   "metadata": {},
   "outputs": [
    {
     "name": "stdout",
     "output_type": "stream",
     "text": [
      "Beer\n"
     ]
    }
   ],
   "source": [
    "print_beer()"
   ]
  },
  {
   "cell_type": "code",
   "execution_count": 43,
   "metadata": {},
   "outputs": [
    {
     "name": "stdout",
     "output_type": "stream",
     "text": [
      "Chocolate\n",
      "Beer\n",
      "Wine\n",
      "Avocado\n"
     ]
    }
   ],
   "source": [
    "reward_printers = {0: print_chocolate(),\n",
    "                   1: print_beer(),\n",
    "                   2: print_wine(),\n",
    "                   3: print_avocado()}"
   ]
  },
  {
   "cell_type": "code",
   "execution_count": 44,
   "metadata": {},
   "outputs": [
    {
     "data": {
      "text/plain": [
       "{0: None, 1: None, 2: None, 3: None}"
      ]
     },
     "execution_count": 44,
     "metadata": {},
     "output_type": "execute_result"
    }
   ],
   "source": [
    "reward_printers"
   ]
  },
  {
   "cell_type": "code",
   "execution_count": 45,
   "metadata": {},
   "outputs": [],
   "source": [
    "reward_printers = {0: print_chocolate,\n",
    "                   1: print_beer,\n",
    "                   2: print_wine,\n",
    "                   3: print_avocado}"
   ]
  },
  {
   "cell_type": "code",
   "execution_count": 46,
   "metadata": {},
   "outputs": [
    {
     "data": {
      "text/plain": [
       "{0: <function __main__.print_chocolate()>,\n",
       " 1: <function __main__.print_beer()>,\n",
       " 2: <function __main__.print_wine()>,\n",
       " 3: <function __main__.print_avocado()>}"
      ]
     },
     "execution_count": 46,
     "metadata": {},
     "output_type": "execute_result"
    }
   ],
   "source": [
    "reward_printers"
   ]
  },
  {
   "cell_type": "markdown",
   "metadata": {},
   "source": [
    "```python\n",
    "rewards_printers[0]\n",
    "\n",
    "<=>\n",
    "\n",
    "print_chocolate\n",
    "```"
   ]
  },
  {
   "cell_type": "code",
   "execution_count": 55,
   "metadata": {},
   "outputs": [
    {
     "name": "stdout",
     "output_type": "stream",
     "text": [
      "Chocolate\n"
     ]
    }
   ],
   "source": [
    "reward_printers[0]()"
   ]
  },
  {
   "cell_type": "code",
   "execution_count": 62,
   "metadata": {},
   "outputs": [
    {
     "name": "stdout",
     "output_type": "stream",
     "text": [
      "Avocado\n",
      "Avocado\n",
      "Beer\n",
      "Avocado\n",
      "Beer\n",
      "Wine\n",
      "Chocolate\n",
      "Avocado\n",
      "Beer\n",
      "Wine\n",
      "Chocolate\n",
      "Chocolate\n",
      "Chocolate\n",
      "Chocolate\n",
      "Beer\n",
      "Avocado\n",
      "Avocado\n",
      "Chocolate\n",
      "Wine\n",
      "Wine\n"
     ]
    }
   ],
   "source": [
    "for purchase_price in shoppers_n:\n",
    "    purchase_price = int(purchase_price/10)\n",
    "    reward_printers[purchase_price]()"
   ]
  },
  {
   "cell_type": "markdown",
   "metadata": {},
   "source": [
    "## 2. Using `dict`s to keep scores"
   ]
  },
  {
   "cell_type": "code",
   "execution_count": 63,
   "metadata": {},
   "outputs": [],
   "source": [
    "text = \"Fischers Fritz fischt frische Fische\""
   ]
  },
  {
   "cell_type": "code",
   "execution_count": 64,
   "metadata": {},
   "outputs": [
    {
     "data": {
      "text/plain": [
       "'fischers fritz fischt frische fische'"
      ]
     },
     "execution_count": 64,
     "metadata": {},
     "output_type": "execute_result"
    }
   ],
   "source": [
    "# remove case-sensitivity\n",
    "text.lower()"
   ]
  },
  {
   "cell_type": "code",
   "execution_count": 65,
   "metadata": {},
   "outputs": [],
   "source": [
    "d = {\"a\": 1}"
   ]
  },
  {
   "cell_type": "code",
   "execution_count": 66,
   "metadata": {},
   "outputs": [
    {
     "data": {
      "text/plain": [
       "True"
      ]
     },
     "execution_count": 66,
     "metadata": {},
     "output_type": "execute_result"
    }
   ],
   "source": [
    "\"a\" in d"
   ]
  },
  {
   "cell_type": "code",
   "execution_count": 67,
   "metadata": {},
   "outputs": [
    {
     "data": {
      "text/plain": [
       "False"
      ]
     },
     "execution_count": 67,
     "metadata": {},
     "output_type": "execute_result"
    }
   ],
   "source": [
    "\"b\" in d"
   ]
  },
  {
   "cell_type": "code",
   "execution_count": 83,
   "metadata": {},
   "outputs": [],
   "source": [
    "letter_occurences = {}\n",
    "for letter in text.lower():\n",
    "    if letter in letter_occurences:\n",
    "        letter_occurences[letter] = letter_occurences[letter] + 1\n",
    "    else:\n",
    "        letter_occurences[letter] = 1\n"
   ]
  },
  {
   "cell_type": "code",
   "execution_count": 84,
   "metadata": {},
   "outputs": [
    {
     "data": {
      "text/plain": [
       "{'f': 5,\n",
       " 'i': 5,\n",
       " 's': 5,\n",
       " 'c': 4,\n",
       " 'h': 4,\n",
       " 'e': 3,\n",
       " 'r': 3,\n",
       " ' ': 4,\n",
       " 't': 2,\n",
       " 'z': 1}"
      ]
     },
     "execution_count": 84,
     "metadata": {},
     "output_type": "execute_result"
    }
   ],
   "source": [
    "letter_occurences"
   ]
  },
  {
   "cell_type": "code",
   "execution_count": 71,
   "metadata": {},
   "outputs": [
    {
     "data": {
      "text/plain": [
       "{'f': 5,\n",
       " 'i': 5,\n",
       " 's': 5,\n",
       " 'c': 4,\n",
       " 'h': 4,\n",
       " 'e': 3,\n",
       " 'r': 3,\n",
       " ' ': 4,\n",
       " 't': 2,\n",
       " 'z': 1}"
      ]
     },
     "execution_count": 71,
     "metadata": {},
     "output_type": "execute_result"
    }
   ],
   "source": [
    "letter_occurences = {}\n",
    "for letter in text.lower():\n",
    "    if letter in letter_occurences:\n",
    "        # letter_occurences[letter] = letter_occurences[letter] + 1\n",
    "        letter_occurences[letter] += 1\n",
    "    else:\n",
    "        letter_occurences[letter] = 1\n",
    "letter_occurences"
   ]
  }
 ],
 "metadata": {
  "kernelspec": {
   "display_name": "Python 3",
   "language": "python",
   "name": "python3"
  },
  "language_info": {
   "codemirror_mode": {
    "name": "ipython",
    "version": 3
   },
   "file_extension": ".py",
   "mimetype": "text/x-python",
   "name": "python",
   "nbconvert_exporter": "python",
   "pygments_lexer": "ipython3",
   "version": "3.7.6"
  }
 },
 "nbformat": 4,
 "nbformat_minor": 4
}
