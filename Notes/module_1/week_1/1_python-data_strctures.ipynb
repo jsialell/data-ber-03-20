{
 "cells": [
  {
   "cell_type": "markdown",
   "metadata": {},
   "source": [
    "# Data Structures\n",
    "\n",
    "## I. Primitives\n",
    "\n",
    "Examples:\n",
    "```\n",
    "int: 57\n",
    "float: 57.1\n",
    "str: \"foo\"\n",
    "bool: True | False\n",
    "```\n",
    "\n",
    "## II. Collections (or Containers)\n",
    "\n",
    "### [list]:\n",
    "- most used\n",
    "- usually used to store similar object types\n",
    "- queue-like: chaotic gathering of elements/objects that are waiting for something to get done\n",
    "\n",
    "\n",
    "- [] <- brackets\n",
    "- Super-power: **Mutability**\n",
    "    - add/remove\n",
    "    - re-order/sort\n",
    "\n",
    "### {dict}:\n",
    "- \"organized\", \"labeled\"\n",
    "- containers that care about where something is supposed to get stored\n",
    "\n",
    "\n",
    "- {} <- braces\n",
    "- Super-power: **Key-value pairs**\n",
    "\n",
    "### (tuples):\n",
    "- \"strict\"\n",
    "\n",
    "\n",
    "- () <- parentheses (plural), parenthesis (singular)\n",
    "- Super-power: **Immutable**"
   ]
  }
 ],
 "metadata": {
  "kernelspec": {
   "display_name": "Python 3",
   "language": "python",
   "name": "python3"
  },
  "language_info": {
   "codemirror_mode": {
    "name": "ipython",
    "version": 3
   },
   "file_extension": ".py",
   "mimetype": "text/x-python",
   "name": "python",
   "nbconvert_exporter": "python",
   "pygments_lexer": "ipython3",
   "version": "3.7.6"
  }
 },
 "nbformat": 4,
 "nbformat_minor": 4
}
