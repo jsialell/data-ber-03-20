{
 "cells": [
  {
   "cell_type": "markdown",
   "metadata": {},
   "source": [
    "# Python - Strings\n",
    "\n",
    "## 1. String operations\n",
    "\n",
    "Concetanation"
   ]
  },
  {
   "cell_type": "code",
   "execution_count": 1,
   "metadata": {},
   "outputs": [
    {
     "name": "stdout",
     "output_type": "stream",
     "text": [
      "Hello World\n"
     ]
    }
   ],
   "source": [
    "a = \"Hello\"\n",
    "b = \"World\"\n",
    "print(a+\" \"+b)"
   ]
  },
  {
   "cell_type": "code",
   "execution_count": 3,
   "metadata": {},
   "outputs": [
    {
     "data": {
      "text/plain": [
       "'Hello World over the rainbow'"
      ]
     },
     "execution_count": 3,
     "metadata": {},
     "output_type": "execute_result"
    }
   ],
   "source": [
    "c = \"over\"\n",
    "d = \"the\"\n",
    "e = \"rainbow\"\n",
    "com = \" \".join([a,b,c,d,e])\n",
    "com"
   ]
  },
  {
   "cell_type": "markdown",
   "metadata": {},
   "source": [
    "Splitting strings"
   ]
  },
  {
   "cell_type": "code",
   "execution_count": 7,
   "metadata": {},
   "outputs": [
    {
     "data": {
      "text/plain": [
       "['Hello', 'World', 'over', 'the', 'rainbow']"
      ]
     },
     "execution_count": 7,
     "metadata": {},
     "output_type": "execute_result"
    }
   ],
   "source": [
    "com.split(\" \")"
   ]
  },
  {
   "cell_type": "code",
   "execution_count": 8,
   "metadata": {},
   "outputs": [
    {
     "data": {
      "text/plain": [
       "['Hello', 'World', 'over', 'the', 'rainbow']"
      ]
     },
     "execution_count": 8,
     "metadata": {},
     "output_type": "execute_result"
    }
   ],
   "source": [
    "# whitespace is default\n",
    "com.split()"
   ]
  },
  {
   "cell_type": "markdown",
   "metadata": {},
   "source": [
    "Stripping trailing or leading whitespaces"
   ]
  },
  {
   "cell_type": "code",
   "execution_count": 9,
   "metadata": {},
   "outputs": [],
   "source": [
    "f = \" Hello World \"\n",
    "f"
   ]
  },
  {
   "cell_type": "code",
   "execution_count": 11,
   "metadata": {},
   "outputs": [
    {
     "data": {
      "text/plain": [
       "'Hello World'"
      ]
     },
     "execution_count": 11,
     "metadata": {},
     "output_type": "execute_result"
    }
   ],
   "source": [
    "f.strip()"
   ]
  },
  {
   "cell_type": "code",
   "execution_count": 12,
   "metadata": {},
   "outputs": [
    {
     "data": {
      "text/plain": [
       "' Hello World'"
      ]
     },
     "execution_count": 12,
     "metadata": {},
     "output_type": "execute_result"
    }
   ],
   "source": [
    "f.rstrip()"
   ]
  },
  {
   "cell_type": "code",
   "execution_count": 13,
   "metadata": {},
   "outputs": [
    {
     "data": {
      "text/plain": [
       "'Hello World '"
      ]
     },
     "execution_count": 13,
     "metadata": {},
     "output_type": "execute_result"
    }
   ],
   "source": [
    "f.lstrip()"
   ]
  },
  {
   "cell_type": "markdown",
   "metadata": {},
   "source": [
    "Removing case-sensitivity by lowering all characters"
   ]
  },
  {
   "cell_type": "code",
   "execution_count": 15,
   "metadata": {},
   "outputs": [
    {
     "data": {
      "text/plain": [
       "False"
      ]
     },
     "execution_count": 15,
     "metadata": {},
     "output_type": "execute_result"
    }
   ],
   "source": [
    "\"Bird\".startswith(\"i\")"
   ]
  },
  {
   "cell_type": "code",
   "execution_count": 18,
   "metadata": {},
   "outputs": [
    {
     "data": {
      "text/plain": [
       "False"
      ]
     },
     "execution_count": 18,
     "metadata": {},
     "output_type": "execute_result"
    }
   ],
   "source": [
    "\"India\".startswith(\"i\")"
   ]
  },
  {
   "cell_type": "code",
   "execution_count": 21,
   "metadata": {},
   "outputs": [
    {
     "data": {
      "text/plain": [
       "['India', 'ice', 'iris']"
      ]
     },
     "execution_count": 21,
     "metadata": {},
     "output_type": "execute_result"
    }
   ],
   "source": [
    "g = [\"India\", \"ice\", \"Hund\", \"iris\", \"Vogel\"]\n",
    "\n",
    "words_with_i = []\n",
    "for word in g:\n",
    "    if word.lower().startswith(\"i\"):\n",
    "        words_with_i.append(word)\n",
    "        \n",
    "words_with_i"
   ]
  },
  {
   "cell_type": "markdown",
   "metadata": {},
   "source": [
    "Replace characters"
   ]
  },
  {
   "cell_type": "code",
   "execution_count": 25,
   "metadata": {},
   "outputs": [
    {
     "name": "stdout",
     "output_type": "stream",
     "text": [
      "'Is it any wonder?'\n"
     ]
    }
   ],
   "source": [
    "h = \"'Is it any wonder?'\"\n",
    "print(h)"
   ]
  },
  {
   "cell_type": "code",
   "execution_count": 26,
   "metadata": {},
   "outputs": [
    {
     "name": "stdout",
     "output_type": "stream",
     "text": [
      "\"Is it any wonder?\"\n"
     ]
    }
   ],
   "source": [
    "print(\"\\\"Is it any wonder?\\\"\")"
   ]
  },
  {
   "cell_type": "code",
   "execution_count": 29,
   "metadata": {},
   "outputs": [
    {
     "name": "stdout",
     "output_type": "stream",
     "text": [
      "\"Is it any wonder?\"\n"
     ]
    }
   ],
   "source": [
    "print(h.replace(\"'\",'\"'))"
   ]
  },
  {
   "cell_type": "code",
   "execution_count": 30,
   "metadata": {},
   "outputs": [
    {
     "data": {
      "text/plain": [
       "'Hello, World. Who? Me!'"
      ]
     },
     "execution_count": 30,
     "metadata": {},
     "output_type": "execute_result"
    }
   ],
   "source": [
    "text = \"Hello, World. Who? Me!\"\n",
    "text"
   ]
  },
  {
   "cell_type": "code",
   "execution_count": 37,
   "metadata": {},
   "outputs": [
    {
     "data": {
      "text/plain": [
       "'Hello World Who Me'"
      ]
     },
     "execution_count": 37,
     "metadata": {},
     "output_type": "execute_result"
    }
   ],
   "source": [
    "clean = (text\n",
    "         .replace(\",\",\"\")\n",
    "         .replace(\".\",\"\")\n",
    "         .replace(\"?\",\"\")\n",
    "         .replace(\"!\",\"\"))\n",
    "clean"
   ]
  },
  {
   "cell_type": "code",
   "execution_count": 38,
   "metadata": {},
   "outputs": [
    {
     "data": {
      "text/plain": [
       "'Hello World Who Me'"
      ]
     },
     "execution_count": 38,
     "metadata": {},
     "output_type": "execute_result"
    }
   ],
   "source": [
    "signs = \",.?!\"\n",
    "\n",
    "t = text\n",
    "for char in signs:\n",
    "    t = t.replace(char,\"\")\n",
    "t"
   ]
  },
  {
   "cell_type": "markdown",
   "metadata": {},
   "source": [
    "Removing characters by identifying patterns.\n",
    "\n",
    "Remove the last character of each 'word'"
   ]
  },
  {
   "cell_type": "code",
   "execution_count": 40,
   "metadata": {},
   "outputs": [
    {
     "data": {
      "text/plain": [
       "['Hello,', 'World.', 'Who?', 'Me!']"
      ]
     },
     "execution_count": 40,
     "metadata": {},
     "output_type": "execute_result"
    }
   ],
   "source": [
    "text.split(\" \")"
   ]
  },
  {
   "cell_type": "code",
   "execution_count": 41,
   "metadata": {},
   "outputs": [
    {
     "data": {
      "text/plain": [
       "'Instance'"
      ]
     },
     "execution_count": 41,
     "metadata": {},
     "output_type": "execute_result"
    }
   ],
   "source": [
    "\"Instance-\"[:-1]"
   ]
  },
  {
   "cell_type": "code",
   "execution_count": 43,
   "metadata": {},
   "outputs": [
    {
     "data": {
      "text/plain": [
       "'Hello World Who Me'"
      ]
     },
     "execution_count": 43,
     "metadata": {},
     "output_type": "execute_result"
    }
   ],
   "source": [
    "words_only = []\n",
    "for word in text.split(\" \"):\n",
    "    words_only.append(word[:-1])\n",
    "    \n",
    "\" \".join(words_only)"
   ]
  },
  {
   "cell_type": "markdown",
   "metadata": {},
   "source": [
    "Using regex"
   ]
  },
  {
   "cell_type": "code",
   "execution_count": 44,
   "metadata": {},
   "outputs": [],
   "source": [
    "import re"
   ]
  },
  {
   "cell_type": "code",
   "execution_count": 48,
   "metadata": {},
   "outputs": [
    {
     "data": {
      "text/plain": [
       "'Hello World Who Me'"
      ]
     },
     "execution_count": 48,
     "metadata": {},
     "output_type": "execute_result"
    }
   ],
   "source": [
    "word_pattern = r\"\\w+\"\n",
    "\" \".join(re.findall(word_pattern, text))"
   ]
  },
  {
   "cell_type": "code",
   "execution_count": 49,
   "metadata": {},
   "outputs": [
    {
     "data": {
      "text/plain": [
       "'Hello World Who Me'"
      ]
     },
     "execution_count": 49,
     "metadata": {},
     "output_type": "execute_result"
    }
   ],
   "source": [
    "\" \".join(re.findall(r\"\\w+\", text))"
   ]
  },
  {
   "cell_type": "markdown",
   "metadata": {},
   "source": [
    "## 2. String interpolation"
   ]
  },
  {
   "cell_type": "code",
   "execution_count": 50,
   "metadata": {},
   "outputs": [],
   "source": [
    "name = \"Whitney Axel\""
   ]
  },
  {
   "cell_type": "code",
   "execution_count": 53,
   "metadata": {},
   "outputs": [
    {
     "name": "stdout",
     "output_type": "stream",
     "text": [
      "Hi, my name is Whitney Axel\n"
     ]
    }
   ],
   "source": [
    "print(f\"Hi, my name is {name}\")"
   ]
  },
  {
   "cell_type": "code",
   "execution_count": 55,
   "metadata": {},
   "outputs": [
    {
     "name": "stdout",
     "output_type": "stream",
     "text": [
      "Hi, my name is Whitney Axel!\n"
     ]
    }
   ],
   "source": [
    "print(f\"Hi, my name is {name + '!'}\")"
   ]
  },
  {
   "cell_type": "code",
   "execution_count": 56,
   "metadata": {},
   "outputs": [],
   "source": [
    "name = \"Britney Houston\""
   ]
  },
  {
   "cell_type": "code",
   "execution_count": 57,
   "metadata": {},
   "outputs": [
    {
     "name": "stdout",
     "output_type": "stream",
     "text": [
      "Hi, my name is Britney Houston\n"
     ]
    }
   ],
   "source": [
    "print(f\"Hi, my name is {name}\")"
   ]
  },
  {
   "cell_type": "code",
   "execution_count": 59,
   "metadata": {},
   "outputs": [
    {
     "name": "stdout",
     "output_type": "stream",
     "text": [
      "Hi, my names are Britney HoustonBritney HoustonBritney HoustonBritney HoustonBritney Houston\n"
     ]
    }
   ],
   "source": [
    "print(f\"Hi, my names are {name*5}\")"
   ]
  },
  {
   "cell_type": "markdown",
   "metadata": {},
   "source": [
    "Given some table:\n",
    "\n",
    "| name | fruit | quantity |\n",
    "|------|-------|----------|\n",
    "| TC | Lemon | 7000 |\n",
    "| Ilse | Apple | 1 |\n",
    "| Ana | Passionfruit | 10 |\n",
    "| Alejandro | Mango | 33 |"
   ]
  },
  {
   "cell_type": "code",
   "execution_count": 65,
   "metadata": {},
   "outputs": [],
   "source": [
    "fruits = [{\"name\": \"TC\",\n",
    "           \"fruit\": \"Lemon\",\n",
    "           \"quantity\": 7000},\n",
    "          {\"name\": \"Ilse\",\n",
    "           \"fruit\": \"Apple\",\n",
    "           \"quantity\": 1},\n",
    "          {\"name\": \"Ana\",\n",
    "           \"fruit\": \"Passionfruit\",\n",
    "           \"quantity\": 10},\n",
    "          {\"name\": \"Alejandro\",\n",
    "           \"fruit\": \"Mango\",\n",
    "           \"quantity\": 33}]"
   ]
  },
  {
   "cell_type": "code",
   "execution_count": 66,
   "metadata": {},
   "outputs": [
    {
     "data": {
      "text/plain": [
       "[{'name': 'TC', 'fruit': 'Lemon', 'quantity': 7000},\n",
       " {'name': 'Ilse', 'fruit': 'Apple', 'quantity': 1},\n",
       " {'name': 'Ana', 'fruit': 'Passionfruit', 'quantity': 10},\n",
       " {'name': 'Alejandro', 'fruit': 'Mango', 'quantity': 33}]"
      ]
     },
     "execution_count": 66,
     "metadata": {},
     "output_type": "execute_result"
    }
   ],
   "source": [
    "fruits"
   ]
  },
  {
   "cell_type": "code",
   "execution_count": 70,
   "metadata": {},
   "outputs": [
    {
     "name": "stdout",
     "output_type": "stream",
     "text": [
      "TC has 7000 Lemon.\n",
      "Ilse has 1 Apple.\n",
      "Ana has 10 Passionfruit.\n",
      "Alejandro has 33 Mango.\n"
     ]
    }
   ],
   "source": [
    "for student in fruits:\n",
    "    print(f\"{student['name']} has {student['quantity']} {student['fruit']}.\")"
   ]
  },
  {
   "cell_type": "markdown",
   "metadata": {},
   "source": [
    "Add control flow for plural, using a ternary operator"
   ]
  },
  {
   "cell_type": "code",
   "execution_count": 72,
   "metadata": {},
   "outputs": [
    {
     "name": "stdout",
     "output_type": "stream",
     "text": [
      "plural\n"
     ]
    }
   ],
   "source": [
    "a = 10\n",
    "print(\"singular\" if a == 1 else \"plural\")"
   ]
  },
  {
   "cell_type": "code",
   "execution_count": 76,
   "metadata": {},
   "outputs": [
    {
     "name": "stdout",
     "output_type": "stream",
     "text": [
      "TC has 7000 Lemons.\n",
      "Ilse has 1 Apple.\n",
      "Ana has 10 Passionfruits.\n",
      "Alejandro has 33 Mangos.\n"
     ]
    }
   ],
   "source": [
    "for student in fruits:\n",
    "    print(f\"{student['name']} has {student['quantity']} {student['fruit']}\\\n",
    "{'s' if student['quantity'] > 1 else ''}.\")"
   ]
  },
  {
   "cell_type": "code",
   "execution_count": 82,
   "metadata": {},
   "outputs": [
    {
     "name": "stdout",
     "output_type": "stream",
     "text": [
      "TC has 7000 Lemon\n",
      "s.\n",
      "Ilse has 1 Apple\n",
      ".\n",
      "Ana has 10 Passionfruit\n",
      "s.\n",
      "Alejandro has 33 Mango\n",
      "s.\n"
     ]
    }
   ],
   "source": [
    "for student in fruits:\n",
    "    print(f\"\"\"{student['name']} has {student['quantity']} {student['fruit']}\n",
    "{'s' if student['quantity'] > 1 else ''}.\"\"\")"
   ]
  },
  {
   "cell_type": "markdown",
   "metadata": {},
   "source": [
    "Exercise: Use `str.format()`"
   ]
  },
  {
   "cell_type": "markdown",
   "metadata": {},
   "source": [
    "### 2.1. Using string interpolation to debug\n",
    "\n",
    "Iterating over a dictionary"
   ]
  },
  {
   "cell_type": "code",
   "execution_count": 94,
   "metadata": {},
   "outputs": [],
   "source": [
    "ex = {\"tree\": \"leaf\",\n",
    "      \"legume\": \"lentil\",\n",
    "      \"operating system\": \"mac\",\n",
    "      \"animal\": \"panda\"}"
   ]
  },
  {
   "cell_type": "code",
   "execution_count": 99,
   "metadata": {},
   "outputs": [
    {
     "data": {
      "text/plain": [
       "'mac'"
      ]
     },
     "execution_count": 99,
     "metadata": {},
     "output_type": "execute_result"
    }
   ],
   "source": [
    "ex[\"operating system\"]"
   ]
  },
  {
   "cell_type": "code",
   "execution_count": 95,
   "metadata": {},
   "outputs": [
    {
     "data": {
      "text/plain": [
       "dict"
      ]
     },
     "execution_count": 95,
     "metadata": {},
     "output_type": "execute_result"
    }
   ],
   "source": [
    "type(ex)"
   ]
  },
  {
   "cell_type": "code",
   "execution_count": 96,
   "metadata": {},
   "outputs": [
    {
     "data": {
      "text/plain": [
       "{'tree': 'leaf',\n",
       " 'legume': 'lentil',\n",
       " 'operating system': 'mac',\n",
       " 'animal': 'panda'}"
      ]
     },
     "execution_count": 96,
     "metadata": {},
     "output_type": "execute_result"
    }
   ],
   "source": [
    "ex"
   ]
  },
  {
   "cell_type": "code",
   "execution_count": 88,
   "metadata": {},
   "outputs": [
    {
     "name": "stdout",
     "output_type": "stream",
     "text": [
      "9\n",
      "8\n",
      "7\n"
     ]
    }
   ],
   "source": [
    "for i in [9,8,7]:\n",
    "    print(i)"
   ]
  },
  {
   "cell_type": "code",
   "execution_count": 98,
   "metadata": {},
   "outputs": [
    {
     "name": "stdout",
     "output_type": "stream",
     "text": [
      "This is the 1. iteration\n",
      "entry is of type <class 'str'>\n",
      "tree\n",
      "The value is: leaf\n",
      "---------------------\n",
      "\n",
      "This is the 2. iteration\n",
      "entry is of type <class 'str'>\n",
      "legume\n",
      "The value is: lentil\n",
      "---------------------\n",
      "\n",
      "This is the 3. iteration\n",
      "entry is of type <class 'str'>\n",
      "operating system\n",
      "The value is: mac\n",
      "---------------------\n",
      "\n",
      "This is the 4. iteration\n",
      "entry is of type <class 'str'>\n",
      "animal\n",
      "The value is: panda\n",
      "---------------------\n",
      "\n"
     ]
    }
   ],
   "source": [
    "i = 1\n",
    "for entry in ex:\n",
    "    print(f\"This is the {i}. iteration\")\n",
    "    i += 1\n",
    "    print(f\"entry is of type {type(entry)}\")\n",
    "    print(entry)\n",
    "    print(f\"The value is: {ex[entry]}\")\n",
    "    print(\"---------------------\\n\")"
   ]
  },
  {
   "cell_type": "markdown",
   "metadata": {},
   "source": [
    "Alternatively:"
   ]
  },
  {
   "cell_type": "code",
   "execution_count": 100,
   "metadata": {},
   "outputs": [
    {
     "data": {
      "text/plain": [
       "dict_items([('tree', 'leaf'), ('legume', 'lentil'), ('operating system', 'mac'), ('animal', 'panda')])"
      ]
     },
     "execution_count": 100,
     "metadata": {},
     "output_type": "execute_result"
    }
   ],
   "source": [
    "ex.items()"
   ]
  },
  {
   "cell_type": "code",
   "execution_count": 102,
   "metadata": {},
   "outputs": [
    {
     "data": {
      "text/plain": [
       "dict_items"
      ]
     },
     "execution_count": 102,
     "metadata": {},
     "output_type": "execute_result"
    }
   ],
   "source": [
    "type(ex.items())"
   ]
  },
  {
   "cell_type": "code",
   "execution_count": 101,
   "metadata": {},
   "outputs": [
    {
     "data": {
      "text/plain": [
       "[('tree', 'leaf'),\n",
       " ('legume', 'lentil'),\n",
       " ('operating system', 'mac'),\n",
       " ('animal', 'panda')]"
      ]
     },
     "execution_count": 101,
     "metadata": {},
     "output_type": "execute_result"
    }
   ],
   "source": [
    "list(ex.items())"
   ]
  },
  {
   "cell_type": "code",
   "execution_count": 103,
   "metadata": {},
   "outputs": [
    {
     "name": "stdout",
     "output_type": "stream",
     "text": [
      "('tree', 'leaf')\n",
      "('legume', 'lentil')\n",
      "('operating system', 'mac')\n",
      "('animal', 'panda')\n"
     ]
    }
   ],
   "source": [
    "for entry in ex.items():\n",
    "    print(entry)"
   ]
  },
  {
   "cell_type": "code",
   "execution_count": 106,
   "metadata": {},
   "outputs": [
    {
     "name": "stdout",
     "output_type": "stream",
     "text": [
      "1\n",
      "2\n"
     ]
    }
   ],
   "source": [
    "fish = (1,2)\n",
    "print(fish[0])\n",
    "print(fish[1])"
   ]
  },
  {
   "cell_type": "code",
   "execution_count": 107,
   "metadata": {},
   "outputs": [
    {
     "name": "stdout",
     "output_type": "stream",
     "text": [
      "The key is: tree\n",
      "It's value is: leaf\n",
      "The key is: legume\n",
      "It's value is: lentil\n",
      "The key is: operating system\n",
      "It's value is: mac\n",
      "The key is: animal\n",
      "It's value is: panda\n"
     ]
    }
   ],
   "source": [
    "for entry in ex.items():\n",
    "    print(f\"The key is: {entry[0]}\")\n",
    "    print(f\"It's value is: {entry[1]}\")\n",
    "    "
   ]
  },
  {
   "cell_type": "markdown",
   "metadata": {},
   "source": [
    "Using tuple decomposition / tuple unpacking"
   ]
  },
  {
   "cell_type": "code",
   "execution_count": 108,
   "metadata": {},
   "outputs": [
    {
     "data": {
      "text/plain": [
       "(1, 2)"
      ]
     },
     "execution_count": 108,
     "metadata": {},
     "output_type": "execute_result"
    }
   ],
   "source": [
    "fish"
   ]
  },
  {
   "cell_type": "code",
   "execution_count": 109,
   "metadata": {},
   "outputs": [],
   "source": [
    "first_fish, second_fish = fish"
   ]
  },
  {
   "cell_type": "code",
   "execution_count": 115,
   "metadata": {},
   "outputs": [
    {
     "name": "stdout",
     "output_type": "stream",
     "text": [
      "x, y, z\n"
     ]
    }
   ],
   "source": [
    "t = (\"x\", \"y\", \"z\")\n",
    "a = t[0]\n",
    "b = t[1]\n",
    "c = t[2]\n",
    "print(f\"{a}, {b}, {c}\")"
   ]
  },
  {
   "cell_type": "code",
   "execution_count": 116,
   "metadata": {},
   "outputs": [
    {
     "name": "stdout",
     "output_type": "stream",
     "text": [
      "x, y, z\n"
     ]
    }
   ],
   "source": [
    "a, b, c = t\n",
    "print(f\"{a}, {b}, {c}\")"
   ]
  },
  {
   "cell_type": "code",
   "execution_count": 110,
   "metadata": {},
   "outputs": [
    {
     "name": "stdout",
     "output_type": "stream",
     "text": [
      "1\n",
      "2\n"
     ]
    }
   ],
   "source": [
    "print(first_fish)\n",
    "print(second_fish)"
   ]
  },
  {
   "cell_type": "code",
   "execution_count": 111,
   "metadata": {},
   "outputs": [
    {
     "name": "stdout",
     "output_type": "stream",
     "text": [
      "The key is tree\n",
      "It's value is leaf\n",
      "The key is legume\n",
      "It's value is lentil\n",
      "The key is operating system\n",
      "It's value is mac\n",
      "The key is animal\n",
      "It's value is panda\n"
     ]
    }
   ],
   "source": [
    "for key, value in ex.items():\n",
    "    print(f\"The key is {key}\")\n",
    "    print(f\"It's value is {value}\")"
   ]
  },
  {
   "cell_type": "code",
   "execution_count": 118,
   "metadata": {},
   "outputs": [
    {
     "name": "stdout",
     "output_type": "stream",
     "text": [
      "x, y, z\n"
     ]
    }
   ],
   "source": [
    "u = [\"x\", \"y\", \"z\"]\n",
    "d = u[0]\n",
    "e = u[1]\n",
    "f = u[2]\n",
    "print(f\"{d}, {e}, {f}\")"
   ]
  }
 ],
 "metadata": {
  "kernelspec": {
   "display_name": "Python 3",
   "language": "python",
   "name": "python3"
  },
  "language_info": {
   "codemirror_mode": {
    "name": "ipython",
    "version": 3
   },
   "file_extension": ".py",
   "mimetype": "text/x-python",
   "name": "python",
   "nbconvert_exporter": "python",
   "pygments_lexer": "ipython3",
   "version": "3.7.6"
  }
 },
 "nbformat": 4,
 "nbformat_minor": 4
}
