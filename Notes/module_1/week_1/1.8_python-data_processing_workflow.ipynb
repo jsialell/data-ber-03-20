{
 "cells": [
  {
   "cell_type": "markdown",
   "metadata": {},
   "source": [
    "# Data processing\n",
    "(pure python)\n",
    "\n",
    "## 1. Load csv file\n",
    "\n",
    "csv: comma-separated values\n",
    "\n",
    "-> A text-file with comma-separated values"
   ]
  },
  {
   "cell_type": "code",
   "execution_count": 1,
   "metadata": {},
   "outputs": [],
   "source": [
    "import csv"
   ]
  },
  {
   "cell_type": "code",
   "execution_count": 5,
   "metadata": {},
   "outputs": [
    {
     "name": "stdout",
     "output_type": "stream",
     "text": [
      "{'street': '3526 HIGH ST', 'city': 'SACRAMENTO', 'zip': '95838', 'state': 'CA', 'beds': '2', 'baths': '1', 'sq__ft': '836', 'type': 'Residential', 'sale_date': 'Wed May 21 00:00:00 EDT 2008', 'price': '59222', 'latitude': '38.631913', 'longitude': '-121.434879'}\n",
      "------------\n",
      "\n",
      "{'street': '51 OMAHA CT', 'city': 'SACRAMENTO', 'zip': '95823', 'state': 'CA', 'beds': '3', 'baths': '1', 'sq__ft': '1167', 'type': 'Residential', 'sale_date': 'Wed May 21 00:00:00 EDT 2008', 'price': '68212', 'latitude': '38.478902', 'longitude': '-121.431028'}\n",
      "------------\n",
      "\n",
      "{'street': '2796 BRANCH ST', 'city': 'SACRAMENTO', 'zip': '95815', 'state': 'CA', 'beds': '2', 'baths': '1', 'sq__ft': '796', 'type': 'Residential', 'sale_date': 'Wed May 21 00:00:00 EDT 2008', 'price': '68880', 'latitude': '38.618305', 'longitude': '-121.443839'}\n",
      "------------\n",
      "\n",
      "{'street': '2805 JANETTE WAY', 'city': 'SACRAMENTO', 'zip': '95815', 'state': 'CA', 'beds': '2', 'baths': '1', 'sq__ft': '852', 'type': 'Residential', 'sale_date': 'Wed May 21 00:00:00 EDT 2008', 'price': '69307', 'latitude': '38.616835', 'longitude': '-121.439146'}\n",
      "------------\n",
      "\n"
     ]
    }
   ],
   "source": [
    "data = []\n",
    "with open(\"data/Sacramentorealestatetransactions.csv\", \"r\") as csvfile:\n",
    "    real_estate_data = csv.DictReader(csvfile, delimiter=\",\")\n",
    "    i = 0\n",
    "    for row in real_estate_data:\n",
    "        print(dict(row))\n",
    "        print(\"------------\\n\")\n",
    "        if i == 3:\n",
    "            break\n",
    "        i+=1"
   ]
  },
  {
   "cell_type": "code",
   "execution_count": 13,
   "metadata": {},
   "outputs": [],
   "source": [
    "data = []\n",
    "with open(\"data/Sacramentorealestatetransactions.csv\", \"r\") as csvfile:\n",
    "    real_estate_data = csv.DictReader(csvfile, delimiter=\",\")\n",
    "    for row in real_estate_data:\n",
    "        data.append(dict(row))"
   ]
  },
  {
   "cell_type": "code",
   "execution_count": 10,
   "metadata": {},
   "outputs": [
    {
     "data": {
      "text/plain": [
       "list"
      ]
     },
     "execution_count": 10,
     "metadata": {},
     "output_type": "execute_result"
    }
   ],
   "source": [
    "type(data)"
   ]
  },
  {
   "cell_type": "code",
   "execution_count": 11,
   "metadata": {},
   "outputs": [
    {
     "data": {
      "text/plain": [
       "dict"
      ]
     },
     "execution_count": 11,
     "metadata": {},
     "output_type": "execute_result"
    }
   ],
   "source": [
    "type(data[0])"
   ]
  },
  {
   "cell_type": "code",
   "execution_count": 14,
   "metadata": {},
   "outputs": [
    {
     "data": {
      "text/plain": [
       "[{'street': '3526 HIGH ST',\n",
       "  'city': 'SACRAMENTO',\n",
       "  'zip': '95838',\n",
       "  'state': 'CA',\n",
       "  'beds': '2',\n",
       "  'baths': '1',\n",
       "  'sq__ft': '836',\n",
       "  'type': 'Residential',\n",
       "  'sale_date': 'Wed May 21 00:00:00 EDT 2008',\n",
       "  'price': '59222',\n",
       "  'latitude': '38.631913',\n",
       "  'longitude': '-121.434879'},\n",
       " {'street': '51 OMAHA CT',\n",
       "  'city': 'SACRAMENTO',\n",
       "  'zip': '95823',\n",
       "  'state': 'CA',\n",
       "  'beds': '3',\n",
       "  'baths': '1',\n",
       "  'sq__ft': '1167',\n",
       "  'type': 'Residential',\n",
       "  'sale_date': 'Wed May 21 00:00:00 EDT 2008',\n",
       "  'price': '68212',\n",
       "  'latitude': '38.478902',\n",
       "  'longitude': '-121.431028'},\n",
       " {'street': '2796 BRANCH ST',\n",
       "  'city': 'SACRAMENTO',\n",
       "  'zip': '95815',\n",
       "  'state': 'CA',\n",
       "  'beds': '2',\n",
       "  'baths': '1',\n",
       "  'sq__ft': '796',\n",
       "  'type': 'Residential',\n",
       "  'sale_date': 'Wed May 21 00:00:00 EDT 2008',\n",
       "  'price': '68880',\n",
       "  'latitude': '38.618305',\n",
       "  'longitude': '-121.443839'}]"
      ]
     },
     "execution_count": 14,
     "metadata": {},
     "output_type": "execute_result"
    }
   ],
   "source": [
    "data[:3]"
   ]
  },
  {
   "cell_type": "markdown",
   "metadata": {},
   "source": [
    "Tasks:\n",
    "\n",
    "- I. Capitalize 'city'\n",
    "- II. turn 'zip', 'beds', 'baths', 'sq__ft', 'price' into `int`\n",
    "- III. turn 'latitude' and 'longitude' into `float`\n",
    "- IV. rename 'sq__ft' to 'sq_ft'\n",
    "- V. turn 'sale_date' into a 'YYYY-MM-DD' format\n",
    "\n",
    "## 2. Make all those tasks work on 1 observation"
   ]
  },
  {
   "cell_type": "code",
   "execution_count": 17,
   "metadata": {},
   "outputs": [],
   "source": [
    "sample = data[4]"
   ]
  },
  {
   "cell_type": "markdown",
   "metadata": {},
   "source": [
    "### I. Capitalize 'city'"
   ]
  },
  {
   "cell_type": "code",
   "execution_count": 20,
   "metadata": {},
   "outputs": [
    {
     "data": {
      "text/plain": [
       "'Sacramento'"
      ]
     },
     "execution_count": 20,
     "metadata": {},
     "output_type": "execute_result"
    }
   ],
   "source": [
    "sample[\"city\"].capitalize()"
   ]
  },
  {
   "cell_type": "markdown",
   "metadata": {},
   "source": [
    "### II. turn 'zip' into `int`"
   ]
  },
  {
   "cell_type": "code",
   "execution_count": 22,
   "metadata": {},
   "outputs": [
    {
     "data": {
      "text/plain": [
       "95824"
      ]
     },
     "execution_count": 22,
     "metadata": {},
     "output_type": "execute_result"
    }
   ],
   "source": [
    "int(sample[\"zip\"])"
   ]
  },
  {
   "cell_type": "markdown",
   "metadata": {},
   "source": [
    "### II.1 turn the rest into `int`"
   ]
  },
  {
   "cell_type": "code",
   "execution_count": 23,
   "metadata": {},
   "outputs": [
    {
     "data": {
      "text/plain": [
       "[95824, 2, 1, 797, 81900]"
      ]
     },
     "execution_count": 23,
     "metadata": {},
     "output_type": "execute_result"
    }
   ],
   "source": [
    "to_int = [\"zip\", \"beds\", \"baths\", \"sq__ft\", \"price\"]\n",
    "\n",
    "# using list comprehension\n",
    "[int(sample[column]) for column in to_int]"
   ]
  },
  {
   "cell_type": "code",
   "execution_count": 25,
   "metadata": {},
   "outputs": [
    {
     "data": {
      "text/plain": [
       "{'zip': 95824, 'beds': 2, 'baths': 1, 'sq__ft': 797, 'price': 81900}"
      ]
     },
     "execution_count": 25,
     "metadata": {},
     "output_type": "execute_result"
    }
   ],
   "source": [
    "# using dict comprehension\n",
    "{column: int(sample[column]) for column in to_int}"
   ]
  },
  {
   "cell_type": "markdown",
   "metadata": {},
   "source": [
    "### III. turn geocoordinates to `float`"
   ]
  },
  {
   "cell_type": "code",
   "execution_count": 27,
   "metadata": {},
   "outputs": [
    {
     "data": {
      "text/plain": [
       "{'latitude': 38.51947, 'longitude': -121.435768}"
      ]
     },
     "execution_count": 27,
     "metadata": {},
     "output_type": "execute_result"
    }
   ],
   "source": [
    "to_float = [\"latitude\", \"longitude\"]\n",
    "\n",
    "# using dict comprehension\n",
    "{col: float(sample[col]) for col in to_float}"
   ]
  },
  {
   "cell_type": "markdown",
   "metadata": {},
   "source": [
    "### IV. rename 'sq__ft' to 'sq_ft'\n",
    "\n",
    "General: Replace all occurences of \"__\" with \"_\""
   ]
  },
  {
   "cell_type": "code",
   "execution_count": 28,
   "metadata": {},
   "outputs": [
    {
     "data": {
      "text/plain": [
       "dict_keys(['street', 'city', 'zip', 'state', 'beds', 'baths', 'sq__ft', 'type', 'sale_date', 'price', 'latitude', 'longitude'])"
      ]
     },
     "execution_count": 28,
     "metadata": {},
     "output_type": "execute_result"
    }
   ],
   "source": [
    "# accessing keys of a dictionary\n",
    "sample.keys()"
   ]
  },
  {
   "cell_type": "code",
   "execution_count": 29,
   "metadata": {},
   "outputs": [
    {
     "data": {
      "text/plain": [
       "['street',\n",
       " 'city',\n",
       " 'zip',\n",
       " 'state',\n",
       " 'beds',\n",
       " 'baths',\n",
       " 'sq__ft',\n",
       " 'type',\n",
       " 'sale_date',\n",
       " 'price',\n",
       " 'latitude',\n",
       " 'longitude']"
      ]
     },
     "execution_count": 29,
     "metadata": {},
     "output_type": "execute_result"
    }
   ],
   "source": [
    "list(sample.keys())"
   ]
  },
  {
   "cell_type": "code",
   "execution_count": 31,
   "metadata": {},
   "outputs": [
    {
     "data": {
      "text/plain": [
       "True"
      ]
     },
     "execution_count": 31,
     "metadata": {},
     "output_type": "execute_result"
    }
   ],
   "source": [
    "\"__\" in \"ban__abba\""
   ]
  },
  {
   "cell_type": "code",
   "execution_count": 34,
   "metadata": {},
   "outputs": [
    {
     "data": {
      "text/plain": [
       "['street',\n",
       " 'city',\n",
       " 'zip',\n",
       " 'state',\n",
       " 'beds',\n",
       " 'baths',\n",
       " 'sq_ft',\n",
       " 'type',\n",
       " 'sale_date',\n",
       " 'price',\n",
       " 'latitude',\n",
       " 'longitude']"
      ]
     },
     "execution_count": 34,
     "metadata": {},
     "output_type": "execute_result"
    }
   ],
   "source": [
    "[col.replace(\"__\",\"_\") for col in sample.keys()]"
   ]
  },
  {
   "cell_type": "markdown",
   "metadata": {},
   "source": [
    "### V. turn 'sale_date' into 'YYYY-MM-DD' representation"
   ]
  },
  {
   "cell_type": "code",
   "execution_count": 44,
   "metadata": {},
   "outputs": [
    {
     "data": {
      "text/plain": [
       "'Wed May 21 00:00:00 EDT 2008'"
      ]
     },
     "execution_count": 44,
     "metadata": {},
     "output_type": "execute_result"
    }
   ],
   "source": [
    "date = sample[\"sale_date\"]\n",
    "date"
   ]
  },
  {
   "cell_type": "markdown",
   "metadata": {},
   "source": [
    "#### V.I. extract year"
   ]
  },
  {
   "cell_type": "code",
   "execution_count": 46,
   "metadata": {},
   "outputs": [],
   "source": [
    "import re"
   ]
  },
  {
   "cell_type": "code",
   "execution_count": 52,
   "metadata": {},
   "outputs": [
    {
     "data": {
      "text/plain": [
       "'2008'"
      ]
     },
     "execution_count": 52,
     "metadata": {},
     "output_type": "execute_result"
    }
   ],
   "source": [
    "year_pattern = r\"\\d{4}$\"\n",
    "re.findall(year_pattern, date)[0]"
   ]
  },
  {
   "cell_type": "code",
   "execution_count": 53,
   "metadata": {},
   "outputs": [],
   "source": [
    "year, = re.findall(year_pattern, date)"
   ]
  },
  {
   "cell_type": "code",
   "execution_count": 51,
   "metadata": {},
   "outputs": [
    {
     "ename": "ValueError",
     "evalue": "too many values to unpack (expected 1)",
     "output_type": "error",
     "traceback": [
      "\u001b[0;31m---------------------------------------------------------------------------\u001b[0m",
      "\u001b[0;31mValueError\u001b[0m                                Traceback (most recent call last)",
      "\u001b[0;32m<ipython-input-51-d160930f24aa>\u001b[0m in \u001b[0;36m<module>\u001b[0;34m\u001b[0m\n\u001b[0;32m----> 1\u001b[0;31m \u001b[0ma\u001b[0m\u001b[0;34m,\u001b[0m \u001b[0;34m=\u001b[0m \u001b[0;34m[\u001b[0m\u001b[0;36m1\u001b[0m\u001b[0;34m,\u001b[0m\u001b[0;36m2\u001b[0m\u001b[0;34m]\u001b[0m\u001b[0;34m\u001b[0m\u001b[0;34m\u001b[0m\u001b[0m\n\u001b[0m",
      "\u001b[0;31mValueError\u001b[0m: too many values to unpack (expected 1)"
     ]
    }
   ],
   "source": [
    "a, = [1,2]"
   ]
  },
  {
   "cell_type": "code",
   "execution_count": 91,
   "metadata": {},
   "outputs": [
    {
     "data": {
      "text/plain": [
       "'2008'"
      ]
     },
     "execution_count": 91,
     "metadata": {},
     "output_type": "execute_result"
    }
   ],
   "source": [
    "year"
   ]
  },
  {
   "cell_type": "code",
   "execution_count": 55,
   "metadata": {},
   "outputs": [
    {
     "data": {
      "text/plain": [
       "'2008'"
      ]
     },
     "execution_count": 55,
     "metadata": {},
     "output_type": "execute_result"
    }
   ],
   "source": [
    "year_pattern = r\"\\d{4}\\Z\"\n",
    "re.findall(year_pattern, date)[0]"
   ]
  },
  {
   "cell_type": "markdown",
   "metadata": {},
   "source": [
    "#### V.II. extract month"
   ]
  },
  {
   "cell_type": "code",
   "execution_count": 59,
   "metadata": {},
   "outputs": [
    {
     "data": {
      "text/plain": [
       "['Wed', 'May', 'EDT', '200']"
      ]
     },
     "execution_count": 59,
     "metadata": {},
     "output_type": "execute_result"
    }
   ],
   "source": [
    "example = r\"\\w{3}\"\n",
    "re.findall(example, date)"
   ]
  },
  {
   "cell_type": "code",
   "execution_count": 62,
   "metadata": {},
   "outputs": [
    {
     "data": {
      "text/plain": [
       "'May'"
      ]
     },
     "execution_count": 62,
     "metadata": {},
     "output_type": "execute_result"
    }
   ],
   "source": [
    "month_pattern = r\"^\\w{3}\\s(\\w{3})\\s\"\n",
    "re.findall(month_pattern, date)[0]"
   ]
  },
  {
   "cell_type": "markdown",
   "metadata": {},
   "source": [
    "translate string months to month number (MM)"
   ]
  },
  {
   "cell_type": "code",
   "execution_count": 64,
   "metadata": {},
   "outputs": [
    {
     "data": {
      "text/plain": [
       "'05'"
      ]
     },
     "execution_count": 64,
     "metadata": {},
     "output_type": "execute_result"
    }
   ],
   "source": [
    "month_dict = {\"Jan\": \"01\",\n",
    "              \"Feb\": \"02\",\n",
    "              \"Mar\": \"03\",\n",
    "              \"Apr\": \"04\",\n",
    "              \"May\": \"05\"}\n",
    "\n",
    "month_dict[re.findall(month_pattern, date)[0]]"
   ]
  },
  {
   "cell_type": "code",
   "execution_count": 66,
   "metadata": {},
   "outputs": [
    {
     "data": {
      "text/plain": [
       "['Jan',\n",
       " 'Feb',\n",
       " 'Mar',\n",
       " 'Apr',\n",
       " 'May',\n",
       " 'Jun',\n",
       " 'Jul',\n",
       " 'Aug',\n",
       " 'Sep',\n",
       " 'Oct',\n",
       " 'Nov',\n",
       " 'Dec']"
      ]
     },
     "execution_count": 66,
     "metadata": {},
     "output_type": "execute_result"
    }
   ],
   "source": [
    "months = [\"Jan\", \"Feb\", \"Mar\", \"Apr\", \"May\", \"Jun\", \"Jul\", \"Aug\", \"Sep\", \"Oct\", \"Nov\", \"Dec\"]\n",
    "months"
   ]
  },
  {
   "cell_type": "code",
   "execution_count": 73,
   "metadata": {},
   "outputs": [
    {
     "data": {
      "text/plain": [
       "'01'"
      ]
     },
     "execution_count": 73,
     "metadata": {},
     "output_type": "execute_result"
    }
   ],
   "source": [
    "\"0\" + str(months.index(\"Jan\") + 1)"
   ]
  },
  {
   "cell_type": "code",
   "execution_count": 77,
   "metadata": {},
   "outputs": [
    {
     "data": {
      "text/plain": [
       "'May'"
      ]
     },
     "execution_count": 77,
     "metadata": {},
     "output_type": "execute_result"
    }
   ],
   "source": [
    "re.findall(month_pattern, date)[0]"
   ]
  },
  {
   "cell_type": "code",
   "execution_count": 78,
   "metadata": {},
   "outputs": [],
   "source": [
    "month_number = months.index(re.findall(month_pattern, date)[0]) + 1"
   ]
  },
  {
   "cell_type": "code",
   "execution_count": 79,
   "metadata": {},
   "outputs": [
    {
     "data": {
      "text/plain": [
       "5"
      ]
     },
     "execution_count": 79,
     "metadata": {},
     "output_type": "execute_result"
    }
   ],
   "source": [
    "month_number"
   ]
  },
  {
   "cell_type": "code",
   "execution_count": 84,
   "metadata": {},
   "outputs": [
    {
     "data": {
      "text/plain": [
       "'0'"
      ]
     },
     "execution_count": 84,
     "metadata": {},
     "output_type": "execute_result"
    }
   ],
   "source": [
    "# ternary operator\n",
    "\"0\" if month_number < 10 else \"\" + str(month_number)"
   ]
  },
  {
   "cell_type": "code",
   "execution_count": 93,
   "metadata": {},
   "outputs": [],
   "source": [
    "month_no = (\"0\" if month_number < 10 else \"\") + str(month_number)"
   ]
  },
  {
   "cell_type": "markdown",
   "metadata": {},
   "source": [
    "#### V.III. extract day"
   ]
  },
  {
   "cell_type": "code",
   "execution_count": 85,
   "metadata": {},
   "outputs": [
    {
     "data": {
      "text/plain": [
       "'Wed May 21 00:00:00 EDT 2008'"
      ]
     },
     "execution_count": 85,
     "metadata": {},
     "output_type": "execute_result"
    }
   ],
   "source": [
    "date"
   ]
  },
  {
   "cell_type": "code",
   "execution_count": 88,
   "metadata": {},
   "outputs": [],
   "source": [
    "day_pattern = r\"^.{8}(\\d+)\\s\"\n",
    "day = re.findall(day_pattern, date)[0]"
   ]
  },
  {
   "cell_type": "code",
   "execution_count": 89,
   "metadata": {},
   "outputs": [
    {
     "data": {
      "text/plain": [
       "'21'"
      ]
     },
     "execution_count": 89,
     "metadata": {},
     "output_type": "execute_result"
    }
   ],
   "source": [
    "day"
   ]
  },
  {
   "cell_type": "markdown",
   "metadata": {},
   "source": [
    "#### V.IV. Putting them together"
   ]
  },
  {
   "cell_type": "code",
   "execution_count": 92,
   "metadata": {},
   "outputs": [
    {
     "data": {
      "text/plain": [
       "5"
      ]
     },
     "execution_count": 92,
     "metadata": {},
     "output_type": "execute_result"
    }
   ],
   "source": [
    "month_number"
   ]
  },
  {
   "cell_type": "code",
   "execution_count": 94,
   "metadata": {},
   "outputs": [
    {
     "data": {
      "text/plain": [
       "'2008-05-21'"
      ]
     },
     "execution_count": 94,
     "metadata": {},
     "output_type": "execute_result"
    }
   ],
   "source": [
    "year+\"-\"+month_no+\"-\"+day"
   ]
  },
  {
   "cell_type": "markdown",
   "metadata": {},
   "source": [
    "### 3. Create a function for parsing dates"
   ]
  },
  {
   "cell_type": "code",
   "execution_count": 97,
   "metadata": {},
   "outputs": [
    {
     "data": {
      "text/plain": [
       "'Wed May 21 00:00:00 EDT 2008'"
      ]
     },
     "execution_count": 97,
     "metadata": {},
     "output_type": "execute_result"
    }
   ],
   "source": [
    "date"
   ]
  },
  {
   "cell_type": "code",
   "execution_count": 98,
   "metadata": {},
   "outputs": [],
   "source": [
    "def extract_year(date_string):\n",
    "    year_pattern = r\"\\d{4}$\"\n",
    "    year, = re.findall(year_pattern, date_string)\n",
    "    return year"
   ]
  },
  {
   "cell_type": "code",
   "execution_count": 99,
   "metadata": {},
   "outputs": [
    {
     "data": {
      "text/plain": [
       "'2008'"
      ]
     },
     "execution_count": 99,
     "metadata": {},
     "output_type": "execute_result"
    }
   ],
   "source": [
    "extract_year(date)"
   ]
  },
  {
   "cell_type": "code",
   "execution_count": 100,
   "metadata": {},
   "outputs": [],
   "source": [
    "def extract_day(date_string):\n",
    "    day_pattern = r\"^.{8}(\\d+)\\s\"\n",
    "    day, = re.findall(day_pattern, date_string)\n",
    "    return day"
   ]
  },
  {
   "cell_type": "code",
   "execution_count": 101,
   "metadata": {},
   "outputs": [
    {
     "data": {
      "text/plain": [
       "'21'"
      ]
     },
     "execution_count": 101,
     "metadata": {},
     "output_type": "execute_result"
    }
   ],
   "source": [
    "extract_day(date)"
   ]
  },
  {
   "cell_type": "code",
   "execution_count": 102,
   "metadata": {},
   "outputs": [],
   "source": [
    "def extract_month(date_string):\n",
    "    month_pattern = r\"^\\w{3}\\s(\\w{3})\\s\"\n",
    "    month_string, = re.findall(month_pattern, date_string)\n",
    "    \n",
    "    # translate string to MM representation\n",
    "    months = [\"Jan\", \"Feb\", \"Mar\", \"Apr\", \"May\", \"Jun\", \"Jul\", \"Aug\", \"Sep\", \"Oct\", \"Nov\", \"Dec\"]\n",
    "    month_number = months.index(month_string) + 1\n",
    "    month_no = (\"0\" if month_number < 10 else \"\") + str(month_number)\n",
    "    return month_no"
   ]
  },
  {
   "cell_type": "code",
   "execution_count": 103,
   "metadata": {},
   "outputs": [
    {
     "data": {
      "text/plain": [
       "'05'"
      ]
     },
     "execution_count": 103,
     "metadata": {},
     "output_type": "execute_result"
    }
   ],
   "source": [
    "extract_month(date)"
   ]
  },
  {
   "cell_type": "code",
   "execution_count": 104,
   "metadata": {},
   "outputs": [],
   "source": [
    "def extract_date(date_string):\n",
    "    return \"-\".join([extract_year(date_string), extract_month(date_string), extract_day(date_string)])"
   ]
  },
  {
   "cell_type": "code",
   "execution_count": 105,
   "metadata": {},
   "outputs": [
    {
     "data": {
      "text/plain": [
       "'2008-05-21'"
      ]
     },
     "execution_count": 105,
     "metadata": {},
     "output_type": "execute_result"
    }
   ],
   "source": [
    "extract_date(date)"
   ]
  },
  {
   "cell_type": "markdown",
   "metadata": {},
   "source": [
    "## 4. Create a function that processes a row"
   ]
  },
  {
   "cell_type": "code",
   "execution_count": 106,
   "metadata": {},
   "outputs": [
    {
     "data": {
      "text/plain": [
       "{'street': '6001 MCMAHON DR',\n",
       " 'city': 'SACRAMENTO',\n",
       " 'zip': '95824',\n",
       " 'state': 'CA',\n",
       " 'beds': '2',\n",
       " 'baths': '1',\n",
       " 'sq__ft': '797',\n",
       " 'type': 'Residential',\n",
       " 'sale_date': 'Wed May 21 00:00:00 EDT 2008',\n",
       " 'price': '81900',\n",
       " 'latitude': '38.51947',\n",
       " 'longitude': '-121.435768'}"
      ]
     },
     "execution_count": 106,
     "metadata": {},
     "output_type": "execute_result"
    }
   ],
   "source": [
    "sample"
   ]
  },
  {
   "cell_type": "markdown",
   "metadata": {},
   "source": [
    "create a dictionary that applies a function to the corresponding key (column)"
   ]
  },
  {
   "cell_type": "code",
   "execution_count": 107,
   "metadata": {},
   "outputs": [],
   "source": [
    "conversions = {\"city\": lambda x: x.capitalize(),\n",
    "               \"zip\": lambda x: int(x),\n",
    "               \"beds\": lambda x: int(x),\n",
    "               \"price\": lambda x: int(x),\n",
    "               \"baths\": lambda x: int(x),\n",
    "               \"sq__ft\": lambda x: int(x),\n",
    "               \"latitude\": lambda x: float(x),\n",
    "               \"longitude\": lambda x: float(x),\n",
    "               \"sale_date\": extract_date,}"
   ]
  },
  {
   "cell_type": "code",
   "execution_count": 113,
   "metadata": {},
   "outputs": [],
   "source": [
    "conversions = {\"city\": lambda x: x.capitalize(),\n",
    "               \"zip\": int,\n",
    "               \"beds\": int,\n",
    "               \"price\": int,\n",
    "               \"baths\": int,\n",
    "               \"sq__ft\": int,\n",
    "               \"latitude\": float,\n",
    "               \"longitude\": float,\n",
    "               \"sale_date\": extract_date,}"
   ]
  },
  {
   "cell_type": "code",
   "execution_count": 108,
   "metadata": {},
   "outputs": [
    {
     "data": {
      "text/plain": [
       "{'street': '6001 MCMAHON DR',\n",
       " 'city': 'SACRAMENTO',\n",
       " 'zip': '95824',\n",
       " 'state': 'CA',\n",
       " 'beds': '2',\n",
       " 'baths': '1',\n",
       " 'sq__ft': '797',\n",
       " 'type': 'Residential',\n",
       " 'sale_date': 'Wed May 21 00:00:00 EDT 2008',\n",
       " 'price': '81900',\n",
       " 'latitude': '38.51947',\n",
       " 'longitude': '-121.435768'}"
      ]
     },
     "execution_count": 108,
     "metadata": {},
     "output_type": "execute_result"
    }
   ],
   "source": [
    "sample"
   ]
  },
  {
   "cell_type": "code",
   "execution_count": 114,
   "metadata": {},
   "outputs": [],
   "source": [
    "new_row = {}\n",
    "\n",
    "for key, value in sample.items():\n",
    "    if key in conversions:\n",
    "        new_row[key] = conversions[key](value)\n",
    "    else:\n",
    "        new_row[key] = value"
   ]
  },
  {
   "cell_type": "code",
   "execution_count": 115,
   "metadata": {},
   "outputs": [
    {
     "data": {
      "text/plain": [
       "{'street': '6001 MCMAHON DR',\n",
       " 'city': 'Sacramento',\n",
       " 'zip': 95824,\n",
       " 'state': 'CA',\n",
       " 'beds': 2,\n",
       " 'baths': 1,\n",
       " 'sq__ft': 797,\n",
       " 'type': 'Residential',\n",
       " 'sale_date': '2008-05-21',\n",
       " 'price': 81900,\n",
       " 'latitude': 38.51947,\n",
       " 'longitude': -121.435768}"
      ]
     },
     "execution_count": 115,
     "metadata": {},
     "output_type": "execute_result"
    }
   ],
   "source": [
    "new_row"
   ]
  },
  {
   "cell_type": "code",
   "execution_count": 120,
   "metadata": {},
   "outputs": [],
   "source": [
    "conversions = {\"city\": lambda x: x.capitalize(),\n",
    "               \"zip\": int,\n",
    "               \"beds\": int,\n",
    "               \"price\": int,\n",
    "               \"baths\": int,\n",
    "               \"sq__ft\": int,\n",
    "               \"latitude\": float,\n",
    "               \"longitude\": float,\n",
    "               \"sale_date\": extract_date,}\n",
    "\n",
    "def process_row(row, conversion_mapping):\n",
    "    new_row = {}\n",
    "\n",
    "    for key, value in row.items():\n",
    "        if key in conversion_mapping:\n",
    "            new_row[key.replace(\"__\",\"_\")] = conversion_mapping[key](value)\n",
    "        else:\n",
    "            new_row[key.replace(\"__\",\"_\")] = value\n",
    "            \n",
    "    return new_row"
   ]
  },
  {
   "cell_type": "code",
   "execution_count": 121,
   "metadata": {},
   "outputs": [
    {
     "data": {
      "text/plain": [
       "{'street': '6001 MCMAHON DR',\n",
       " 'city': 'Sacramento',\n",
       " 'zip': 95824,\n",
       " 'state': 'CA',\n",
       " 'beds': 2,\n",
       " 'baths': 1,\n",
       " 'sq_ft': 797,\n",
       " 'type': 'Residential',\n",
       " 'sale_date': '2008-05-21',\n",
       " 'price': 81900,\n",
       " 'latitude': 38.51947,\n",
       " 'longitude': -121.435768}"
      ]
     },
     "execution_count": 121,
     "metadata": {},
     "output_type": "execute_result"
    }
   ],
   "source": [
    "process_row(sample, conversions)"
   ]
  },
  {
   "cell_type": "markdown",
   "metadata": {},
   "source": [
    "## 5. Process all rows"
   ]
  },
  {
   "cell_type": "code",
   "execution_count": 123,
   "metadata": {},
   "outputs": [
    {
     "data": {
      "text/plain": [
       "[{'street': '3526 HIGH ST',\n",
       "  'city': 'SACRAMENTO',\n",
       "  'zip': '95838',\n",
       "  'state': 'CA',\n",
       "  'beds': '2',\n",
       "  'baths': '1',\n",
       "  'sq__ft': '836',\n",
       "  'type': 'Residential',\n",
       "  'sale_date': 'Wed May 21 00:00:00 EDT 2008',\n",
       "  'price': '59222',\n",
       "  'latitude': '38.631913',\n",
       "  'longitude': '-121.434879'},\n",
       " {'street': '51 OMAHA CT',\n",
       "  'city': 'SACRAMENTO',\n",
       "  'zip': '95823',\n",
       "  'state': 'CA',\n",
       "  'beds': '3',\n",
       "  'baths': '1',\n",
       "  'sq__ft': '1167',\n",
       "  'type': 'Residential',\n",
       "  'sale_date': 'Wed May 21 00:00:00 EDT 2008',\n",
       "  'price': '68212',\n",
       "  'latitude': '38.478902',\n",
       "  'longitude': '-121.431028'},\n",
       " {'street': '2796 BRANCH ST',\n",
       "  'city': 'SACRAMENTO',\n",
       "  'zip': '95815',\n",
       "  'state': 'CA',\n",
       "  'beds': '2',\n",
       "  'baths': '1',\n",
       "  'sq__ft': '796',\n",
       "  'type': 'Residential',\n",
       "  'sale_date': 'Wed May 21 00:00:00 EDT 2008',\n",
       "  'price': '68880',\n",
       "  'latitude': '38.618305',\n",
       "  'longitude': '-121.443839'}]"
      ]
     },
     "execution_count": 123,
     "metadata": {},
     "output_type": "execute_result"
    }
   ],
   "source": [
    "data[:3]"
   ]
  },
  {
   "cell_type": "code",
   "execution_count": 127,
   "metadata": {},
   "outputs": [],
   "source": [
    "clean = [process_row(row, conversions) for row in data]"
   ]
  },
  {
   "cell_type": "markdown",
   "metadata": {},
   "source": [
    "## 6. Write processed dataset to a csv"
   ]
  },
  {
   "cell_type": "code",
   "execution_count": 130,
   "metadata": {},
   "outputs": [
    {
     "data": {
      "text/plain": [
       "dict_keys(['street', 'city', 'zip', 'state', 'beds', 'baths', 'sq_ft', 'type', 'sale_date', 'price', 'latitude', 'longitude'])"
      ]
     },
     "execution_count": 130,
     "metadata": {},
     "output_type": "execute_result"
    }
   ],
   "source": [
    "clean[0].keys()"
   ]
  },
  {
   "cell_type": "code",
   "execution_count": 133,
   "metadata": {},
   "outputs": [],
   "source": [
    "with open(\"data/sacramento_clean.csv\", \"w\") as outfile:\n",
    "    fieldnames = list(clean[0].keys())\n",
    "    writer = csv.DictWriter(outfile, fieldnames=fieldnames)\n",
    "    \n",
    "    writer.writeheader()\n",
    "    for row in clean:\n",
    "        writer.writerow(row)"
   ]
  }
 ],
 "metadata": {
  "kernelspec": {
   "display_name": "Python 3",
   "language": "python",
   "name": "python3"
  },
  "language_info": {
   "codemirror_mode": {
    "name": "ipython",
    "version": 3
   },
   "file_extension": ".py",
   "mimetype": "text/x-python",
   "name": "python",
   "nbconvert_exporter": "python",
   "pygments_lexer": "ipython3",
   "version": "3.7.6"
  }
 },
 "nbformat": 4,
 "nbformat_minor": 4
}
