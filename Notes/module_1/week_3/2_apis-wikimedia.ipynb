{
 "cells": [
  {
   "cell_type": "code",
   "execution_count": 2,
   "metadata": {},
   "outputs": [],
   "source": [
    "import pandas as pd\n",
    "import requests\n",
    "import json\n",
    "import matplotlib\n",
    "%matplotlib inline"
   ]
  },
  {
   "cell_type": "markdown",
   "metadata": {},
   "source": [
    "# (REST) APIs - Wikimedia Stats"
   ]
  },
  {
   "cell_type": "code",
   "execution_count": 3,
   "metadata": {},
   "outputs": [],
   "source": [
    "url = \"https://wikimedia.org/api/rest_v1/metrics/pageviews/aggregate/en.wikipedia.org/all-access/all-agents/daily/20180101/20191231\"\n",
    "headers = {\"accept\": \"application/json\"}"
   ]
  },
  {
   "cell_type": "code",
   "execution_count": 6,
   "metadata": {},
   "outputs": [
    {
     "data": {
      "text/plain": [
       "dict"
      ]
     },
     "execution_count": 6,
     "metadata": {},
     "output_type": "execute_result"
    }
   ],
   "source": [
    "type(headers)"
   ]
  },
  {
   "cell_type": "code",
   "execution_count": 9,
   "metadata": {},
   "outputs": [
    {
     "data": {
      "text/plain": [
       "'{\"accept\": \"application/json\"}'"
      ]
     },
     "execution_count": 9,
     "metadata": {},
     "output_type": "execute_result"
    }
   ],
   "source": [
    "json.dumps(headers)"
   ]
  },
  {
   "cell_type": "code",
   "execution_count": 15,
   "metadata": {},
   "outputs": [],
   "source": [
    "r = requests.get(url)"
   ]
  },
  {
   "cell_type": "code",
   "execution_count": 16,
   "metadata": {},
   "outputs": [
    {
     "data": {
      "text/plain": [
       "200"
      ]
     },
     "execution_count": 16,
     "metadata": {},
     "output_type": "execute_result"
    }
   ],
   "source": [
    "r.status_code"
   ]
  },
  {
   "cell_type": "code",
   "execution_count": 17,
   "metadata": {},
   "outputs": [
    {
     "data": {
      "text/plain": [
       "{'cache-control': 's-maxage=86400, max-age=86400', 'content-type': 'application/json; charset=utf-8', 'x-request-id': 'd3f79caf-6553-4fad-acb1-7fda99499a62', 'server': 'restbase1023', 'date': 'Tue, 07 Apr 2020 07:58:49 GMT', 'access-control-allow-origin': '*', 'access-control-allow-methods': 'GET,HEAD', 'access-control-allow-headers': 'accept, content-type, content-length, cache-control, accept-language, api-user-agent, if-match, if-modified-since, if-none-match, dnt, accept-encoding', 'access-control-expose-headers': 'etag', 'x-content-type-options': 'nosniff', 'x-frame-options': 'SAMEORIGIN', 'referrer-policy': 'origin-when-cross-origin', 'x-xss-protection': '1; mode=block', 'content-security-policy': \"default-src 'none'; frame-ancestors 'none'\", 'x-content-security-policy': \"default-src 'none'; frame-ancestors 'none'\", 'x-webkit-csp': \"default-src 'none'; frame-ancestors 'none'\", 'Content-Encoding': 'gzip', 'Vary': 'Accept-Encoding', 'Age': '1448', 'X-Cache': 'cp3056 miss, cp3062 hit/6', 'X-Cache-Status': 'hit-front', 'Server-Timing': 'cache;desc=\"hit-front\"', 'Strict-Transport-Security': 'max-age=106384710; includeSubDomains; preload', 'Set-Cookie': 'WMF-Last-Access=07-Apr-2020;Path=/;HttpOnly;secure;Expires=Sat, 09 May 2020 00:00:00 GMT, WMF-Last-Access-Global=07-Apr-2020;Path=/;Domain=.wikimedia.org;HttpOnly;secure;Expires=Sat, 09 May 2020 00:00:00 GMT, GeoIP=DE:NW:Leverkusen:51.05:7.01:v4; Path=/; secure; Domain=.wikimedia.org', 'X-Client-IP': '89.204.154.253', 'Accept-Ranges': 'bytes', 'Content-Length': '6357', 'Connection': 'keep-alive'}"
      ]
     },
     "execution_count": 17,
     "metadata": {},
     "output_type": "execute_result"
    }
   ],
   "source": [
    "r.headers"
   ]
  },
  {
   "cell_type": "code",
   "execution_count": 19,
   "metadata": {},
   "outputs": [
    {
     "data": {
      "text/plain": [
       "str"
      ]
     },
     "execution_count": 19,
     "metadata": {},
     "output_type": "execute_result"
    }
   ],
   "source": [
    "type(r.text)"
   ]
  },
  {
   "cell_type": "code",
   "execution_count": 21,
   "metadata": {},
   "outputs": [
    {
     "data": {
      "text/plain": [
       "dict"
      ]
     },
     "execution_count": 21,
     "metadata": {},
     "output_type": "execute_result"
    }
   ],
   "source": [
    "type(r.json())"
   ]
  },
  {
   "cell_type": "code",
   "execution_count": 23,
   "metadata": {},
   "outputs": [
    {
     "data": {
      "text/plain": [
       "dict_keys(['items'])"
      ]
     },
     "execution_count": 23,
     "metadata": {},
     "output_type": "execute_result"
    }
   ],
   "source": [
    "r.json().keys()"
   ]
  },
  {
   "cell_type": "code",
   "execution_count": 26,
   "metadata": {},
   "outputs": [],
   "source": [
    "wikistats = r.json()[\"items\"]"
   ]
  },
  {
   "cell_type": "code",
   "execution_count": 34,
   "metadata": {},
   "outputs": [
    {
     "data": {
      "text/plain": [
       "[{'project': 'en.wikipedia',\n",
       "  'access': 'all-access',\n",
       "  'agent': 'all-agents',\n",
       "  'granularity': 'daily',\n",
       "  'timestamp': '2018010100',\n",
       "  'views': 302828330},\n",
       " {'project': 'en.wikipedia',\n",
       "  'access': 'all-access',\n",
       "  'agent': 'all-agents',\n",
       "  'granularity': 'daily',\n",
       "  'timestamp': '2018010200',\n",
       "  'views': 319485738},\n",
       " {'project': 'en.wikipedia',\n",
       "  'access': 'all-access',\n",
       "  'agent': 'all-agents',\n",
       "  'granularity': 'daily',\n",
       "  'timestamp': '2018010300',\n",
       "  'views': 322019675}]"
      ]
     },
     "execution_count": 34,
     "metadata": {},
     "output_type": "execute_result"
    }
   ],
   "source": [
    "wikistats[:3]"
   ]
  },
  {
   "cell_type": "code",
   "execution_count": 27,
   "metadata": {},
   "outputs": [
    {
     "data": {
      "text/html": [
       "<div>\n",
       "<style scoped>\n",
       "    .dataframe tbody tr th:only-of-type {\n",
       "        vertical-align: middle;\n",
       "    }\n",
       "\n",
       "    .dataframe tbody tr th {\n",
       "        vertical-align: top;\n",
       "    }\n",
       "\n",
       "    .dataframe thead th {\n",
       "        text-align: right;\n",
       "    }\n",
       "</style>\n",
       "<table border=\"1\" class=\"dataframe\">\n",
       "  <thead>\n",
       "    <tr style=\"text-align: right;\">\n",
       "      <th></th>\n",
       "      <th>project</th>\n",
       "      <th>access</th>\n",
       "      <th>agent</th>\n",
       "      <th>granularity</th>\n",
       "      <th>timestamp</th>\n",
       "      <th>views</th>\n",
       "    </tr>\n",
       "  </thead>\n",
       "  <tbody>\n",
       "    <tr>\n",
       "      <th>0</th>\n",
       "      <td>en.wikipedia</td>\n",
       "      <td>all-access</td>\n",
       "      <td>all-agents</td>\n",
       "      <td>daily</td>\n",
       "      <td>2018010100</td>\n",
       "      <td>302828330</td>\n",
       "    </tr>\n",
       "    <tr>\n",
       "      <th>1</th>\n",
       "      <td>en.wikipedia</td>\n",
       "      <td>all-access</td>\n",
       "      <td>all-agents</td>\n",
       "      <td>daily</td>\n",
       "      <td>2018010200</td>\n",
       "      <td>319485738</td>\n",
       "    </tr>\n",
       "    <tr>\n",
       "      <th>2</th>\n",
       "      <td>en.wikipedia</td>\n",
       "      <td>all-access</td>\n",
       "      <td>all-agents</td>\n",
       "      <td>daily</td>\n",
       "      <td>2018010300</td>\n",
       "      <td>322019675</td>\n",
       "    </tr>\n",
       "    <tr>\n",
       "      <th>3</th>\n",
       "      <td>en.wikipedia</td>\n",
       "      <td>all-access</td>\n",
       "      <td>all-agents</td>\n",
       "      <td>daily</td>\n",
       "      <td>2018010400</td>\n",
       "      <td>314645741</td>\n",
       "    </tr>\n",
       "    <tr>\n",
       "      <th>4</th>\n",
       "      <td>en.wikipedia</td>\n",
       "      <td>all-access</td>\n",
       "      <td>all-agents</td>\n",
       "      <td>daily</td>\n",
       "      <td>2018010500</td>\n",
       "      <td>310155899</td>\n",
       "    </tr>\n",
       "  </tbody>\n",
       "</table>\n",
       "</div>"
      ],
      "text/plain": [
       "        project      access       agent granularity   timestamp      views\n",
       "0  en.wikipedia  all-access  all-agents       daily  2018010100  302828330\n",
       "1  en.wikipedia  all-access  all-agents       daily  2018010200  319485738\n",
       "2  en.wikipedia  all-access  all-agents       daily  2018010300  322019675\n",
       "3  en.wikipedia  all-access  all-agents       daily  2018010400  314645741\n",
       "4  en.wikipedia  all-access  all-agents       daily  2018010500  310155899"
      ]
     },
     "execution_count": 27,
     "metadata": {},
     "output_type": "execute_result"
    }
   ],
   "source": [
    "df = pd.DataFrame(wikistats)\n",
    "df.head()"
   ]
  },
  {
   "cell_type": "code",
   "execution_count": 50,
   "metadata": {},
   "outputs": [],
   "source": [
    "def wiki_to_df(url):\n",
    "    headers = {\"accept\": \"application/json\"}\n",
    "    response = requests.get(url)\n",
    "    if response.status_code == 200:\n",
    "        wikistats = response.json()[\"items\"]\n",
    "        df = pd.DataFrame(wikistats)\n",
    "        df[\"timestamp\"] = pd.to_datetime(df[\"timestamp\"], format=\"%Y%m%d%H\")\n",
    "        return df\n",
    "    else:\n",
    "        print(\"No success!\")"
   ]
  },
  {
   "cell_type": "code",
   "execution_count": 31,
   "metadata": {},
   "outputs": [
    {
     "data": {
      "text/plain": [
       "project        object\n",
       "access         object\n",
       "agent          object\n",
       "granularity    object\n",
       "timestamp      object\n",
       "views           int64\n",
       "dtype: object"
      ]
     },
     "execution_count": 31,
     "metadata": {},
     "output_type": "execute_result"
    }
   ],
   "source": [
    "df.dtypes"
   ]
  },
  {
   "cell_type": "code",
   "execution_count": 45,
   "metadata": {},
   "outputs": [
    {
     "data": {
      "text/plain": [
       "0     2018-01-01\n",
       "1     2018-01-02\n",
       "2     2018-01-03\n",
       "3     2018-01-04\n",
       "4     2018-01-05\n",
       "         ...    \n",
       "725   2019-12-27\n",
       "726   2019-12-28\n",
       "727   2019-12-29\n",
       "728   2019-12-30\n",
       "729   2019-12-31\n",
       "Name: timestamp, Length: 730, dtype: datetime64[ns]"
      ]
     },
     "execution_count": 45,
     "metadata": {},
     "output_type": "execute_result"
    }
   ],
   "source": [
    "pd.to_datetime(df[\"timestamp\"].str.slice(stop=-2))"
   ]
  },
  {
   "cell_type": "code",
   "execution_count": 47,
   "metadata": {},
   "outputs": [],
   "source": [
    "df[\"timestamp\"] = pd.to_datetime(df[\"timestamp\"], format=\"%Y%m%d%H\")"
   ]
  },
  {
   "cell_type": "code",
   "execution_count": 48,
   "metadata": {},
   "outputs": [
    {
     "data": {
      "text/plain": [
       "project                object\n",
       "access                 object\n",
       "agent                  object\n",
       "granularity            object\n",
       "timestamp      datetime64[ns]\n",
       "views                   int64\n",
       "dtype: object"
      ]
     },
     "execution_count": 48,
     "metadata": {},
     "output_type": "execute_result"
    }
   ],
   "source": [
    "df.dtypes"
   ]
  },
  {
   "cell_type": "markdown",
   "metadata": {},
   "source": [
    "Get data on a more granular level:\n",
    "\n",
    "Wikimedia stats API offers more options. That is, pageview by\n",
    "- (day)\n",
    "- I. access type\n",
    "- II. agent type\n",
    "\n",
    "### I. by access type"
   ]
  },
  {
   "cell_type": "code",
   "execution_count": 51,
   "metadata": {},
   "outputs": [
    {
     "data": {
      "text/html": [
       "<div>\n",
       "<style scoped>\n",
       "    .dataframe tbody tr th:only-of-type {\n",
       "        vertical-align: middle;\n",
       "    }\n",
       "\n",
       "    .dataframe tbody tr th {\n",
       "        vertical-align: top;\n",
       "    }\n",
       "\n",
       "    .dataframe thead th {\n",
       "        text-align: right;\n",
       "    }\n",
       "</style>\n",
       "<table border=\"1\" class=\"dataframe\">\n",
       "  <thead>\n",
       "    <tr style=\"text-align: right;\">\n",
       "      <th></th>\n",
       "      <th>project</th>\n",
       "      <th>access</th>\n",
       "      <th>agent</th>\n",
       "      <th>granularity</th>\n",
       "      <th>timestamp</th>\n",
       "      <th>views</th>\n",
       "    </tr>\n",
       "  </thead>\n",
       "  <tbody>\n",
       "    <tr>\n",
       "      <th>0</th>\n",
       "      <td>en.wikipedia</td>\n",
       "      <td>desktop</td>\n",
       "      <td>all-agents</td>\n",
       "      <td>daily</td>\n",
       "      <td>2018-01-01</td>\n",
       "      <td>149207888</td>\n",
       "    </tr>\n",
       "    <tr>\n",
       "      <th>1</th>\n",
       "      <td>en.wikipedia</td>\n",
       "      <td>desktop</td>\n",
       "      <td>all-agents</td>\n",
       "      <td>daily</td>\n",
       "      <td>2018-01-02</td>\n",
       "      <td>176949374</td>\n",
       "    </tr>\n",
       "    <tr>\n",
       "      <th>2</th>\n",
       "      <td>en.wikipedia</td>\n",
       "      <td>desktop</td>\n",
       "      <td>all-agents</td>\n",
       "      <td>daily</td>\n",
       "      <td>2018-01-03</td>\n",
       "      <td>189221424</td>\n",
       "    </tr>\n",
       "    <tr>\n",
       "      <th>3</th>\n",
       "      <td>en.wikipedia</td>\n",
       "      <td>desktop</td>\n",
       "      <td>all-agents</td>\n",
       "      <td>daily</td>\n",
       "      <td>2018-01-04</td>\n",
       "      <td>181752882</td>\n",
       "    </tr>\n",
       "    <tr>\n",
       "      <th>4</th>\n",
       "      <td>en.wikipedia</td>\n",
       "      <td>desktop</td>\n",
       "      <td>all-agents</td>\n",
       "      <td>daily</td>\n",
       "      <td>2018-01-05</td>\n",
       "      <td>177118102</td>\n",
       "    </tr>\n",
       "    <tr>\n",
       "      <th>...</th>\n",
       "      <td>...</td>\n",
       "      <td>...</td>\n",
       "      <td>...</td>\n",
       "      <td>...</td>\n",
       "      <td>...</td>\n",
       "      <td>...</td>\n",
       "    </tr>\n",
       "    <tr>\n",
       "      <th>725</th>\n",
       "      <td>en.wikipedia</td>\n",
       "      <td>desktop</td>\n",
       "      <td>all-agents</td>\n",
       "      <td>daily</td>\n",
       "      <td>2019-12-27</td>\n",
       "      <td>134979884</td>\n",
       "    </tr>\n",
       "    <tr>\n",
       "      <th>726</th>\n",
       "      <td>en.wikipedia</td>\n",
       "      <td>desktop</td>\n",
       "      <td>all-agents</td>\n",
       "      <td>daily</td>\n",
       "      <td>2019-12-28</td>\n",
       "      <td>127967591</td>\n",
       "    </tr>\n",
       "    <tr>\n",
       "      <th>727</th>\n",
       "      <td>en.wikipedia</td>\n",
       "      <td>desktop</td>\n",
       "      <td>all-agents</td>\n",
       "      <td>daily</td>\n",
       "      <td>2019-12-29</td>\n",
       "      <td>130540209</td>\n",
       "    </tr>\n",
       "    <tr>\n",
       "      <th>728</th>\n",
       "      <td>en.wikipedia</td>\n",
       "      <td>desktop</td>\n",
       "      <td>all-agents</td>\n",
       "      <td>daily</td>\n",
       "      <td>2019-12-30</td>\n",
       "      <td>157783621</td>\n",
       "    </tr>\n",
       "    <tr>\n",
       "      <th>729</th>\n",
       "      <td>en.wikipedia</td>\n",
       "      <td>desktop</td>\n",
       "      <td>all-agents</td>\n",
       "      <td>daily</td>\n",
       "      <td>2019-12-31</td>\n",
       "      <td>133855339</td>\n",
       "    </tr>\n",
       "  </tbody>\n",
       "</table>\n",
       "<p>730 rows × 6 columns</p>\n",
       "</div>"
      ],
      "text/plain": [
       "          project   access       agent granularity  timestamp      views\n",
       "0    en.wikipedia  desktop  all-agents       daily 2018-01-01  149207888\n",
       "1    en.wikipedia  desktop  all-agents       daily 2018-01-02  176949374\n",
       "2    en.wikipedia  desktop  all-agents       daily 2018-01-03  189221424\n",
       "3    en.wikipedia  desktop  all-agents       daily 2018-01-04  181752882\n",
       "4    en.wikipedia  desktop  all-agents       daily 2018-01-05  177118102\n",
       "..            ...      ...         ...         ...        ...        ...\n",
       "725  en.wikipedia  desktop  all-agents       daily 2019-12-27  134979884\n",
       "726  en.wikipedia  desktop  all-agents       daily 2019-12-28  127967591\n",
       "727  en.wikipedia  desktop  all-agents       daily 2019-12-29  130540209\n",
       "728  en.wikipedia  desktop  all-agents       daily 2019-12-30  157783621\n",
       "729  en.wikipedia  desktop  all-agents       daily 2019-12-31  133855339\n",
       "\n",
       "[730 rows x 6 columns]"
      ]
     },
     "execution_count": 51,
     "metadata": {},
     "output_type": "execute_result"
    }
   ],
   "source": [
    "#url =     \"https://wikimedia.org/api/rest_v1/metrics/pageviews/aggregate/en.wikipedia.org/all-access/all-agents/daily/20180101/20191231\"\n",
    "url_acc = \"https://wikimedia.org/api/rest_v1/metrics/pageviews/aggregate/en.wikipedia.org/desktop/all-agents/daily/20180101/20191231\"\n",
    "wiki_to_df(url_acc)"
   ]
  },
  {
   "cell_type": "code",
   "execution_count": 52,
   "metadata": {},
   "outputs": [
    {
     "data": {
      "text/html": [
       "<div>\n",
       "<style scoped>\n",
       "    .dataframe tbody tr th:only-of-type {\n",
       "        vertical-align: middle;\n",
       "    }\n",
       "\n",
       "    .dataframe tbody tr th {\n",
       "        vertical-align: top;\n",
       "    }\n",
       "\n",
       "    .dataframe thead th {\n",
       "        text-align: right;\n",
       "    }\n",
       "</style>\n",
       "<table border=\"1\" class=\"dataframe\">\n",
       "  <thead>\n",
       "    <tr style=\"text-align: right;\">\n",
       "      <th></th>\n",
       "      <th>project</th>\n",
       "      <th>access</th>\n",
       "      <th>agent</th>\n",
       "      <th>granularity</th>\n",
       "      <th>timestamp</th>\n",
       "      <th>views</th>\n",
       "    </tr>\n",
       "  </thead>\n",
       "  <tbody>\n",
       "    <tr>\n",
       "      <th>0</th>\n",
       "      <td>en.wikipedia</td>\n",
       "      <td>mobile-app</td>\n",
       "      <td>all-agents</td>\n",
       "      <td>daily</td>\n",
       "      <td>2018-01-01</td>\n",
       "      <td>5088222</td>\n",
       "    </tr>\n",
       "    <tr>\n",
       "      <th>1</th>\n",
       "      <td>en.wikipedia</td>\n",
       "      <td>mobile-app</td>\n",
       "      <td>all-agents</td>\n",
       "      <td>daily</td>\n",
       "      <td>2018-01-02</td>\n",
       "      <td>4432088</td>\n",
       "    </tr>\n",
       "    <tr>\n",
       "      <th>2</th>\n",
       "      <td>en.wikipedia</td>\n",
       "      <td>mobile-app</td>\n",
       "      <td>all-agents</td>\n",
       "      <td>daily</td>\n",
       "      <td>2018-01-03</td>\n",
       "      <td>3986792</td>\n",
       "    </tr>\n",
       "    <tr>\n",
       "      <th>3</th>\n",
       "      <td>en.wikipedia</td>\n",
       "      <td>mobile-app</td>\n",
       "      <td>all-agents</td>\n",
       "      <td>daily</td>\n",
       "      <td>2018-01-04</td>\n",
       "      <td>3943742</td>\n",
       "    </tr>\n",
       "    <tr>\n",
       "      <th>4</th>\n",
       "      <td>en.wikipedia</td>\n",
       "      <td>mobile-app</td>\n",
       "      <td>all-agents</td>\n",
       "      <td>daily</td>\n",
       "      <td>2018-01-05</td>\n",
       "      <td>3977314</td>\n",
       "    </tr>\n",
       "    <tr>\n",
       "      <th>...</th>\n",
       "      <td>...</td>\n",
       "      <td>...</td>\n",
       "      <td>...</td>\n",
       "      <td>...</td>\n",
       "      <td>...</td>\n",
       "      <td>...</td>\n",
       "    </tr>\n",
       "    <tr>\n",
       "      <th>725</th>\n",
       "      <td>en.wikipedia</td>\n",
       "      <td>mobile-app</td>\n",
       "      <td>all-agents</td>\n",
       "      <td>daily</td>\n",
       "      <td>2019-12-27</td>\n",
       "      <td>5270968</td>\n",
       "    </tr>\n",
       "    <tr>\n",
       "      <th>726</th>\n",
       "      <td>en.wikipedia</td>\n",
       "      <td>mobile-app</td>\n",
       "      <td>all-agents</td>\n",
       "      <td>daily</td>\n",
       "      <td>2019-12-28</td>\n",
       "      <td>5592373</td>\n",
       "    </tr>\n",
       "    <tr>\n",
       "      <th>727</th>\n",
       "      <td>en.wikipedia</td>\n",
       "      <td>mobile-app</td>\n",
       "      <td>all-agents</td>\n",
       "      <td>daily</td>\n",
       "      <td>2019-12-29</td>\n",
       "      <td>6018164</td>\n",
       "    </tr>\n",
       "    <tr>\n",
       "      <th>728</th>\n",
       "      <td>en.wikipedia</td>\n",
       "      <td>mobile-app</td>\n",
       "      <td>all-agents</td>\n",
       "      <td>daily</td>\n",
       "      <td>2019-12-30</td>\n",
       "      <td>5430936</td>\n",
       "    </tr>\n",
       "    <tr>\n",
       "      <th>729</th>\n",
       "      <td>en.wikipedia</td>\n",
       "      <td>mobile-app</td>\n",
       "      <td>all-agents</td>\n",
       "      <td>daily</td>\n",
       "      <td>2019-12-31</td>\n",
       "      <td>4921578</td>\n",
       "    </tr>\n",
       "  </tbody>\n",
       "</table>\n",
       "<p>730 rows × 6 columns</p>\n",
       "</div>"
      ],
      "text/plain": [
       "          project      access       agent granularity  timestamp    views\n",
       "0    en.wikipedia  mobile-app  all-agents       daily 2018-01-01  5088222\n",
       "1    en.wikipedia  mobile-app  all-agents       daily 2018-01-02  4432088\n",
       "2    en.wikipedia  mobile-app  all-agents       daily 2018-01-03  3986792\n",
       "3    en.wikipedia  mobile-app  all-agents       daily 2018-01-04  3943742\n",
       "4    en.wikipedia  mobile-app  all-agents       daily 2018-01-05  3977314\n",
       "..            ...         ...         ...         ...        ...      ...\n",
       "725  en.wikipedia  mobile-app  all-agents       daily 2019-12-27  5270968\n",
       "726  en.wikipedia  mobile-app  all-agents       daily 2019-12-28  5592373\n",
       "727  en.wikipedia  mobile-app  all-agents       daily 2019-12-29  6018164\n",
       "728  en.wikipedia  mobile-app  all-agents       daily 2019-12-30  5430936\n",
       "729  en.wikipedia  mobile-app  all-agents       daily 2019-12-31  4921578\n",
       "\n",
       "[730 rows x 6 columns]"
      ]
     },
     "execution_count": 52,
     "metadata": {},
     "output_type": "execute_result"
    }
   ],
   "source": [
    "url_ma = \"https://wikimedia.org/api/rest_v1/metrics/pageviews/aggregate/en.wikipedia.org/mobile-app/all-agents/daily/20180101/20191231\"\n",
    "wiki_to_df(url_ma)"
   ]
  },
  {
   "cell_type": "code",
   "execution_count": 53,
   "metadata": {},
   "outputs": [
    {
     "data": {
      "text/plain": [
       "Index(['project', 'access', 'agent', 'granularity', 'timestamp', 'views'], dtype='object')"
      ]
     },
     "execution_count": 53,
     "metadata": {},
     "output_type": "execute_result"
    }
   ],
   "source": [
    "df.columns"
   ]
  },
  {
   "cell_type": "code",
   "execution_count": 57,
   "metadata": {},
   "outputs": [],
   "source": [
    "access_types = [\"desktop\", \"mobile-app\", \"mobile-web\"]\n",
    "\n",
    "wiki = pd.DataFrame(columns=df.columns)\n",
    "for at in access_types:\n",
    "    endpoint = f\"https://wikimedia.org/api/rest_v1/metrics/pageviews/aggregate/en.wikipedia.org/{at}/all-agents/daily/20180101/20191231\"\n",
    "    wiki = pd.concat([wiki, wiki_to_df(endpoint)])"
   ]
  },
  {
   "cell_type": "code",
   "execution_count": 59,
   "metadata": {},
   "outputs": [
    {
     "data": {
      "text/plain": [
       "mobile-web    730\n",
       "desktop       730\n",
       "mobile-app    730\n",
       "Name: access, dtype: int64"
      ]
     },
     "execution_count": 59,
     "metadata": {},
     "output_type": "execute_result"
    }
   ],
   "source": [
    "wiki[\"access\"].value_counts()"
   ]
  },
  {
   "cell_type": "markdown",
   "metadata": {},
   "source": [
    "### II. by agent type"
   ]
  },
  {
   "cell_type": "code",
   "execution_count": 61,
   "metadata": {},
   "outputs": [],
   "source": [
    "agent_types = [\"user\", \"spider\"]\n",
    "\n",
    "wiki = pd.DataFrame(columns=df.columns)\n",
    "\n",
    "for at in access_types:\n",
    "    for agt in agent_types:\n",
    "        endpoint = f\"https://wikimedia.org/api/rest_v1/metrics/pageviews/aggregate/en.wikipedia.org/{at}/{agt}/daily/20180101/20191231\"\n",
    "        wiki = pd.concat([wiki, wiki_to_df(endpoint)])\n"
   ]
  },
  {
   "cell_type": "code",
   "execution_count": 62,
   "metadata": {},
   "outputs": [
    {
     "data": {
      "text/html": [
       "<div>\n",
       "<style scoped>\n",
       "    .dataframe tbody tr th:only-of-type {\n",
       "        vertical-align: middle;\n",
       "    }\n",
       "\n",
       "    .dataframe tbody tr th {\n",
       "        vertical-align: top;\n",
       "    }\n",
       "\n",
       "    .dataframe thead th {\n",
       "        text-align: right;\n",
       "    }\n",
       "</style>\n",
       "<table border=\"1\" class=\"dataframe\">\n",
       "  <thead>\n",
       "    <tr style=\"text-align: right;\">\n",
       "      <th></th>\n",
       "      <th>project</th>\n",
       "      <th>access</th>\n",
       "      <th>agent</th>\n",
       "      <th>granularity</th>\n",
       "      <th>timestamp</th>\n",
       "      <th>views</th>\n",
       "    </tr>\n",
       "  </thead>\n",
       "  <tbody>\n",
       "    <tr>\n",
       "      <th>0</th>\n",
       "      <td>en.wikipedia</td>\n",
       "      <td>desktop</td>\n",
       "      <td>user</td>\n",
       "      <td>daily</td>\n",
       "      <td>2018-01-01</td>\n",
       "      <td>103246409</td>\n",
       "    </tr>\n",
       "    <tr>\n",
       "      <th>1</th>\n",
       "      <td>en.wikipedia</td>\n",
       "      <td>desktop</td>\n",
       "      <td>user</td>\n",
       "      <td>daily</td>\n",
       "      <td>2018-01-02</td>\n",
       "      <td>132232882</td>\n",
       "    </tr>\n",
       "    <tr>\n",
       "      <th>2</th>\n",
       "      <td>en.wikipedia</td>\n",
       "      <td>desktop</td>\n",
       "      <td>user</td>\n",
       "      <td>daily</td>\n",
       "      <td>2018-01-03</td>\n",
       "      <td>141986950</td>\n",
       "    </tr>\n",
       "    <tr>\n",
       "      <th>3</th>\n",
       "      <td>en.wikipedia</td>\n",
       "      <td>desktop</td>\n",
       "      <td>user</td>\n",
       "      <td>daily</td>\n",
       "      <td>2018-01-04</td>\n",
       "      <td>132734349</td>\n",
       "    </tr>\n",
       "    <tr>\n",
       "      <th>4</th>\n",
       "      <td>en.wikipedia</td>\n",
       "      <td>desktop</td>\n",
       "      <td>user</td>\n",
       "      <td>daily</td>\n",
       "      <td>2018-01-05</td>\n",
       "      <td>128986098</td>\n",
       "    </tr>\n",
       "  </tbody>\n",
       "</table>\n",
       "</div>"
      ],
      "text/plain": [
       "        project   access agent granularity  timestamp      views\n",
       "0  en.wikipedia  desktop  user       daily 2018-01-01  103246409\n",
       "1  en.wikipedia  desktop  user       daily 2018-01-02  132232882\n",
       "2  en.wikipedia  desktop  user       daily 2018-01-03  141986950\n",
       "3  en.wikipedia  desktop  user       daily 2018-01-04  132734349\n",
       "4  en.wikipedia  desktop  user       daily 2018-01-05  128986098"
      ]
     },
     "execution_count": 62,
     "metadata": {},
     "output_type": "execute_result"
    }
   ],
   "source": [
    "wiki.head()"
   ]
  },
  {
   "cell_type": "code",
   "execution_count": 63,
   "metadata": {},
   "outputs": [
    {
     "data": {
      "text/plain": [
       "mobile-web    1460\n",
       "desktop       1460\n",
       "mobile-app     941\n",
       "Name: access, dtype: int64"
      ]
     },
     "execution_count": 63,
     "metadata": {},
     "output_type": "execute_result"
    }
   ],
   "source": [
    "wiki[\"access\"].value_counts()"
   ]
  },
  {
   "cell_type": "code",
   "execution_count": 64,
   "metadata": {},
   "outputs": [
    {
     "data": {
      "text/plain": [
       "user      2190\n",
       "spider    1671\n",
       "Name: agent, dtype: int64"
      ]
     },
     "execution_count": 64,
     "metadata": {},
     "output_type": "execute_result"
    }
   ],
   "source": [
    "wiki[\"agent\"].value_counts()"
   ]
  },
  {
   "cell_type": "code",
   "execution_count": 65,
   "metadata": {},
   "outputs": [
    {
     "data": {
      "text/plain": [
       "access      agent \n",
       "desktop     spider    730\n",
       "            user      730\n",
       "mobile-app  spider    211\n",
       "            user      730\n",
       "mobile-web  spider    730\n",
       "            user      730\n",
       "dtype: int64"
      ]
     },
     "execution_count": 65,
     "metadata": {},
     "output_type": "execute_result"
    }
   ],
   "source": [
    "wiki.groupby([\"access\", \"agent\"]).size()"
   ]
  },
  {
   "cell_type": "code",
   "execution_count": 66,
   "metadata": {},
   "outputs": [
    {
     "data": {
      "text/html": [
       "<div>\n",
       "<style scoped>\n",
       "    .dataframe tbody tr th:only-of-type {\n",
       "        vertical-align: middle;\n",
       "    }\n",
       "\n",
       "    .dataframe tbody tr th {\n",
       "        vertical-align: top;\n",
       "    }\n",
       "\n",
       "    .dataframe thead th {\n",
       "        text-align: right;\n",
       "    }\n",
       "</style>\n",
       "<table border=\"1\" class=\"dataframe\">\n",
       "  <thead>\n",
       "    <tr style=\"text-align: right;\">\n",
       "      <th></th>\n",
       "      <th>project</th>\n",
       "      <th>access</th>\n",
       "      <th>agent</th>\n",
       "      <th>granularity</th>\n",
       "      <th>timestamp</th>\n",
       "      <th>views</th>\n",
       "    </tr>\n",
       "  </thead>\n",
       "  <tbody>\n",
       "    <tr>\n",
       "      <th>0</th>\n",
       "      <td>en.wikipedia</td>\n",
       "      <td>mobile-app</td>\n",
       "      <td>spider</td>\n",
       "      <td>daily</td>\n",
       "      <td>2018-01-02</td>\n",
       "      <td>2</td>\n",
       "    </tr>\n",
       "    <tr>\n",
       "      <th>1</th>\n",
       "      <td>en.wikipedia</td>\n",
       "      <td>mobile-app</td>\n",
       "      <td>spider</td>\n",
       "      <td>daily</td>\n",
       "      <td>2018-01-07</td>\n",
       "      <td>9</td>\n",
       "    </tr>\n",
       "    <tr>\n",
       "      <th>2</th>\n",
       "      <td>en.wikipedia</td>\n",
       "      <td>mobile-app</td>\n",
       "      <td>spider</td>\n",
       "      <td>daily</td>\n",
       "      <td>2018-01-13</td>\n",
       "      <td>1</td>\n",
       "    </tr>\n",
       "    <tr>\n",
       "      <th>3</th>\n",
       "      <td>en.wikipedia</td>\n",
       "      <td>mobile-app</td>\n",
       "      <td>spider</td>\n",
       "      <td>daily</td>\n",
       "      <td>2018-01-15</td>\n",
       "      <td>2</td>\n",
       "    </tr>\n",
       "    <tr>\n",
       "      <th>4</th>\n",
       "      <td>en.wikipedia</td>\n",
       "      <td>mobile-app</td>\n",
       "      <td>spider</td>\n",
       "      <td>daily</td>\n",
       "      <td>2018-01-16</td>\n",
       "      <td>2</td>\n",
       "    </tr>\n",
       "    <tr>\n",
       "      <th>...</th>\n",
       "      <td>...</td>\n",
       "      <td>...</td>\n",
       "      <td>...</td>\n",
       "      <td>...</td>\n",
       "      <td>...</td>\n",
       "      <td>...</td>\n",
       "    </tr>\n",
       "    <tr>\n",
       "      <th>206</th>\n",
       "      <td>en.wikipedia</td>\n",
       "      <td>mobile-app</td>\n",
       "      <td>spider</td>\n",
       "      <td>daily</td>\n",
       "      <td>2019-12-27</td>\n",
       "      <td>387</td>\n",
       "    </tr>\n",
       "    <tr>\n",
       "      <th>207</th>\n",
       "      <td>en.wikipedia</td>\n",
       "      <td>mobile-app</td>\n",
       "      <td>spider</td>\n",
       "      <td>daily</td>\n",
       "      <td>2019-12-28</td>\n",
       "      <td>578</td>\n",
       "    </tr>\n",
       "    <tr>\n",
       "      <th>208</th>\n",
       "      <td>en.wikipedia</td>\n",
       "      <td>mobile-app</td>\n",
       "      <td>spider</td>\n",
       "      <td>daily</td>\n",
       "      <td>2019-12-29</td>\n",
       "      <td>599</td>\n",
       "    </tr>\n",
       "    <tr>\n",
       "      <th>209</th>\n",
       "      <td>en.wikipedia</td>\n",
       "      <td>mobile-app</td>\n",
       "      <td>spider</td>\n",
       "      <td>daily</td>\n",
       "      <td>2019-12-30</td>\n",
       "      <td>568</td>\n",
       "    </tr>\n",
       "    <tr>\n",
       "      <th>210</th>\n",
       "      <td>en.wikipedia</td>\n",
       "      <td>mobile-app</td>\n",
       "      <td>spider</td>\n",
       "      <td>daily</td>\n",
       "      <td>2019-12-31</td>\n",
       "      <td>576</td>\n",
       "    </tr>\n",
       "  </tbody>\n",
       "</table>\n",
       "<p>211 rows × 6 columns</p>\n",
       "</div>"
      ],
      "text/plain": [
       "          project      access   agent granularity  timestamp views\n",
       "0    en.wikipedia  mobile-app  spider       daily 2018-01-02     2\n",
       "1    en.wikipedia  mobile-app  spider       daily 2018-01-07     9\n",
       "2    en.wikipedia  mobile-app  spider       daily 2018-01-13     1\n",
       "3    en.wikipedia  mobile-app  spider       daily 2018-01-15     2\n",
       "4    en.wikipedia  mobile-app  spider       daily 2018-01-16     2\n",
       "..            ...         ...     ...         ...        ...   ...\n",
       "206  en.wikipedia  mobile-app  spider       daily 2019-12-27   387\n",
       "207  en.wikipedia  mobile-app  spider       daily 2019-12-28   578\n",
       "208  en.wikipedia  mobile-app  spider       daily 2019-12-29   599\n",
       "209  en.wikipedia  mobile-app  spider       daily 2019-12-30   568\n",
       "210  en.wikipedia  mobile-app  spider       daily 2019-12-31   576\n",
       "\n",
       "[211 rows x 6 columns]"
      ]
     },
     "execution_count": 66,
     "metadata": {},
     "output_type": "execute_result"
    }
   ],
   "source": [
    "wiki.loc[(wiki[\"access\"] == \"mobile-app\") & (wiki[\"agent\"] == \"spider\")]"
   ]
  },
  {
   "cell_type": "markdown",
   "metadata": {},
   "source": []
  }
 ],
 "metadata": {
  "kernelspec": {
   "display_name": "Python 3",
   "language": "python",
   "name": "python3"
  },
  "language_info": {
   "codemirror_mode": {
    "name": "ipython",
    "version": 3
   },
   "file_extension": ".py",
   "mimetype": "text/x-python",
   "name": "python",
   "nbconvert_exporter": "python",
   "pygments_lexer": "ipython3",
   "version": "3.7.6"
  }
 },
 "nbformat": 4,
 "nbformat_minor": 4
}
