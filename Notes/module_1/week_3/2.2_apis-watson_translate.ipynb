{
 "cells": [
  {
   "cell_type": "code",
   "execution_count": 1,
   "metadata": {},
   "outputs": [],
   "source": [
    "import pandas as pd\n",
    "import requests\n",
    "import json\n",
    "import pymysql\n",
    "import getpass"
   ]
  },
  {
   "cell_type": "markdown",
   "metadata": {},
   "source": [
    "# Translate `product_category_name`s from Portuguese to English\n",
    "\n",
    "1. Get a list of all `product_category_name`s currently in our database\n",
    "2. Send API requet to IBM Watson to translate each word in this list\n",
    "3. Process the response"
   ]
  },
  {
   "cell_type": "markdown",
   "metadata": {},
   "source": [
    "## 1. get unique product categories"
   ]
  },
  {
   "cell_type": "code",
   "execution_count": 2,
   "metadata": {},
   "outputs": [
    {
     "name": "stdout",
     "output_type": "stream",
     "text": [
      "········\n"
     ]
    }
   ],
   "source": [
    "conn = pymysql.connect(host=\"localhost\",\n",
    "                       port=3306,\n",
    "                       user=\"ironhack\",\n",
    "                       passwd=getpass.getpass(),\n",
    "                       db=\"olist\")"
   ]
  },
  {
   "cell_type": "code",
   "execution_count": 37,
   "metadata": {},
   "outputs": [],
   "source": [
    "sql = \"\"\"\n",
    "SELECT DISTINCT \n",
    "    product_category_name\n",
    "FROM products\n",
    "WHERE product_category_name IS NOT NULL;\n",
    "\"\"\"\n",
    "product_categories = pd.read_sql(sql, conn)"
   ]
  },
  {
   "cell_type": "code",
   "execution_count": 38,
   "metadata": {},
   "outputs": [],
   "source": [
    "product_categories = product_categories.assign(cats=product_categories[\"product_category_name\"].str.replace(\"_\", \" \"))"
   ]
  },
  {
   "cell_type": "code",
   "execution_count": 39,
   "metadata": {},
   "outputs": [
    {
     "data": {
      "text/html": [
       "<div>\n",
       "<style scoped>\n",
       "    .dataframe tbody tr th:only-of-type {\n",
       "        vertical-align: middle;\n",
       "    }\n",
       "\n",
       "    .dataframe tbody tr th {\n",
       "        vertical-align: top;\n",
       "    }\n",
       "\n",
       "    .dataframe thead th {\n",
       "        text-align: right;\n",
       "    }\n",
       "</style>\n",
       "<table border=\"1\" class=\"dataframe\">\n",
       "  <thead>\n",
       "    <tr style=\"text-align: right;\">\n",
       "      <th></th>\n",
       "      <th>product_category_name</th>\n",
       "      <th>cats</th>\n",
       "    </tr>\n",
       "  </thead>\n",
       "  <tbody>\n",
       "    <tr>\n",
       "      <th>0</th>\n",
       "      <td>perfumaria</td>\n",
       "      <td>perfumaria</td>\n",
       "    </tr>\n",
       "    <tr>\n",
       "      <th>1</th>\n",
       "      <td>artes</td>\n",
       "      <td>artes</td>\n",
       "    </tr>\n",
       "    <tr>\n",
       "      <th>2</th>\n",
       "      <td>esporte_lazer</td>\n",
       "      <td>esporte lazer</td>\n",
       "    </tr>\n",
       "    <tr>\n",
       "      <th>3</th>\n",
       "      <td>bebes</td>\n",
       "      <td>bebes</td>\n",
       "    </tr>\n",
       "    <tr>\n",
       "      <th>4</th>\n",
       "      <td>utilidades_domesticas</td>\n",
       "      <td>utilidades domesticas</td>\n",
       "    </tr>\n",
       "    <tr>\n",
       "      <th>...</th>\n",
       "      <td>...</td>\n",
       "      <td>...</td>\n",
       "    </tr>\n",
       "    <tr>\n",
       "      <th>68</th>\n",
       "      <td>casa_conforto_2</td>\n",
       "      <td>casa conforto 2</td>\n",
       "    </tr>\n",
       "    <tr>\n",
       "      <th>69</th>\n",
       "      <td>portateis_cozinha_e_preparadores_de_alimentos</td>\n",
       "      <td>portateis cozinha e preparadores de alimentos</td>\n",
       "    </tr>\n",
       "    <tr>\n",
       "      <th>70</th>\n",
       "      <td>seguros_e_servicos</td>\n",
       "      <td>seguros e servicos</td>\n",
       "    </tr>\n",
       "    <tr>\n",
       "      <th>71</th>\n",
       "      <td>moveis_colchao_e_estofado</td>\n",
       "      <td>moveis colchao e estofado</td>\n",
       "    </tr>\n",
       "    <tr>\n",
       "      <th>72</th>\n",
       "      <td>cds_dvds_musicais</td>\n",
       "      <td>cds dvds musicais</td>\n",
       "    </tr>\n",
       "  </tbody>\n",
       "</table>\n",
       "<p>73 rows × 2 columns</p>\n",
       "</div>"
      ],
      "text/plain": [
       "                            product_category_name  \\\n",
       "0                                      perfumaria   \n",
       "1                                           artes   \n",
       "2                                   esporte_lazer   \n",
       "3                                           bebes   \n",
       "4                           utilidades_domesticas   \n",
       "..                                            ...   \n",
       "68                                casa_conforto_2   \n",
       "69  portateis_cozinha_e_preparadores_de_alimentos   \n",
       "70                             seguros_e_servicos   \n",
       "71                      moveis_colchao_e_estofado   \n",
       "72                              cds_dvds_musicais   \n",
       "\n",
       "                                             cats  \n",
       "0                                      perfumaria  \n",
       "1                                           artes  \n",
       "2                                   esporte lazer  \n",
       "3                                           bebes  \n",
       "4                           utilidades domesticas  \n",
       "..                                            ...  \n",
       "68                                casa conforto 2  \n",
       "69  portateis cozinha e preparadores de alimentos  \n",
       "70                             seguros e servicos  \n",
       "71                      moveis colchao e estofado  \n",
       "72                              cds dvds musicais  \n",
       "\n",
       "[73 rows x 2 columns]"
      ]
     },
     "execution_count": 39,
     "metadata": {},
     "output_type": "execute_result"
    }
   ],
   "source": [
    "product_categories"
   ]
  },
  {
   "cell_type": "markdown",
   "metadata": {},
   "source": [
    "## 2. test API requests"
   ]
  },
  {
   "cell_type": "code",
   "execution_count": 16,
   "metadata": {},
   "outputs": [],
   "source": [
    "auth = (\"apikey\", \"aRHG9pdRpofv7m50m6ikFY-yDgsUG5mJfhnGVV4IGgUY\")\n",
    "headers = {\"Content-Type\": \"application/json\"}\n",
    "url = \"https://api.eu-gb.language-translator.watson.cloud.ibm.com/instances/d39ad4d8-67ff-4e11-9d6b-72ac4ae95d14/v3/translate?version=2018-05-01\""
   ]
  },
  {
   "cell_type": "code",
   "execution_count": 28,
   "metadata": {},
   "outputs": [],
   "source": [
    "data = {\"text\": [\"Todo Bem?\", \"algo mais\"], \"model_id\": \"pt-en\"}"
   ]
  },
  {
   "cell_type": "code",
   "execution_count": 21,
   "metadata": {},
   "outputs": [
    {
     "data": {
      "text/plain": [
       "'{\"text\": [\"Todo Bem\"], \"model_id\": \"pt-en\"}'"
      ]
     },
     "execution_count": 21,
     "metadata": {},
     "output_type": "execute_result"
    }
   ],
   "source": [
    "json.dumps(data)"
   ]
  },
  {
   "cell_type": "code",
   "execution_count": 22,
   "metadata": {},
   "outputs": [
    {
     "data": {
      "text/plain": [
       "<Response [200]>"
      ]
     },
     "execution_count": 22,
     "metadata": {},
     "output_type": "execute_result"
    }
   ],
   "source": [
    "requests.post(url=url,\n",
    "              headers=headers, \n",
    "              auth=auth, \n",
    "              data=json.dumps(data))"
   ]
  },
  {
   "cell_type": "code",
   "execution_count": 29,
   "metadata": {},
   "outputs": [],
   "source": [
    "response = requests.post(url=url,\n",
    "                         headers=headers,\n",
    "                         auth=auth,\n",
    "                         data=json.dumps(data))"
   ]
  },
  {
   "cell_type": "code",
   "execution_count": 30,
   "metadata": {},
   "outputs": [
    {
     "data": {
      "text/plain": [
       "{'translations': [{'translation': 'All Right?'},\n",
       "  {'translation': 'something more'}],\n",
       " 'word_count': 4,\n",
       " 'character_count': 18}"
      ]
     },
     "execution_count": 30,
     "metadata": {},
     "output_type": "execute_result"
    }
   ],
   "source": [
    "response.json()"
   ]
  },
  {
   "cell_type": "code",
   "execution_count": 31,
   "metadata": {},
   "outputs": [],
   "source": [
    "def translate(to_translate):\n",
    "    auth = (\"apikey\", \"aRHG9pdRpofv7m50m6ikFY-yDgsUG5mJfhnGVV4IGgUY\")\n",
    "    headers = {\"Content-Type\": \"application/json\"}\n",
    "    url = \"https://api.eu-gb.language-translator.watson.cloud.ibm.com/instances/d39ad4d8-67ff-4e11-9d6b-72ac4ae95d14/v3/translate?version=2018-05-01\"\n",
    "    \n",
    "    data = {\"text\": to_translate, \"model_id\": \"pt-en\"}\n",
    "    \n",
    "    response = requests.post(url=url,\n",
    "                             headers=headers,\n",
    "                             auth=auth,\n",
    "                             data=json.dumps(data))\n",
    "    \n",
    "    return response.json()[\"translations\"]"
   ]
  },
  {
   "cell_type": "code",
   "execution_count": 33,
   "metadata": {},
   "outputs": [
    {
     "data": {
      "text/html": [
       "<div>\n",
       "<style scoped>\n",
       "    .dataframe tbody tr th:only-of-type {\n",
       "        vertical-align: middle;\n",
       "    }\n",
       "\n",
       "    .dataframe tbody tr th {\n",
       "        vertical-align: top;\n",
       "    }\n",
       "\n",
       "    .dataframe thead th {\n",
       "        text-align: right;\n",
       "    }\n",
       "</style>\n",
       "<table border=\"1\" class=\"dataframe\">\n",
       "  <thead>\n",
       "    <tr style=\"text-align: right;\">\n",
       "      <th></th>\n",
       "      <th>translation</th>\n",
       "    </tr>\n",
       "  </thead>\n",
       "  <tbody>\n",
       "    <tr>\n",
       "      <th>0</th>\n",
       "      <td>All Right?</td>\n",
       "    </tr>\n",
       "    <tr>\n",
       "      <th>1</th>\n",
       "      <td>something more</td>\n",
       "    </tr>\n",
       "  </tbody>\n",
       "</table>\n",
       "</div>"
      ],
      "text/plain": [
       "      translation\n",
       "0      All Right?\n",
       "1  something more"
      ]
     },
     "execution_count": 33,
     "metadata": {},
     "output_type": "execute_result"
    }
   ],
   "source": [
    "a = [\"Todo Bem?\", \"algo mais\"]\n",
    "pd.DataFrame(translate(a))"
   ]
  },
  {
   "cell_type": "markdown",
   "metadata": {},
   "source": [
    "## 3. Combine the two components"
   ]
  },
  {
   "cell_type": "code",
   "execution_count": 41,
   "metadata": {},
   "outputs": [],
   "source": [
    "to_translate = product_categories[\"cats\"].to_list()"
   ]
  },
  {
   "cell_type": "code",
   "execution_count": 44,
   "metadata": {},
   "outputs": [],
   "source": [
    "translations = translate(to_translate)"
   ]
  },
  {
   "cell_type": "code",
   "execution_count": 48,
   "metadata": {},
   "outputs": [],
   "source": [
    "product_categories = product_categories.assign(english_cats=pd.DataFrame(translations)[\"translation\"])"
   ]
  },
  {
   "cell_type": "code",
   "execution_count": 49,
   "metadata": {},
   "outputs": [
    {
     "data": {
      "text/html": [
       "<div>\n",
       "<style scoped>\n",
       "    .dataframe tbody tr th:only-of-type {\n",
       "        vertical-align: middle;\n",
       "    }\n",
       "\n",
       "    .dataframe tbody tr th {\n",
       "        vertical-align: top;\n",
       "    }\n",
       "\n",
       "    .dataframe thead th {\n",
       "        text-align: right;\n",
       "    }\n",
       "</style>\n",
       "<table border=\"1\" class=\"dataframe\">\n",
       "  <thead>\n",
       "    <tr style=\"text-align: right;\">\n",
       "      <th></th>\n",
       "      <th>product_category_name</th>\n",
       "      <th>cats</th>\n",
       "      <th>english_cats</th>\n",
       "    </tr>\n",
       "  </thead>\n",
       "  <tbody>\n",
       "    <tr>\n",
       "      <th>0</th>\n",
       "      <td>perfumaria</td>\n",
       "      <td>perfumaria</td>\n",
       "      <td>perfumery</td>\n",
       "    </tr>\n",
       "    <tr>\n",
       "      <th>1</th>\n",
       "      <td>artes</td>\n",
       "      <td>artes</td>\n",
       "      <td>arts</td>\n",
       "    </tr>\n",
       "    <tr>\n",
       "      <th>2</th>\n",
       "      <td>esporte_lazer</td>\n",
       "      <td>esporte lazer</td>\n",
       "      <td>sport leisure</td>\n",
       "    </tr>\n",
       "    <tr>\n",
       "      <th>3</th>\n",
       "      <td>bebes</td>\n",
       "      <td>bebes</td>\n",
       "      <td>babies</td>\n",
       "    </tr>\n",
       "    <tr>\n",
       "      <th>4</th>\n",
       "      <td>utilidades_domesticas</td>\n",
       "      <td>utilidades domesticas</td>\n",
       "      <td>domestical utilities</td>\n",
       "    </tr>\n",
       "    <tr>\n",
       "      <th>...</th>\n",
       "      <td>...</td>\n",
       "      <td>...</td>\n",
       "      <td>...</td>\n",
       "    </tr>\n",
       "    <tr>\n",
       "      <th>68</th>\n",
       "      <td>casa_conforto_2</td>\n",
       "      <td>casa conforto 2</td>\n",
       "      <td>house comfort 2</td>\n",
       "    </tr>\n",
       "    <tr>\n",
       "      <th>69</th>\n",
       "      <td>portateis_cozinha_e_preparadores_de_alimentos</td>\n",
       "      <td>portateis cozinha e preparadores de alimentos</td>\n",
       "      <td>portable cooking and food preparers</td>\n",
       "    </tr>\n",
       "    <tr>\n",
       "      <th>70</th>\n",
       "      <td>seguros_e_servicos</td>\n",
       "      <td>seguros e servicos</td>\n",
       "      <td>safe and servic</td>\n",
       "    </tr>\n",
       "    <tr>\n",
       "      <th>71</th>\n",
       "      <td>moveis_colchao_e_estofado</td>\n",
       "      <td>moveis colchao e estofado</td>\n",
       "      <td>movable collchao and upholstery</td>\n",
       "    </tr>\n",
       "    <tr>\n",
       "      <th>72</th>\n",
       "      <td>cds_dvds_musicais</td>\n",
       "      <td>cds dvds musicais</td>\n",
       "      <td>cds dvds musical</td>\n",
       "    </tr>\n",
       "  </tbody>\n",
       "</table>\n",
       "<p>73 rows × 3 columns</p>\n",
       "</div>"
      ],
      "text/plain": [
       "                            product_category_name  \\\n",
       "0                                      perfumaria   \n",
       "1                                           artes   \n",
       "2                                   esporte_lazer   \n",
       "3                                           bebes   \n",
       "4                           utilidades_domesticas   \n",
       "..                                            ...   \n",
       "68                                casa_conforto_2   \n",
       "69  portateis_cozinha_e_preparadores_de_alimentos   \n",
       "70                             seguros_e_servicos   \n",
       "71                      moveis_colchao_e_estofado   \n",
       "72                              cds_dvds_musicais   \n",
       "\n",
       "                                             cats  \\\n",
       "0                                      perfumaria   \n",
       "1                                           artes   \n",
       "2                                   esporte lazer   \n",
       "3                                           bebes   \n",
       "4                           utilidades domesticas   \n",
       "..                                            ...   \n",
       "68                                casa conforto 2   \n",
       "69  portateis cozinha e preparadores de alimentos   \n",
       "70                             seguros e servicos   \n",
       "71                      moveis colchao e estofado   \n",
       "72                              cds dvds musicais   \n",
       "\n",
       "                           english_cats  \n",
       "0                             perfumery  \n",
       "1                                  arts  \n",
       "2                         sport leisure  \n",
       "3                                babies  \n",
       "4                  domestical utilities  \n",
       "..                                  ...  \n",
       "68                      house comfort 2  \n",
       "69  portable cooking and food preparers  \n",
       "70                      safe and servic  \n",
       "71      movable collchao and upholstery  \n",
       "72                     cds dvds musical  \n",
       "\n",
       "[73 rows x 3 columns]"
      ]
     },
     "execution_count": 49,
     "metadata": {},
     "output_type": "execute_result"
    }
   ],
   "source": [
    "product_categories"
   ]
  }
 ],
 "metadata": {
  "kernelspec": {
   "display_name": "Python 3",
   "language": "python",
   "name": "python3"
  },
  "language_info": {
   "codemirror_mode": {
    "name": "ipython",
    "version": 3
   },
   "file_extension": ".py",
   "mimetype": "text/x-python",
   "name": "python",
   "nbconvert_exporter": "python",
   "pygments_lexer": "ipython3",
   "version": "3.7.6"
  }
 },
 "nbformat": 4,
 "nbformat_minor": 4
}
