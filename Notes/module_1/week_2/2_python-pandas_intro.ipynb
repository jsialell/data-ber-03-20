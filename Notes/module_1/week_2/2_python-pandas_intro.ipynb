{
 "cells": [
  {
   "cell_type": "code",
   "execution_count": 3,
   "metadata": {},
   "outputs": [],
   "source": [
    "import pandas as pd\n",
    "import numpy as np"
   ]
  },
  {
   "cell_type": "markdown",
   "metadata": {},
   "source": [
    "# Pandas intro\n",
    "\n",
    "Revisiting the Sacramento Real Estate data processing task from week 1.\n",
    "\n",
    "Tasks:\n",
    "\n",
    "- I. Capitalize 'city'\n",
    "- II. turn 'zip', 'beds', 'baths', 'sq__ft', 'price' into `int`\n",
    "- III. turn 'latitude' and 'longitude' into `float`\n",
    "- IV. rename 'sq__ft' to 'sq_ft'\n",
    "- V. turn 'sale_date' into a 'YYYY-MM-DD' format"
   ]
  },
  {
   "cell_type": "code",
   "execution_count": 5,
   "metadata": {},
   "outputs": [],
   "source": [
    "df = pd.read_csv(\"data/Sacramentorealestatetransactions.csv\")"
   ]
  },
  {
   "cell_type": "code",
   "execution_count": 6,
   "metadata": {},
   "outputs": [
    {
     "data": {
      "text/plain": [
       "pandas.core.frame.DataFrame"
      ]
     },
     "execution_count": 6,
     "metadata": {},
     "output_type": "execute_result"
    }
   ],
   "source": [
    "type(df)"
   ]
  },
  {
   "cell_type": "code",
   "execution_count": 8,
   "metadata": {},
   "outputs": [
    {
     "data": {
      "text/html": [
       "<div>\n",
       "<style scoped>\n",
       "    .dataframe tbody tr th:only-of-type {\n",
       "        vertical-align: middle;\n",
       "    }\n",
       "\n",
       "    .dataframe tbody tr th {\n",
       "        vertical-align: top;\n",
       "    }\n",
       "\n",
       "    .dataframe thead th {\n",
       "        text-align: right;\n",
       "    }\n",
       "</style>\n",
       "<table border=\"1\" class=\"dataframe\">\n",
       "  <thead>\n",
       "    <tr style=\"text-align: right;\">\n",
       "      <th></th>\n",
       "      <th>street</th>\n",
       "      <th>city</th>\n",
       "      <th>zip</th>\n",
       "      <th>state</th>\n",
       "      <th>beds</th>\n",
       "      <th>baths</th>\n",
       "      <th>sq__ft</th>\n",
       "      <th>type</th>\n",
       "      <th>sale_date</th>\n",
       "      <th>price</th>\n",
       "      <th>latitude</th>\n",
       "      <th>longitude</th>\n",
       "    </tr>\n",
       "  </thead>\n",
       "  <tbody>\n",
       "    <tr>\n",
       "      <th>0</th>\n",
       "      <td>3526 HIGH ST</td>\n",
       "      <td>SACRAMENTO</td>\n",
       "      <td>95838</td>\n",
       "      <td>CA</td>\n",
       "      <td>2</td>\n",
       "      <td>1</td>\n",
       "      <td>836</td>\n",
       "      <td>Residential</td>\n",
       "      <td>Wed May 21 00:00:00 EDT 2008</td>\n",
       "      <td>59222</td>\n",
       "      <td>38.631913</td>\n",
       "      <td>-121.434879</td>\n",
       "    </tr>\n",
       "    <tr>\n",
       "      <th>1</th>\n",
       "      <td>51 OMAHA CT</td>\n",
       "      <td>SACRAMENTO</td>\n",
       "      <td>95823</td>\n",
       "      <td>CA</td>\n",
       "      <td>3</td>\n",
       "      <td>1</td>\n",
       "      <td>1167</td>\n",
       "      <td>Residential</td>\n",
       "      <td>Wed May 21 00:00:00 EDT 2008</td>\n",
       "      <td>68212</td>\n",
       "      <td>38.478902</td>\n",
       "      <td>-121.431028</td>\n",
       "    </tr>\n",
       "    <tr>\n",
       "      <th>2</th>\n",
       "      <td>2796 BRANCH ST</td>\n",
       "      <td>SACRAMENTO</td>\n",
       "      <td>95815</td>\n",
       "      <td>CA</td>\n",
       "      <td>2</td>\n",
       "      <td>1</td>\n",
       "      <td>796</td>\n",
       "      <td>Residential</td>\n",
       "      <td>Wed May 21 00:00:00 EDT 2008</td>\n",
       "      <td>68880</td>\n",
       "      <td>38.618305</td>\n",
       "      <td>-121.443839</td>\n",
       "    </tr>\n",
       "    <tr>\n",
       "      <th>3</th>\n",
       "      <td>2805 JANETTE WAY</td>\n",
       "      <td>SACRAMENTO</td>\n",
       "      <td>95815</td>\n",
       "      <td>CA</td>\n",
       "      <td>2</td>\n",
       "      <td>1</td>\n",
       "      <td>852</td>\n",
       "      <td>Residential</td>\n",
       "      <td>Wed May 21 00:00:00 EDT 2008</td>\n",
       "      <td>69307</td>\n",
       "      <td>38.616835</td>\n",
       "      <td>-121.439146</td>\n",
       "    </tr>\n",
       "    <tr>\n",
       "      <th>4</th>\n",
       "      <td>6001 MCMAHON DR</td>\n",
       "      <td>SACRAMENTO</td>\n",
       "      <td>95824</td>\n",
       "      <td>CA</td>\n",
       "      <td>2</td>\n",
       "      <td>1</td>\n",
       "      <td>797</td>\n",
       "      <td>Residential</td>\n",
       "      <td>Wed May 21 00:00:00 EDT 2008</td>\n",
       "      <td>81900</td>\n",
       "      <td>38.519470</td>\n",
       "      <td>-121.435768</td>\n",
       "    </tr>\n",
       "  </tbody>\n",
       "</table>\n",
       "</div>"
      ],
      "text/plain": [
       "             street        city    zip state  beds  baths  sq__ft  \\\n",
       "0      3526 HIGH ST  SACRAMENTO  95838    CA     2      1     836   \n",
       "1       51 OMAHA CT  SACRAMENTO  95823    CA     3      1    1167   \n",
       "2    2796 BRANCH ST  SACRAMENTO  95815    CA     2      1     796   \n",
       "3  2805 JANETTE WAY  SACRAMENTO  95815    CA     2      1     852   \n",
       "4   6001 MCMAHON DR  SACRAMENTO  95824    CA     2      1     797   \n",
       "\n",
       "          type                     sale_date  price   latitude   longitude  \n",
       "0  Residential  Wed May 21 00:00:00 EDT 2008  59222  38.631913 -121.434879  \n",
       "1  Residential  Wed May 21 00:00:00 EDT 2008  68212  38.478902 -121.431028  \n",
       "2  Residential  Wed May 21 00:00:00 EDT 2008  68880  38.618305 -121.443839  \n",
       "3  Residential  Wed May 21 00:00:00 EDT 2008  69307  38.616835 -121.439146  \n",
       "4  Residential  Wed May 21 00:00:00 EDT 2008  81900  38.519470 -121.435768  "
      ]
     },
     "execution_count": 8,
     "metadata": {},
     "output_type": "execute_result"
    }
   ],
   "source": [
    "df.head(5)"
   ]
  },
  {
   "cell_type": "code",
   "execution_count": 9,
   "metadata": {},
   "outputs": [
    {
     "data": {
      "text/plain": [
       "0             3526 HIGH ST\n",
       "1              51 OMAHA CT\n",
       "2           2796 BRANCH ST\n",
       "3         2805 JANETTE WAY\n",
       "4          6001 MCMAHON DR\n",
       "              ...         \n",
       "980     9169 GARLINGTON CT\n",
       "981        6932 RUSKUT WAY\n",
       "982      7933 DAFFODIL WAY\n",
       "983       8304 RED FOX WAY\n",
       "984    3882 YELLOWSTONE LN\n",
       "Name: street, Length: 985, dtype: object"
      ]
     },
     "execution_count": 9,
     "metadata": {},
     "output_type": "execute_result"
    }
   ],
   "source": [
    "df[\"street\"]"
   ]
  },
  {
   "cell_type": "code",
   "execution_count": 11,
   "metadata": {},
   "outputs": [
    {
     "data": {
      "text/plain": [
       "pandas.core.series.Series"
      ]
     },
     "execution_count": 11,
     "metadata": {},
     "output_type": "execute_result"
    }
   ],
   "source": [
    "type(df[\"street\"])"
   ]
  },
  {
   "cell_type": "code",
   "execution_count": 13,
   "metadata": {},
   "outputs": [
    {
     "data": {
      "text/html": [
       "<div>\n",
       "<style scoped>\n",
       "    .dataframe tbody tr th:only-of-type {\n",
       "        vertical-align: middle;\n",
       "    }\n",
       "\n",
       "    .dataframe tbody tr th {\n",
       "        vertical-align: top;\n",
       "    }\n",
       "\n",
       "    .dataframe thead th {\n",
       "        text-align: right;\n",
       "    }\n",
       "</style>\n",
       "<table border=\"1\" class=\"dataframe\">\n",
       "  <thead>\n",
       "    <tr style=\"text-align: right;\">\n",
       "      <th></th>\n",
       "      <th>street</th>\n",
       "    </tr>\n",
       "  </thead>\n",
       "  <tbody>\n",
       "    <tr>\n",
       "      <th>0</th>\n",
       "      <td>3526 HIGH ST</td>\n",
       "    </tr>\n",
       "    <tr>\n",
       "      <th>1</th>\n",
       "      <td>51 OMAHA CT</td>\n",
       "    </tr>\n",
       "    <tr>\n",
       "      <th>2</th>\n",
       "      <td>2796 BRANCH ST</td>\n",
       "    </tr>\n",
       "    <tr>\n",
       "      <th>3</th>\n",
       "      <td>2805 JANETTE WAY</td>\n",
       "    </tr>\n",
       "    <tr>\n",
       "      <th>4</th>\n",
       "      <td>6001 MCMAHON DR</td>\n",
       "    </tr>\n",
       "    <tr>\n",
       "      <th>...</th>\n",
       "      <td>...</td>\n",
       "    </tr>\n",
       "    <tr>\n",
       "      <th>980</th>\n",
       "      <td>9169 GARLINGTON CT</td>\n",
       "    </tr>\n",
       "    <tr>\n",
       "      <th>981</th>\n",
       "      <td>6932 RUSKUT WAY</td>\n",
       "    </tr>\n",
       "    <tr>\n",
       "      <th>982</th>\n",
       "      <td>7933 DAFFODIL WAY</td>\n",
       "    </tr>\n",
       "    <tr>\n",
       "      <th>983</th>\n",
       "      <td>8304 RED FOX WAY</td>\n",
       "    </tr>\n",
       "    <tr>\n",
       "      <th>984</th>\n",
       "      <td>3882 YELLOWSTONE LN</td>\n",
       "    </tr>\n",
       "  </tbody>\n",
       "</table>\n",
       "<p>985 rows × 1 columns</p>\n",
       "</div>"
      ],
      "text/plain": [
       "                  street\n",
       "0           3526 HIGH ST\n",
       "1            51 OMAHA CT\n",
       "2         2796 BRANCH ST\n",
       "3       2805 JANETTE WAY\n",
       "4        6001 MCMAHON DR\n",
       "..                   ...\n",
       "980   9169 GARLINGTON CT\n",
       "981      6932 RUSKUT WAY\n",
       "982    7933 DAFFODIL WAY\n",
       "983     8304 RED FOX WAY\n",
       "984  3882 YELLOWSTONE LN\n",
       "\n",
       "[985 rows x 1 columns]"
      ]
     },
     "execution_count": 13,
     "metadata": {},
     "output_type": "execute_result"
    }
   ],
   "source": [
    "df[[\"street\"]]"
   ]
  },
  {
   "cell_type": "code",
   "execution_count": 14,
   "metadata": {},
   "outputs": [
    {
     "data": {
      "text/plain": [
       "pandas.core.frame.DataFrame"
      ]
     },
     "execution_count": 14,
     "metadata": {},
     "output_type": "execute_result"
    }
   ],
   "source": [
    "type(df[[\"street\"]])"
   ]
  },
  {
   "cell_type": "code",
   "execution_count": 17,
   "metadata": {},
   "outputs": [
    {
     "data": {
      "text/plain": [
       "pandas.core.series.Series"
      ]
     },
     "execution_count": 17,
     "metadata": {},
     "output_type": "execute_result"
    }
   ],
   "source": [
    "type(df.street)"
   ]
  },
  {
   "cell_type": "markdown",
   "metadata": {},
   "source": [
    "Try to avoid using class instance variables. Instead, use:\n",
    "df[\"street name\"] to access columns as Series objects\n",
    "\n",
    "\n",
    "## IV. rename 'sq__ft' to 'sq_ft'"
   ]
  },
  {
   "cell_type": "code",
   "execution_count": 20,
   "metadata": {},
   "outputs": [],
   "source": [
    "# create a copy that we can mess up\n",
    "df_clean = df.copy()"
   ]
  },
  {
   "cell_type": "code",
   "execution_count": 21,
   "metadata": {},
   "outputs": [
    {
     "data": {
      "text/html": [
       "<div>\n",
       "<style scoped>\n",
       "    .dataframe tbody tr th:only-of-type {\n",
       "        vertical-align: middle;\n",
       "    }\n",
       "\n",
       "    .dataframe tbody tr th {\n",
       "        vertical-align: top;\n",
       "    }\n",
       "\n",
       "    .dataframe thead th {\n",
       "        text-align: right;\n",
       "    }\n",
       "</style>\n",
       "<table border=\"1\" class=\"dataframe\">\n",
       "  <thead>\n",
       "    <tr style=\"text-align: right;\">\n",
       "      <th></th>\n",
       "      <th>street</th>\n",
       "      <th>city</th>\n",
       "      <th>zip</th>\n",
       "      <th>state</th>\n",
       "      <th>beds</th>\n",
       "      <th>baths</th>\n",
       "      <th>sq__ft</th>\n",
       "      <th>type</th>\n",
       "      <th>sale_date</th>\n",
       "      <th>price</th>\n",
       "      <th>latitude</th>\n",
       "      <th>longitude</th>\n",
       "    </tr>\n",
       "  </thead>\n",
       "  <tbody>\n",
       "    <tr>\n",
       "      <th>0</th>\n",
       "      <td>3526 HIGH ST</td>\n",
       "      <td>SACRAMENTO</td>\n",
       "      <td>95838</td>\n",
       "      <td>CA</td>\n",
       "      <td>2</td>\n",
       "      <td>1</td>\n",
       "      <td>836</td>\n",
       "      <td>Residential</td>\n",
       "      <td>Wed May 21 00:00:00 EDT 2008</td>\n",
       "      <td>59222</td>\n",
       "      <td>38.631913</td>\n",
       "      <td>-121.434879</td>\n",
       "    </tr>\n",
       "    <tr>\n",
       "      <th>1</th>\n",
       "      <td>51 OMAHA CT</td>\n",
       "      <td>SACRAMENTO</td>\n",
       "      <td>95823</td>\n",
       "      <td>CA</td>\n",
       "      <td>3</td>\n",
       "      <td>1</td>\n",
       "      <td>1167</td>\n",
       "      <td>Residential</td>\n",
       "      <td>Wed May 21 00:00:00 EDT 2008</td>\n",
       "      <td>68212</td>\n",
       "      <td>38.478902</td>\n",
       "      <td>-121.431028</td>\n",
       "    </tr>\n",
       "    <tr>\n",
       "      <th>2</th>\n",
       "      <td>2796 BRANCH ST</td>\n",
       "      <td>SACRAMENTO</td>\n",
       "      <td>95815</td>\n",
       "      <td>CA</td>\n",
       "      <td>2</td>\n",
       "      <td>1</td>\n",
       "      <td>796</td>\n",
       "      <td>Residential</td>\n",
       "      <td>Wed May 21 00:00:00 EDT 2008</td>\n",
       "      <td>68880</td>\n",
       "      <td>38.618305</td>\n",
       "      <td>-121.443839</td>\n",
       "    </tr>\n",
       "    <tr>\n",
       "      <th>3</th>\n",
       "      <td>2805 JANETTE WAY</td>\n",
       "      <td>SACRAMENTO</td>\n",
       "      <td>95815</td>\n",
       "      <td>CA</td>\n",
       "      <td>2</td>\n",
       "      <td>1</td>\n",
       "      <td>852</td>\n",
       "      <td>Residential</td>\n",
       "      <td>Wed May 21 00:00:00 EDT 2008</td>\n",
       "      <td>69307</td>\n",
       "      <td>38.616835</td>\n",
       "      <td>-121.439146</td>\n",
       "    </tr>\n",
       "    <tr>\n",
       "      <th>4</th>\n",
       "      <td>6001 MCMAHON DR</td>\n",
       "      <td>SACRAMENTO</td>\n",
       "      <td>95824</td>\n",
       "      <td>CA</td>\n",
       "      <td>2</td>\n",
       "      <td>1</td>\n",
       "      <td>797</td>\n",
       "      <td>Residential</td>\n",
       "      <td>Wed May 21 00:00:00 EDT 2008</td>\n",
       "      <td>81900</td>\n",
       "      <td>38.519470</td>\n",
       "      <td>-121.435768</td>\n",
       "    </tr>\n",
       "  </tbody>\n",
       "</table>\n",
       "</div>"
      ],
      "text/plain": [
       "             street        city    zip state  beds  baths  sq__ft  \\\n",
       "0      3526 HIGH ST  SACRAMENTO  95838    CA     2      1     836   \n",
       "1       51 OMAHA CT  SACRAMENTO  95823    CA     3      1    1167   \n",
       "2    2796 BRANCH ST  SACRAMENTO  95815    CA     2      1     796   \n",
       "3  2805 JANETTE WAY  SACRAMENTO  95815    CA     2      1     852   \n",
       "4   6001 MCMAHON DR  SACRAMENTO  95824    CA     2      1     797   \n",
       "\n",
       "          type                     sale_date  price   latitude   longitude  \n",
       "0  Residential  Wed May 21 00:00:00 EDT 2008  59222  38.631913 -121.434879  \n",
       "1  Residential  Wed May 21 00:00:00 EDT 2008  68212  38.478902 -121.431028  \n",
       "2  Residential  Wed May 21 00:00:00 EDT 2008  68880  38.618305 -121.443839  \n",
       "3  Residential  Wed May 21 00:00:00 EDT 2008  69307  38.616835 -121.439146  \n",
       "4  Residential  Wed May 21 00:00:00 EDT 2008  81900  38.519470 -121.435768  "
      ]
     },
     "execution_count": 21,
     "metadata": {},
     "output_type": "execute_result"
    }
   ],
   "source": [
    "df_clean.head()"
   ]
  },
  {
   "cell_type": "code",
   "execution_count": 22,
   "metadata": {},
   "outputs": [
    {
     "data": {
      "text/plain": [
       "Index(['street', 'city', 'zip', 'state', 'beds', 'baths', 'sq__ft', 'type',\n",
       "       'sale_date', 'price', 'latitude', 'longitude'],\n",
       "      dtype='object')"
      ]
     },
     "execution_count": 22,
     "metadata": {},
     "output_type": "execute_result"
    }
   ],
   "source": [
    "# access column labels\n",
    "df_clean.columns"
   ]
  },
  {
   "cell_type": "code",
   "execution_count": 23,
   "metadata": {},
   "outputs": [
    {
     "data": {
      "text/plain": [
       "pandas.core.indexes.base.Index"
      ]
     },
     "execution_count": 23,
     "metadata": {},
     "output_type": "execute_result"
    }
   ],
   "source": [
    "type(df_clean.columns)"
   ]
  },
  {
   "cell_type": "code",
   "execution_count": 24,
   "metadata": {},
   "outputs": [
    {
     "data": {
      "text/plain": [
       "['street',\n",
       " 'city',\n",
       " 'zip',\n",
       " 'state',\n",
       " 'beds',\n",
       " 'baths',\n",
       " 'sq__ft',\n",
       " 'type',\n",
       " 'sale_date',\n",
       " 'price',\n",
       " 'latitude',\n",
       " 'longitude']"
      ]
     },
     "execution_count": 24,
     "metadata": {},
     "output_type": "execute_result"
    }
   ],
   "source": [
    "list(df_clean.columns)"
   ]
  },
  {
   "cell_type": "code",
   "execution_count": 25,
   "metadata": {},
   "outputs": [
    {
     "data": {
      "text/plain": [
       "['street',\n",
       " 'city',\n",
       " 'zip',\n",
       " 'state',\n",
       " 'beds',\n",
       " 'baths',\n",
       " 'sq__ft',\n",
       " 'type',\n",
       " 'sale_date',\n",
       " 'price',\n",
       " 'latitude',\n",
       " 'longitude']"
      ]
     },
     "execution_count": 25,
     "metadata": {},
     "output_type": "execute_result"
    }
   ],
   "source": [
    "[col_name for col_name in df_clean.columns]"
   ]
  },
  {
   "cell_type": "code",
   "execution_count": 26,
   "metadata": {},
   "outputs": [
    {
     "data": {
      "text/plain": [
       "['street',\n",
       " 'city',\n",
       " 'zip',\n",
       " 'state',\n",
       " 'beds',\n",
       " 'baths',\n",
       " 'sq_ft',\n",
       " 'type',\n",
       " 'sale_date',\n",
       " 'price',\n",
       " 'latitude',\n",
       " 'longitude']"
      ]
     },
     "execution_count": 26,
     "metadata": {},
     "output_type": "execute_result"
    }
   ],
   "source": [
    "[col_name.replace(\"__\",\"_\") for col_name in df_clean.columns]"
   ]
  },
  {
   "cell_type": "code",
   "execution_count": 28,
   "metadata": {},
   "outputs": [],
   "source": [
    "# reassign columns of df_clean\n",
    "df_clean.columns = [col_name.replace(\"__\",\"_\") for col_name in df_clean.columns]"
   ]
  },
  {
   "cell_type": "code",
   "execution_count": 29,
   "metadata": {},
   "outputs": [
    {
     "data": {
      "text/html": [
       "<div>\n",
       "<style scoped>\n",
       "    .dataframe tbody tr th:only-of-type {\n",
       "        vertical-align: middle;\n",
       "    }\n",
       "\n",
       "    .dataframe tbody tr th {\n",
       "        vertical-align: top;\n",
       "    }\n",
       "\n",
       "    .dataframe thead th {\n",
       "        text-align: right;\n",
       "    }\n",
       "</style>\n",
       "<table border=\"1\" class=\"dataframe\">\n",
       "  <thead>\n",
       "    <tr style=\"text-align: right;\">\n",
       "      <th></th>\n",
       "      <th>street</th>\n",
       "      <th>city</th>\n",
       "      <th>zip</th>\n",
       "      <th>state</th>\n",
       "      <th>beds</th>\n",
       "      <th>baths</th>\n",
       "      <th>sq_ft</th>\n",
       "      <th>type</th>\n",
       "      <th>sale_date</th>\n",
       "      <th>price</th>\n",
       "      <th>latitude</th>\n",
       "      <th>longitude</th>\n",
       "    </tr>\n",
       "  </thead>\n",
       "  <tbody>\n",
       "    <tr>\n",
       "      <th>0</th>\n",
       "      <td>3526 HIGH ST</td>\n",
       "      <td>SACRAMENTO</td>\n",
       "      <td>95838</td>\n",
       "      <td>CA</td>\n",
       "      <td>2</td>\n",
       "      <td>1</td>\n",
       "      <td>836</td>\n",
       "      <td>Residential</td>\n",
       "      <td>Wed May 21 00:00:00 EDT 2008</td>\n",
       "      <td>59222</td>\n",
       "      <td>38.631913</td>\n",
       "      <td>-121.434879</td>\n",
       "    </tr>\n",
       "    <tr>\n",
       "      <th>1</th>\n",
       "      <td>51 OMAHA CT</td>\n",
       "      <td>SACRAMENTO</td>\n",
       "      <td>95823</td>\n",
       "      <td>CA</td>\n",
       "      <td>3</td>\n",
       "      <td>1</td>\n",
       "      <td>1167</td>\n",
       "      <td>Residential</td>\n",
       "      <td>Wed May 21 00:00:00 EDT 2008</td>\n",
       "      <td>68212</td>\n",
       "      <td>38.478902</td>\n",
       "      <td>-121.431028</td>\n",
       "    </tr>\n",
       "    <tr>\n",
       "      <th>2</th>\n",
       "      <td>2796 BRANCH ST</td>\n",
       "      <td>SACRAMENTO</td>\n",
       "      <td>95815</td>\n",
       "      <td>CA</td>\n",
       "      <td>2</td>\n",
       "      <td>1</td>\n",
       "      <td>796</td>\n",
       "      <td>Residential</td>\n",
       "      <td>Wed May 21 00:00:00 EDT 2008</td>\n",
       "      <td>68880</td>\n",
       "      <td>38.618305</td>\n",
       "      <td>-121.443839</td>\n",
       "    </tr>\n",
       "    <tr>\n",
       "      <th>3</th>\n",
       "      <td>2805 JANETTE WAY</td>\n",
       "      <td>SACRAMENTO</td>\n",
       "      <td>95815</td>\n",
       "      <td>CA</td>\n",
       "      <td>2</td>\n",
       "      <td>1</td>\n",
       "      <td>852</td>\n",
       "      <td>Residential</td>\n",
       "      <td>Wed May 21 00:00:00 EDT 2008</td>\n",
       "      <td>69307</td>\n",
       "      <td>38.616835</td>\n",
       "      <td>-121.439146</td>\n",
       "    </tr>\n",
       "    <tr>\n",
       "      <th>4</th>\n",
       "      <td>6001 MCMAHON DR</td>\n",
       "      <td>SACRAMENTO</td>\n",
       "      <td>95824</td>\n",
       "      <td>CA</td>\n",
       "      <td>2</td>\n",
       "      <td>1</td>\n",
       "      <td>797</td>\n",
       "      <td>Residential</td>\n",
       "      <td>Wed May 21 00:00:00 EDT 2008</td>\n",
       "      <td>81900</td>\n",
       "      <td>38.519470</td>\n",
       "      <td>-121.435768</td>\n",
       "    </tr>\n",
       "  </tbody>\n",
       "</table>\n",
       "</div>"
      ],
      "text/plain": [
       "             street        city    zip state  beds  baths  sq_ft         type  \\\n",
       "0      3526 HIGH ST  SACRAMENTO  95838    CA     2      1    836  Residential   \n",
       "1       51 OMAHA CT  SACRAMENTO  95823    CA     3      1   1167  Residential   \n",
       "2    2796 BRANCH ST  SACRAMENTO  95815    CA     2      1    796  Residential   \n",
       "3  2805 JANETTE WAY  SACRAMENTO  95815    CA     2      1    852  Residential   \n",
       "4   6001 MCMAHON DR  SACRAMENTO  95824    CA     2      1    797  Residential   \n",
       "\n",
       "                      sale_date  price   latitude   longitude  \n",
       "0  Wed May 21 00:00:00 EDT 2008  59222  38.631913 -121.434879  \n",
       "1  Wed May 21 00:00:00 EDT 2008  68212  38.478902 -121.431028  \n",
       "2  Wed May 21 00:00:00 EDT 2008  68880  38.618305 -121.443839  \n",
       "3  Wed May 21 00:00:00 EDT 2008  69307  38.616835 -121.439146  \n",
       "4  Wed May 21 00:00:00 EDT 2008  81900  38.519470 -121.435768  "
      ]
     },
     "execution_count": 29,
     "metadata": {},
     "output_type": "execute_result"
    }
   ],
   "source": [
    "df_clean.head()"
   ]
  },
  {
   "cell_type": "markdown",
   "metadata": {},
   "source": [
    "## I. Capitalize 'city' (title instead of capitalize)"
   ]
  },
  {
   "cell_type": "code",
   "execution_count": 30,
   "metadata": {},
   "outputs": [
    {
     "data": {
      "text/plain": [
       "0           SACRAMENTO\n",
       "1           SACRAMENTO\n",
       "2           SACRAMENTO\n",
       "3           SACRAMENTO\n",
       "4           SACRAMENTO\n",
       "            ...       \n",
       "980         SACRAMENTO\n",
       "981         SACRAMENTO\n",
       "982     CITRUS HEIGHTS\n",
       "983          ELK GROVE\n",
       "984    EL DORADO HILLS\n",
       "Name: city, Length: 985, dtype: object"
      ]
     },
     "execution_count": 30,
     "metadata": {},
     "output_type": "execute_result"
    }
   ],
   "source": [
    "df_clean[\"city\"]"
   ]
  },
  {
   "cell_type": "code",
   "execution_count": 31,
   "metadata": {},
   "outputs": [
    {
     "data": {
      "text/plain": [
       "0           Sacramento\n",
       "1           Sacramento\n",
       "2           Sacramento\n",
       "3           Sacramento\n",
       "4           Sacramento\n",
       "            ...       \n",
       "980         Sacramento\n",
       "981         Sacramento\n",
       "982     Citrus heights\n",
       "983          Elk grove\n",
       "984    El dorado hills\n",
       "Name: city, Length: 985, dtype: object"
      ]
     },
     "execution_count": 31,
     "metadata": {},
     "output_type": "execute_result"
    }
   ],
   "source": [
    "df_clean[\"city\"].str.capitalize()"
   ]
  },
  {
   "cell_type": "code",
   "execution_count": 32,
   "metadata": {},
   "outputs": [
    {
     "data": {
      "text/plain": [
       "0           Sacramento\n",
       "1           Sacramento\n",
       "2           Sacramento\n",
       "3           Sacramento\n",
       "4           Sacramento\n",
       "            ...       \n",
       "980         Sacramento\n",
       "981         Sacramento\n",
       "982     Citrus Heights\n",
       "983          Elk Grove\n",
       "984    El Dorado Hills\n",
       "Name: city, Length: 985, dtype: object"
      ]
     },
     "execution_count": 32,
     "metadata": {},
     "output_type": "execute_result"
    }
   ],
   "source": [
    "df_clean[\"city\"].str.title()"
   ]
  },
  {
   "cell_type": "markdown",
   "metadata": {},
   "source": [
    "Re-assign the `city` column with the transformation"
   ]
  },
  {
   "cell_type": "code",
   "execution_count": 34,
   "metadata": {},
   "outputs": [],
   "source": [
    "df_clean[\"city\"] = df_clean[\"city\"].str.title()"
   ]
  },
  {
   "cell_type": "code",
   "execution_count": 35,
   "metadata": {},
   "outputs": [
    {
     "data": {
      "text/html": [
       "<div>\n",
       "<style scoped>\n",
       "    .dataframe tbody tr th:only-of-type {\n",
       "        vertical-align: middle;\n",
       "    }\n",
       "\n",
       "    .dataframe tbody tr th {\n",
       "        vertical-align: top;\n",
       "    }\n",
       "\n",
       "    .dataframe thead th {\n",
       "        text-align: right;\n",
       "    }\n",
       "</style>\n",
       "<table border=\"1\" class=\"dataframe\">\n",
       "  <thead>\n",
       "    <tr style=\"text-align: right;\">\n",
       "      <th></th>\n",
       "      <th>street</th>\n",
       "      <th>city</th>\n",
       "      <th>zip</th>\n",
       "      <th>state</th>\n",
       "      <th>beds</th>\n",
       "      <th>baths</th>\n",
       "      <th>sq_ft</th>\n",
       "      <th>type</th>\n",
       "      <th>sale_date</th>\n",
       "      <th>price</th>\n",
       "      <th>latitude</th>\n",
       "      <th>longitude</th>\n",
       "    </tr>\n",
       "  </thead>\n",
       "  <tbody>\n",
       "    <tr>\n",
       "      <th>0</th>\n",
       "      <td>3526 HIGH ST</td>\n",
       "      <td>Sacramento</td>\n",
       "      <td>95838</td>\n",
       "      <td>CA</td>\n",
       "      <td>2</td>\n",
       "      <td>1</td>\n",
       "      <td>836</td>\n",
       "      <td>Residential</td>\n",
       "      <td>Wed May 21 00:00:00 EDT 2008</td>\n",
       "      <td>59222</td>\n",
       "      <td>38.631913</td>\n",
       "      <td>-121.434879</td>\n",
       "    </tr>\n",
       "    <tr>\n",
       "      <th>1</th>\n",
       "      <td>51 OMAHA CT</td>\n",
       "      <td>Sacramento</td>\n",
       "      <td>95823</td>\n",
       "      <td>CA</td>\n",
       "      <td>3</td>\n",
       "      <td>1</td>\n",
       "      <td>1167</td>\n",
       "      <td>Residential</td>\n",
       "      <td>Wed May 21 00:00:00 EDT 2008</td>\n",
       "      <td>68212</td>\n",
       "      <td>38.478902</td>\n",
       "      <td>-121.431028</td>\n",
       "    </tr>\n",
       "    <tr>\n",
       "      <th>2</th>\n",
       "      <td>2796 BRANCH ST</td>\n",
       "      <td>Sacramento</td>\n",
       "      <td>95815</td>\n",
       "      <td>CA</td>\n",
       "      <td>2</td>\n",
       "      <td>1</td>\n",
       "      <td>796</td>\n",
       "      <td>Residential</td>\n",
       "      <td>Wed May 21 00:00:00 EDT 2008</td>\n",
       "      <td>68880</td>\n",
       "      <td>38.618305</td>\n",
       "      <td>-121.443839</td>\n",
       "    </tr>\n",
       "    <tr>\n",
       "      <th>3</th>\n",
       "      <td>2805 JANETTE WAY</td>\n",
       "      <td>Sacramento</td>\n",
       "      <td>95815</td>\n",
       "      <td>CA</td>\n",
       "      <td>2</td>\n",
       "      <td>1</td>\n",
       "      <td>852</td>\n",
       "      <td>Residential</td>\n",
       "      <td>Wed May 21 00:00:00 EDT 2008</td>\n",
       "      <td>69307</td>\n",
       "      <td>38.616835</td>\n",
       "      <td>-121.439146</td>\n",
       "    </tr>\n",
       "    <tr>\n",
       "      <th>4</th>\n",
       "      <td>6001 MCMAHON DR</td>\n",
       "      <td>Sacramento</td>\n",
       "      <td>95824</td>\n",
       "      <td>CA</td>\n",
       "      <td>2</td>\n",
       "      <td>1</td>\n",
       "      <td>797</td>\n",
       "      <td>Residential</td>\n",
       "      <td>Wed May 21 00:00:00 EDT 2008</td>\n",
       "      <td>81900</td>\n",
       "      <td>38.519470</td>\n",
       "      <td>-121.435768</td>\n",
       "    </tr>\n",
       "  </tbody>\n",
       "</table>\n",
       "</div>"
      ],
      "text/plain": [
       "             street        city    zip state  beds  baths  sq_ft         type  \\\n",
       "0      3526 HIGH ST  Sacramento  95838    CA     2      1    836  Residential   \n",
       "1       51 OMAHA CT  Sacramento  95823    CA     3      1   1167  Residential   \n",
       "2    2796 BRANCH ST  Sacramento  95815    CA     2      1    796  Residential   \n",
       "3  2805 JANETTE WAY  Sacramento  95815    CA     2      1    852  Residential   \n",
       "4   6001 MCMAHON DR  Sacramento  95824    CA     2      1    797  Residential   \n",
       "\n",
       "                      sale_date  price   latitude   longitude  \n",
       "0  Wed May 21 00:00:00 EDT 2008  59222  38.631913 -121.434879  \n",
       "1  Wed May 21 00:00:00 EDT 2008  68212  38.478902 -121.431028  \n",
       "2  Wed May 21 00:00:00 EDT 2008  68880  38.618305 -121.443839  \n",
       "3  Wed May 21 00:00:00 EDT 2008  69307  38.616835 -121.439146  \n",
       "4  Wed May 21 00:00:00 EDT 2008  81900  38.519470 -121.435768  "
      ]
     },
     "execution_count": 35,
     "metadata": {},
     "output_type": "execute_result"
    }
   ],
   "source": [
    "df_clean.head()"
   ]
  },
  {
   "cell_type": "markdown",
   "metadata": {},
   "source": [
    "## II. turn 'zip', 'beds', 'baths', 'sq__ft', 'price' into int\n",
    "## III. turn 'latitude' and 'longitude' into float"
   ]
  },
  {
   "cell_type": "code",
   "execution_count": 37,
   "metadata": {},
   "outputs": [
    {
     "data": {
      "text/plain": [
       "street        object\n",
       "city          object\n",
       "zip            int64\n",
       "state         object\n",
       "beds           int64\n",
       "baths          int64\n",
       "sq_ft          int64\n",
       "type          object\n",
       "sale_date     object\n",
       "price          int64\n",
       "latitude     float64\n",
       "longitude    float64\n",
       "dtype: object"
      ]
     },
     "execution_count": 37,
     "metadata": {},
     "output_type": "execute_result"
    }
   ],
   "source": [
    "df_clean.dtypes"
   ]
  },
  {
   "cell_type": "markdown",
   "metadata": {},
   "source": [
    "- Most of the types were already correctly inferred"
   ]
  },
  {
   "cell_type": "markdown",
   "metadata": {},
   "source": [
    "## V. turn 'sale_date' into a 'YYYY-MM-DD' format"
   ]
  },
  {
   "cell_type": "code",
   "execution_count": 40,
   "metadata": {},
   "outputs": [
    {
     "data": {
      "text/plain": [
       "dtype('O')"
      ]
     },
     "execution_count": 40,
     "metadata": {},
     "output_type": "execute_result"
    }
   ],
   "source": [
    "df_clean[\"sale_date\"].dtypes"
   ]
  },
  {
   "cell_type": "code",
   "execution_count": 41,
   "metadata": {},
   "outputs": [
    {
     "data": {
      "text/plain": [
       "0      Wed May 21 00:00:00 EDT 2008\n",
       "1      Wed May 21 00:00:00 EDT 2008\n",
       "2      Wed May 21 00:00:00 EDT 2008\n",
       "3      Wed May 21 00:00:00 EDT 2008\n",
       "4      Wed May 21 00:00:00 EDT 2008\n",
       "                   ...             \n",
       "980    Thu May 15 00:00:00 EDT 2008\n",
       "981    Thu May 15 00:00:00 EDT 2008\n",
       "982    Thu May 15 00:00:00 EDT 2008\n",
       "983    Thu May 15 00:00:00 EDT 2008\n",
       "984    Thu May 15 00:00:00 EDT 2008\n",
       "Name: sale_date, Length: 985, dtype: object"
      ]
     },
     "execution_count": 41,
     "metadata": {},
     "output_type": "execute_result"
    }
   ],
   "source": [
    "df_clean[\"sale_date\"]"
   ]
  },
  {
   "cell_type": "code",
   "execution_count": 45,
   "metadata": {},
   "outputs": [
    {
     "data": {
      "text/plain": [
       "0     2008-05-21 00:00:00+00:00\n",
       "1     2008-05-21 00:00:00+00:00\n",
       "2     2008-05-21 00:00:00+00:00\n",
       "3     2008-05-21 00:00:00+00:00\n",
       "4     2008-05-21 00:00:00+00:00\n",
       "                 ...           \n",
       "980   2008-05-15 00:00:00+00:00\n",
       "981   2008-05-15 00:00:00+00:00\n",
       "982   2008-05-15 00:00:00+00:00\n",
       "983   2008-05-15 00:00:00+00:00\n",
       "984   2008-05-15 00:00:00+00:00\n",
       "Name: sale_date, Length: 985, dtype: datetime64[ns, UTC]"
      ]
     },
     "execution_count": 45,
     "metadata": {},
     "output_type": "execute_result"
    }
   ],
   "source": [
    "pd.to_datetime(df_clean[\"sale_date\"], utc=True)"
   ]
  },
  {
   "cell_type": "code",
   "execution_count": 46,
   "metadata": {},
   "outputs": [
    {
     "data": {
      "text/plain": [
       "pandas.core.series.Series"
      ]
     },
     "execution_count": 46,
     "metadata": {},
     "output_type": "execute_result"
    }
   ],
   "source": [
    "type(pd.to_datetime(df_clean[\"sale_date\"], utc=True))"
   ]
  },
  {
   "cell_type": "code",
   "execution_count": 44,
   "metadata": {},
   "outputs": [
    {
     "data": {
      "text/plain": [
       "0      2008-05-21\n",
       "1      2008-05-21\n",
       "2      2008-05-21\n",
       "3      2008-05-21\n",
       "4      2008-05-21\n",
       "          ...    \n",
       "980    2008-05-15\n",
       "981    2008-05-15\n",
       "982    2008-05-15\n",
       "983    2008-05-15\n",
       "984    2008-05-15\n",
       "Name: sale_date, Length: 985, dtype: object"
      ]
     },
     "execution_count": 44,
     "metadata": {},
     "output_type": "execute_result"
    }
   ],
   "source": [
    "pd.to_datetime(df_clean[\"sale_date\"], utc=True).dt.strftime(\"%Y-%m-%d\")"
   ]
  },
  {
   "cell_type": "code",
   "execution_count": 47,
   "metadata": {},
   "outputs": [],
   "source": [
    "df_clean[\"sale_date\"] = pd.to_datetime(df_clean[\"sale_date\"], utc=True).dt.strftime(\"%Y-%m-%d\")"
   ]
  },
  {
   "cell_type": "code",
   "execution_count": 48,
   "metadata": {},
   "outputs": [
    {
     "data": {
      "text/html": [
       "<div>\n",
       "<style scoped>\n",
       "    .dataframe tbody tr th:only-of-type {\n",
       "        vertical-align: middle;\n",
       "    }\n",
       "\n",
       "    .dataframe tbody tr th {\n",
       "        vertical-align: top;\n",
       "    }\n",
       "\n",
       "    .dataframe thead th {\n",
       "        text-align: right;\n",
       "    }\n",
       "</style>\n",
       "<table border=\"1\" class=\"dataframe\">\n",
       "  <thead>\n",
       "    <tr style=\"text-align: right;\">\n",
       "      <th></th>\n",
       "      <th>street</th>\n",
       "      <th>city</th>\n",
       "      <th>zip</th>\n",
       "      <th>state</th>\n",
       "      <th>beds</th>\n",
       "      <th>baths</th>\n",
       "      <th>sq_ft</th>\n",
       "      <th>type</th>\n",
       "      <th>sale_date</th>\n",
       "      <th>price</th>\n",
       "      <th>latitude</th>\n",
       "      <th>longitude</th>\n",
       "    </tr>\n",
       "  </thead>\n",
       "  <tbody>\n",
       "    <tr>\n",
       "      <th>0</th>\n",
       "      <td>3526 HIGH ST</td>\n",
       "      <td>Sacramento</td>\n",
       "      <td>95838</td>\n",
       "      <td>CA</td>\n",
       "      <td>2</td>\n",
       "      <td>1</td>\n",
       "      <td>836</td>\n",
       "      <td>Residential</td>\n",
       "      <td>2008-05-21</td>\n",
       "      <td>59222</td>\n",
       "      <td>38.631913</td>\n",
       "      <td>-121.434879</td>\n",
       "    </tr>\n",
       "    <tr>\n",
       "      <th>1</th>\n",
       "      <td>51 OMAHA CT</td>\n",
       "      <td>Sacramento</td>\n",
       "      <td>95823</td>\n",
       "      <td>CA</td>\n",
       "      <td>3</td>\n",
       "      <td>1</td>\n",
       "      <td>1167</td>\n",
       "      <td>Residential</td>\n",
       "      <td>2008-05-21</td>\n",
       "      <td>68212</td>\n",
       "      <td>38.478902</td>\n",
       "      <td>-121.431028</td>\n",
       "    </tr>\n",
       "    <tr>\n",
       "      <th>2</th>\n",
       "      <td>2796 BRANCH ST</td>\n",
       "      <td>Sacramento</td>\n",
       "      <td>95815</td>\n",
       "      <td>CA</td>\n",
       "      <td>2</td>\n",
       "      <td>1</td>\n",
       "      <td>796</td>\n",
       "      <td>Residential</td>\n",
       "      <td>2008-05-21</td>\n",
       "      <td>68880</td>\n",
       "      <td>38.618305</td>\n",
       "      <td>-121.443839</td>\n",
       "    </tr>\n",
       "    <tr>\n",
       "      <th>3</th>\n",
       "      <td>2805 JANETTE WAY</td>\n",
       "      <td>Sacramento</td>\n",
       "      <td>95815</td>\n",
       "      <td>CA</td>\n",
       "      <td>2</td>\n",
       "      <td>1</td>\n",
       "      <td>852</td>\n",
       "      <td>Residential</td>\n",
       "      <td>2008-05-21</td>\n",
       "      <td>69307</td>\n",
       "      <td>38.616835</td>\n",
       "      <td>-121.439146</td>\n",
       "    </tr>\n",
       "    <tr>\n",
       "      <th>4</th>\n",
       "      <td>6001 MCMAHON DR</td>\n",
       "      <td>Sacramento</td>\n",
       "      <td>95824</td>\n",
       "      <td>CA</td>\n",
       "      <td>2</td>\n",
       "      <td>1</td>\n",
       "      <td>797</td>\n",
       "      <td>Residential</td>\n",
       "      <td>2008-05-21</td>\n",
       "      <td>81900</td>\n",
       "      <td>38.519470</td>\n",
       "      <td>-121.435768</td>\n",
       "    </tr>\n",
       "  </tbody>\n",
       "</table>\n",
       "</div>"
      ],
      "text/plain": [
       "             street        city    zip state  beds  baths  sq_ft         type  \\\n",
       "0      3526 HIGH ST  Sacramento  95838    CA     2      1    836  Residential   \n",
       "1       51 OMAHA CT  Sacramento  95823    CA     3      1   1167  Residential   \n",
       "2    2796 BRANCH ST  Sacramento  95815    CA     2      1    796  Residential   \n",
       "3  2805 JANETTE WAY  Sacramento  95815    CA     2      1    852  Residential   \n",
       "4   6001 MCMAHON DR  Sacramento  95824    CA     2      1    797  Residential   \n",
       "\n",
       "    sale_date  price   latitude   longitude  \n",
       "0  2008-05-21  59222  38.631913 -121.434879  \n",
       "1  2008-05-21  68212  38.478902 -121.431028  \n",
       "2  2008-05-21  68880  38.618305 -121.443839  \n",
       "3  2008-05-21  69307  38.616835 -121.439146  \n",
       "4  2008-05-21  81900  38.519470 -121.435768  "
      ]
     },
     "execution_count": 48,
     "metadata": {},
     "output_type": "execute_result"
    }
   ],
   "source": [
    "df_clean.head()"
   ]
  },
  {
   "cell_type": "markdown",
   "metadata": {},
   "source": [
    "Recap.\n",
    "\n",
    "Repeat all the steps"
   ]
  },
  {
   "cell_type": "code",
   "execution_count": 49,
   "metadata": {},
   "outputs": [],
   "source": [
    "# read data\n",
    "df_1 = pd.read_csv(\"data/Sacramentorealestatetransactions.csv\")"
   ]
  },
  {
   "cell_type": "code",
   "execution_count": 51,
   "metadata": {},
   "outputs": [],
   "source": [
    "# replace \"__\" from columns names\n",
    "df_1.columns = [col_name.replace(\"__\",\"_\") for col_name in df_1.columns]"
   ]
  },
  {
   "cell_type": "code",
   "execution_count": 63,
   "metadata": {},
   "outputs": [],
   "source": [
    "# title the city column\n",
    "df_1[\"city\"] = df_1[\"city\"].str.title()"
   ]
  },
  {
   "cell_type": "code",
   "execution_count": 52,
   "metadata": {},
   "outputs": [
    {
     "data": {
      "text/plain": [
       "street        object\n",
       "city          object\n",
       "zip            int64\n",
       "state         object\n",
       "beds           int64\n",
       "baths          int64\n",
       "sq_ft          int64\n",
       "type          object\n",
       "sale_date     object\n",
       "price          int64\n",
       "latitude     float64\n",
       "longitude    float64\n",
       "dtype: object"
      ]
     },
     "execution_count": 52,
     "metadata": {},
     "output_type": "execute_result"
    }
   ],
   "source": [
    "# types were already correctly inferred\n",
    "df_1.dtypes"
   ]
  },
  {
   "cell_type": "code",
   "execution_count": 59,
   "metadata": {},
   "outputs": [],
   "source": [
    "# convert date string into \"YYYY-MM-DD\"\n",
    "df_1[\"sale_date\"] = pd.to_datetime(df_1[\"sale_date\"]).dt.strftime(\"%Y-%m-%d\")"
   ]
  },
  {
   "cell_type": "code",
   "execution_count": 64,
   "metadata": {},
   "outputs": [
    {
     "data": {
      "text/html": [
       "<div>\n",
       "<style scoped>\n",
       "    .dataframe tbody tr th:only-of-type {\n",
       "        vertical-align: middle;\n",
       "    }\n",
       "\n",
       "    .dataframe tbody tr th {\n",
       "        vertical-align: top;\n",
       "    }\n",
       "\n",
       "    .dataframe thead th {\n",
       "        text-align: right;\n",
       "    }\n",
       "</style>\n",
       "<table border=\"1\" class=\"dataframe\">\n",
       "  <thead>\n",
       "    <tr style=\"text-align: right;\">\n",
       "      <th></th>\n",
       "      <th>street</th>\n",
       "      <th>city</th>\n",
       "      <th>zip</th>\n",
       "      <th>state</th>\n",
       "      <th>beds</th>\n",
       "      <th>baths</th>\n",
       "      <th>sq_ft</th>\n",
       "      <th>type</th>\n",
       "      <th>sale_date</th>\n",
       "      <th>price</th>\n",
       "      <th>latitude</th>\n",
       "      <th>longitude</th>\n",
       "    </tr>\n",
       "  </thead>\n",
       "  <tbody>\n",
       "    <tr>\n",
       "      <th>0</th>\n",
       "      <td>3526 HIGH ST</td>\n",
       "      <td>Sacramento</td>\n",
       "      <td>95838</td>\n",
       "      <td>CA</td>\n",
       "      <td>2</td>\n",
       "      <td>1</td>\n",
       "      <td>836</td>\n",
       "      <td>Residential</td>\n",
       "      <td>2008-05-21</td>\n",
       "      <td>59222</td>\n",
       "      <td>38.631913</td>\n",
       "      <td>-121.434879</td>\n",
       "    </tr>\n",
       "    <tr>\n",
       "      <th>1</th>\n",
       "      <td>51 OMAHA CT</td>\n",
       "      <td>Sacramento</td>\n",
       "      <td>95823</td>\n",
       "      <td>CA</td>\n",
       "      <td>3</td>\n",
       "      <td>1</td>\n",
       "      <td>1167</td>\n",
       "      <td>Residential</td>\n",
       "      <td>2008-05-21</td>\n",
       "      <td>68212</td>\n",
       "      <td>38.478902</td>\n",
       "      <td>-121.431028</td>\n",
       "    </tr>\n",
       "    <tr>\n",
       "      <th>2</th>\n",
       "      <td>2796 BRANCH ST</td>\n",
       "      <td>Sacramento</td>\n",
       "      <td>95815</td>\n",
       "      <td>CA</td>\n",
       "      <td>2</td>\n",
       "      <td>1</td>\n",
       "      <td>796</td>\n",
       "      <td>Residential</td>\n",
       "      <td>2008-05-21</td>\n",
       "      <td>68880</td>\n",
       "      <td>38.618305</td>\n",
       "      <td>-121.443839</td>\n",
       "    </tr>\n",
       "    <tr>\n",
       "      <th>3</th>\n",
       "      <td>2805 JANETTE WAY</td>\n",
       "      <td>Sacramento</td>\n",
       "      <td>95815</td>\n",
       "      <td>CA</td>\n",
       "      <td>2</td>\n",
       "      <td>1</td>\n",
       "      <td>852</td>\n",
       "      <td>Residential</td>\n",
       "      <td>2008-05-21</td>\n",
       "      <td>69307</td>\n",
       "      <td>38.616835</td>\n",
       "      <td>-121.439146</td>\n",
       "    </tr>\n",
       "    <tr>\n",
       "      <th>4</th>\n",
       "      <td>6001 MCMAHON DR</td>\n",
       "      <td>Sacramento</td>\n",
       "      <td>95824</td>\n",
       "      <td>CA</td>\n",
       "      <td>2</td>\n",
       "      <td>1</td>\n",
       "      <td>797</td>\n",
       "      <td>Residential</td>\n",
       "      <td>2008-05-21</td>\n",
       "      <td>81900</td>\n",
       "      <td>38.519470</td>\n",
       "      <td>-121.435768</td>\n",
       "    </tr>\n",
       "  </tbody>\n",
       "</table>\n",
       "</div>"
      ],
      "text/plain": [
       "             street        city    zip state  beds  baths  sq_ft         type  \\\n",
       "0      3526 HIGH ST  Sacramento  95838    CA     2      1    836  Residential   \n",
       "1       51 OMAHA CT  Sacramento  95823    CA     3      1   1167  Residential   \n",
       "2    2796 BRANCH ST  Sacramento  95815    CA     2      1    796  Residential   \n",
       "3  2805 JANETTE WAY  Sacramento  95815    CA     2      1    852  Residential   \n",
       "4   6001 MCMAHON DR  Sacramento  95824    CA     2      1    797  Residential   \n",
       "\n",
       "    sale_date  price   latitude   longitude  \n",
       "0  2008-05-21  59222  38.631913 -121.434879  \n",
       "1  2008-05-21  68212  38.478902 -121.431028  \n",
       "2  2008-05-21  68880  38.618305 -121.443839  \n",
       "3  2008-05-21  69307  38.616835 -121.439146  \n",
       "4  2008-05-21  81900  38.519470 -121.435768  "
      ]
     },
     "execution_count": 64,
     "metadata": {},
     "output_type": "execute_result"
    }
   ],
   "source": [
    "df_1.head()"
   ]
  },
  {
   "cell_type": "code",
   "execution_count": 66,
   "metadata": {},
   "outputs": [],
   "source": [
    "df_1.to_csv(\"data/clean_sacramento.csv\", index=False)"
   ]
  },
  {
   "cell_type": "code",
   "execution_count": 67,
   "metadata": {},
   "outputs": [],
   "source": [
    "df_1.to_pickle(\"data/clean_sacramento.pkl\")"
   ]
  }
 ],
 "metadata": {
  "kernelspec": {
   "display_name": "Python 3",
   "language": "python",
   "name": "python3"
  },
  "language_info": {
   "codemirror_mode": {
    "name": "ipython",
    "version": 3
   },
   "file_extension": ".py",
   "mimetype": "text/x-python",
   "name": "python",
   "nbconvert_exporter": "python",
   "pygments_lexer": "ipython3",
   "version": "3.7.6"
  }
 },
 "nbformat": 4,
 "nbformat_minor": 4
}
