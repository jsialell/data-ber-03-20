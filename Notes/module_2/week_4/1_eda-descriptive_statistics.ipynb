{
 "cells": [
  {
   "cell_type": "code",
   "execution_count": 1,
   "metadata": {},
   "outputs": [],
   "source": [
    "import pandas as pd\n",
    "import numpy as np\n",
    "import matplotlib\n",
    "import matplotlib.pyplot as plt\n",
    "import mysql_connection as mc\n",
    "%matplotlib inline"
   ]
  },
  {
   "cell_type": "code",
   "execution_count": 3,
   "metadata": {},
   "outputs": [
    {
     "name": "stdout",
     "output_type": "stream",
     "text": [
      "Please insert your password:········\n"
     ]
    }
   ],
   "source": [
    "conn = mc.connect()"
   ]
  },
  {
   "cell_type": "markdown",
   "metadata": {},
   "source": [
    "# Sellers  (only after Jan. 1st, 2017)\n",
    "\n",
    "Definition: *A user that has sold a product in a given time frame*\n",
    "\n",
    "## 1. How many sellers do we have?"
   ]
  },
  {
   "cell_type": "code",
   "execution_count": 2,
   "metadata": {},
   "outputs": [],
   "source": [
    "sellers_query = \"\"\"\n",
    "SELECT DISTINCT\n",
    "    oi.seller_id\n",
    "FROM olist.order_items oi\n",
    "    INNER JOIN olist.orders o\n",
    "    ON oi.order_id = o.order_id\n",
    "WHERE o.order_purchase_timestamp >= '2017-01-01'\n",
    "\"\"\""
   ]
  },
  {
   "cell_type": "code",
   "execution_count": 5,
   "metadata": {},
   "outputs": [],
   "source": [
    "sellers = pd.read_sql(sellers_query, conn)"
   ]
  },
  {
   "cell_type": "code",
   "execution_count": 6,
   "metadata": {},
   "outputs": [
    {
     "data": {
      "text/plain": [
       "(3068, 1)"
      ]
     },
     "execution_count": 6,
     "metadata": {},
     "output_type": "execute_result"
    }
   ],
   "source": [
    "sellers.shape"
   ]
  },
  {
   "cell_type": "markdown",
   "metadata": {},
   "source": [
    "We have had a total of 3068 unique sellers after Jan. 1st 2017\n",
    "\n",
    "## 2. How much do they sell?"
   ]
  },
  {
   "cell_type": "code",
   "execution_count": 4,
   "metadata": {},
   "outputs": [],
   "source": [
    "seller_qty_query = \"\"\"\n",
    "SELECT\n",
    "    oi.seller_id\n",
    "    ,COUNT(*)     AS items_sold\n",
    "FROM olist.order_items oi\n",
    "    INNER JOIN olist.orders o\n",
    "    ON oi.order_id = o.order_id\n",
    "WHERE TRUE\n",
    "    AND o.order_purchase_timestamp >= '2017-01-01'\n",
    "GROUP BY oi.seller_id\n",
    "\"\"\"\n",
    "\n",
    "seller_qty = pd.read_sql(seller_qty_query, conn)"
   ]
  },
  {
   "cell_type": "code",
   "execution_count": 5,
   "metadata": {},
   "outputs": [
    {
     "data": {
      "text/plain": [
       "(3068, 2)"
      ]
     },
     "execution_count": 5,
     "metadata": {},
     "output_type": "execute_result"
    }
   ],
   "source": [
    "seller_qty.shape"
   ]
  },
  {
   "cell_type": "code",
   "execution_count": 6,
   "metadata": {},
   "outputs": [
    {
     "data": {
      "text/html": [
       "<div>\n",
       "<style scoped>\n",
       "    .dataframe tbody tr th:only-of-type {\n",
       "        vertical-align: middle;\n",
       "    }\n",
       "\n",
       "    .dataframe tbody tr th {\n",
       "        vertical-align: top;\n",
       "    }\n",
       "\n",
       "    .dataframe thead th {\n",
       "        text-align: right;\n",
       "    }\n",
       "</style>\n",
       "<table border=\"1\" class=\"dataframe\">\n",
       "  <thead>\n",
       "    <tr style=\"text-align: right;\">\n",
       "      <th></th>\n",
       "      <th>items_sold</th>\n",
       "    </tr>\n",
       "  </thead>\n",
       "  <tbody>\n",
       "    <tr>\n",
       "      <th>count</th>\n",
       "      <td>3068.000000</td>\n",
       "    </tr>\n",
       "    <tr>\n",
       "      <th>mean</th>\n",
       "      <td>36.597132</td>\n",
       "    </tr>\n",
       "    <tr>\n",
       "      <th>std</th>\n",
       "      <td>119.512140</td>\n",
       "    </tr>\n",
       "    <tr>\n",
       "      <th>min</th>\n",
       "      <td>1.000000</td>\n",
       "    </tr>\n",
       "    <tr>\n",
       "      <th>25%</th>\n",
       "      <td>2.000000</td>\n",
       "    </tr>\n",
       "    <tr>\n",
       "      <th>50%</th>\n",
       "      <td>8.000000</td>\n",
       "    </tr>\n",
       "    <tr>\n",
       "      <th>75%</th>\n",
       "      <td>25.000000</td>\n",
       "    </tr>\n",
       "    <tr>\n",
       "      <th>max</th>\n",
       "      <td>2033.000000</td>\n",
       "    </tr>\n",
       "  </tbody>\n",
       "</table>\n",
       "</div>"
      ],
      "text/plain": [
       "        items_sold\n",
       "count  3068.000000\n",
       "mean     36.597132\n",
       "std     119.512140\n",
       "min       1.000000\n",
       "25%       2.000000\n",
       "50%       8.000000\n",
       "75%      25.000000\n",
       "max    2033.000000"
      ]
     },
     "execution_count": 6,
     "metadata": {},
     "output_type": "execute_result"
    }
   ],
   "source": [
    "seller_qty.describe()"
   ]
  },
  {
   "cell_type": "markdown",
   "metadata": {},
   "source": [
    "- The top selling seller has sold 2033 items\n",
    "- On average, sellers sell 36.6 items\n",
    "- Half of the sellers have sold less or equal to 8 items\n",
    "- A quarter of our sellers have sold more or equal to 25 items\n",
    "- The lowest performing seller has sold 1 item"
   ]
  },
  {
   "cell_type": "code",
   "execution_count": 7,
   "metadata": {},
   "outputs": [
    {
     "data": {
      "text/plain": [
       "pandas.core.frame.DataFrame"
      ]
     },
     "execution_count": 7,
     "metadata": {},
     "output_type": "execute_result"
    }
   ],
   "source": [
    "type(seller_qty.describe())"
   ]
  },
  {
   "cell_type": "code",
   "execution_count": 11,
   "metadata": {},
   "outputs": [
    {
     "data": {
      "text/plain": [
       "items_sold    36.597132\n",
       "Name: mean, dtype: float64"
      ]
     },
     "execution_count": 11,
     "metadata": {},
     "output_type": "execute_result"
    }
   ],
   "source": [
    "seller_qty.describe().loc[\"mean\"]"
   ]
  },
  {
   "cell_type": "code",
   "execution_count": 15,
   "metadata": {},
   "outputs": [
    {
     "data": {
      "text/plain": [
       "36.59713168187744"
      ]
     },
     "execution_count": 15,
     "metadata": {},
     "output_type": "execute_result"
    }
   ],
   "source": [
    "seller_qty[\"items_sold\"].mean()"
   ]
  },
  {
   "cell_type": "code",
   "execution_count": 16,
   "metadata": {},
   "outputs": [
    {
     "data": {
      "text/plain": [
       "8.0"
      ]
     },
     "execution_count": 16,
     "metadata": {},
     "output_type": "execute_result"
    }
   ],
   "source": [
    "np.percentile(seller_qty[\"items_sold\"], 50)"
   ]
  },
  {
   "cell_type": "code",
   "execution_count": 17,
   "metadata": {},
   "outputs": [
    {
     "data": {
      "text/plain": [
       "8.0"
      ]
     },
     "execution_count": 17,
     "metadata": {},
     "output_type": "execute_result"
    }
   ],
   "source": [
    "np.quantile(seller_qty[\"items_sold\"], .5)"
   ]
  },
  {
   "cell_type": "markdown",
   "metadata": {},
   "source": [
    "Draw a boxplot (Box and whisker plot)"
   ]
  },
  {
   "cell_type": "code",
   "execution_count": 24,
   "metadata": {},
   "outputs": [
    {
     "data": {
      "image/png": "[encoded data removed]",
      "text/plain": [
       "<Figure size 432x288 with 1 Axes>"
      ]
     },
     "metadata": {
      "needs_background": "light"
     },
     "output_type": "display_data"
    }
   ],
   "source": [
    "seller_qty[\"items_sold\"].plot(kind=\"box\");"
   ]
  },
  {
   "cell_type": "code",
   "execution_count": 23,
   "metadata": {},
   "outputs": [
    {
     "data": {
      "image/png": "[encoded data removed]",
      "text/plain": [
       "<Figure size 432x288 with 1 Axes>"
      ]
     },
     "metadata": {
      "needs_background": "light"
     },
     "output_type": "display_data"
    }
   ],
   "source": [
    "seller_qty[\"items_sold\"].plot(kind=\"box\", ylim=(0,60));"
   ]
  },
  {
   "cell_type": "code",
   "execution_count": 27,
   "metadata": {},
   "outputs": [
    {
     "data": {
      "text/plain": [
       "(409, 2)"
      ]
     },
     "execution_count": 27,
     "metadata": {},
     "output_type": "execute_result"
    }
   ],
   "source": [
    "seller_qty.loc[seller_qty[\"items_sold\"] > 58].shape"
   ]
  },
  {
   "cell_type": "markdown",
   "metadata": {},
   "source": [
    "There are 409 sellers outside of our whiskers!\n",
    "\n",
    "-> Data is right skewed\n",
    "\n",
    "Show histogram"
   ]
  },
  {
   "cell_type": "code",
   "execution_count": 29,
   "metadata": {},
   "outputs": [
    {
     "data": {
      "image/png": "[encoded data removed]",
      "text/plain": [
       "<Figure size 432x288 with 1 Axes>"
      ]
     },
     "metadata": {
      "needs_background": "light"
     },
     "output_type": "display_data"
    }
   ],
   "source": [
    "seller_qty[\"items_sold\"].plot(kind=\"hist\");"
   ]
  },
  {
   "cell_type": "code",
   "execution_count": 31,
   "metadata": {},
   "outputs": [
    {
     "data": {
      "image/png": "[encoded data removed]",
      "text/plain": [
       "<Figure size 432x288 with 1 Axes>"
      ]
     },
     "metadata": {
      "needs_background": "light"
     },
     "output_type": "display_data"
    }
   ],
   "source": [
    "seller_qty[\"items_sold\"].plot(kind=\"hist\", bins=100);"
   ]
  },
  {
   "cell_type": "code",
   "execution_count": 33,
   "metadata": {},
   "outputs": [
    {
     "data": {
      "image/png": "[encoded data removed]",
      "text/plain": [
       "<Figure size 432x288 with 1 Axes>"
      ]
     },
     "metadata": {
      "needs_background": "light"
     },
     "output_type": "display_data"
    }
   ],
   "source": [
    "seller_qty[\"items_sold\"].plot(kind=\"hist\", bins=1000, xlim=(0,210));"
   ]
  },
  {
   "cell_type": "markdown",
   "metadata": {},
   "source": [
    "-> Yes, it's really skewed"
   ]
  },
  {
   "cell_type": "code",
   "execution_count": 38,
   "metadata": {},
   "outputs": [
    {
     "data": {
      "text/plain": [
       "array([  1.  ,   1.  ,   1.  ,   1.  ,   1.  ,   1.  ,   1.  ,   1.  ,\n",
       "         1.  ,   1.  ,   1.  ,   1.  ,   1.  ,   1.  ,   1.  ,   1.  ,\n",
       "         2.  ,   2.  ,   2.  ,   2.  ,   2.  ,   2.  ,   2.  ,   2.  ,\n",
       "         2.  ,   2.  ,   3.  ,   3.  ,   3.  ,   3.  ,   3.  ,   3.  ,\n",
       "         3.  ,   4.  ,   4.  ,   4.  ,   4.  ,   4.  ,   5.  ,   5.  ,\n",
       "         5.  ,   5.  ,   5.  ,   6.  ,   6.  ,   6.  ,   7.  ,   7.  ,\n",
       "         7.  ,   8.  ,   8.  ,   8.  ,   9.  ,   9.  ,   9.  ,  10.  ,\n",
       "        10.  ,  11.  ,  11.  ,  11.  ,  12.  ,  12.  ,  13.  ,  14.  ,\n",
       "        14.  ,  15.  ,  16.  ,  16.56,  17.  ,  18.  ,  19.57,  21.  ,\n",
       "        22.  ,  23.  ,  25.  ,  26.  ,  28.  ,  30.  ,  32.  ,  35.  ,\n",
       "        38.  ,  40.  ,  43.  ,  46.  ,  50.  ,  55.  ,  61.  ,  66.  ,\n",
       "        73.  ,  81.  ,  89.  ,  98.  , 111.  , 130.  , 147.65, 177.32,\n",
       "       211.99, 304.64, 432.32])"
      ]
     },
     "execution_count": 38,
     "metadata": {},
     "output_type": "execute_result"
    }
   ],
   "source": [
    "np.percentile(seller_qty[\"items_sold\"], range(1,100))"
   ]
  },
  {
   "cell_type": "code",
   "execution_count": 45,
   "metadata": {},
   "outputs": [
    {
     "data": {
      "text/plain": [
       "0.1     1.0\n",
       "0.2     2.0\n",
       "0.3     3.0\n",
       "0.4     5.0\n",
       "0.5     8.0\n",
       "0.6    11.0\n",
       "0.7    18.0\n",
       "0.8    35.0\n",
       "0.9    81.0\n",
       "Name: items_sold, dtype: float64"
      ]
     },
     "execution_count": 45,
     "metadata": {},
     "output_type": "execute_result"
    }
   ],
   "source": [
    "seller_qty[\"items_sold\"].quantile([i/10 for i in range(1,10)])"
   ]
  },
  {
   "cell_type": "markdown",
   "metadata": {},
   "source": [
    "- 90% of the sellers have sold no more than 81 items\n",
    "\n",
    "## 3. How much revenue are they generating?"
   ]
  },
  {
   "cell_type": "code",
   "execution_count": 46,
   "metadata": {},
   "outputs": [],
   "source": [
    "sellers_rev_query = \"\"\"\n",
    "SELECT\n",
    "    oi.seller_id\n",
    "    ,SUM(oi.price)  AS revenue\n",
    "FROM olist.order_items oi\n",
    "    INNER JOIN olist.orders o\n",
    "    ON oi.order_id = o.order_id\n",
    "WHERE TRUE\n",
    "    AND o.order_purchase_timestamp >= '2017-01-01'\n",
    "GROUP BY oi.seller_id\n",
    "\"\"\"\n",
    "\n",
    "sellers_rev = pd.read_sql(sellers_rev_query, conn)"
   ]
  },
  {
   "cell_type": "code",
   "execution_count": 48,
   "metadata": {},
   "outputs": [
    {
     "data": {
      "text/html": [
       "<div>\n",
       "<style scoped>\n",
       "    .dataframe tbody tr th:only-of-type {\n",
       "        vertical-align: middle;\n",
       "    }\n",
       "\n",
       "    .dataframe tbody tr th {\n",
       "        vertical-align: top;\n",
       "    }\n",
       "\n",
       "    .dataframe thead th {\n",
       "        text-align: right;\n",
       "    }\n",
       "</style>\n",
       "<table border=\"1\" class=\"dataframe\">\n",
       "  <thead>\n",
       "    <tr style=\"text-align: right;\">\n",
       "      <th></th>\n",
       "      <th>revenue</th>\n",
       "    </tr>\n",
       "  </thead>\n",
       "  <tbody>\n",
       "    <tr>\n",
       "      <th>count</th>\n",
       "      <td>3068.000000</td>\n",
       "    </tr>\n",
       "    <tr>\n",
       "      <th>mean</th>\n",
       "      <td>4413.904101</td>\n",
       "    </tr>\n",
       "    <tr>\n",
       "      <th>std</th>\n",
       "      <td>13945.167724</td>\n",
       "    </tr>\n",
       "    <tr>\n",
       "      <th>min</th>\n",
       "      <td>3.500000</td>\n",
       "    </tr>\n",
       "    <tr>\n",
       "      <th>25%</th>\n",
       "      <td>210.150003</td>\n",
       "    </tr>\n",
       "    <tr>\n",
       "      <th>50%</th>\n",
       "      <td>829.920002</td>\n",
       "    </tr>\n",
       "    <tr>\n",
       "      <th>75%</th>\n",
       "      <td>3322.785002</td>\n",
       "    </tr>\n",
       "    <tr>\n",
       "      <th>max</th>\n",
       "      <td>229472.628349</td>\n",
       "    </tr>\n",
       "  </tbody>\n",
       "</table>\n",
       "</div>"
      ],
      "text/plain": [
       "             revenue\n",
       "count    3068.000000\n",
       "mean     4413.904101\n",
       "std     13945.167724\n",
       "min         3.500000\n",
       "25%       210.150003\n",
       "50%       829.920002\n",
       "75%      3322.785002\n",
       "max    229472.628349"
      ]
     },
     "execution_count": 48,
     "metadata": {},
     "output_type": "execute_result"
    }
   ],
   "source": [
    "sellers_rev.describe()"
   ]
  },
  {
   "cell_type": "code",
   "execution_count": 49,
   "metadata": {},
   "outputs": [
    {
     "data": {
      "image/png": "[encoded data removed]",
      "text/plain": [
       "<Figure size 432x288 with 1 Axes>"
      ]
     },
     "metadata": {
      "needs_background": "light"
     },
     "output_type": "display_data"
    }
   ],
   "source": [
    "sellers_rev[\"revenue\"].plot(kind=\"box\");"
   ]
  },
  {
   "cell_type": "markdown",
   "metadata": {},
   "source": [
    "- The highest grossing seller generated 229,473 Rios\n",
    "- Half of the sellers generated less than 830 Rios\n",
    "- Only a quarter of the sellers generated more than 3320 Rios\n",
    "\n",
    "## How much do we depend on the top sellers?"
   ]
  },
  {
   "cell_type": "code",
   "execution_count": 56,
   "metadata": {},
   "outputs": [
    {
     "data": {
      "text/html": [
       "<div>\n",
       "<style scoped>\n",
       "    .dataframe tbody tr th:only-of-type {\n",
       "        vertical-align: middle;\n",
       "    }\n",
       "\n",
       "    .dataframe tbody tr th {\n",
       "        vertical-align: top;\n",
       "    }\n",
       "\n",
       "    .dataframe thead th {\n",
       "        text-align: right;\n",
       "    }\n",
       "</style>\n",
       "<table border=\"1\" class=\"dataframe\">\n",
       "  <thead>\n",
       "    <tr style=\"text-align: right;\">\n",
       "      <th></th>\n",
       "      <th>seller_id</th>\n",
       "      <th>revenue</th>\n",
       "    </tr>\n",
       "  </thead>\n",
       "  <tbody>\n",
       "    <tr>\n",
       "      <th>0</th>\n",
       "      <td>4869f7a5dfa277a7dca6462dcf3b52b2</td>\n",
       "      <td>229472.628349</td>\n",
       "    </tr>\n",
       "    <tr>\n",
       "      <th>1</th>\n",
       "      <td>53243585a1d6dc2643021fd1853d8905</td>\n",
       "      <td>222776.049545</td>\n",
       "    </tr>\n",
       "    <tr>\n",
       "      <th>2</th>\n",
       "      <td>4a3ca9315b744ce9f8e9374361493884</td>\n",
       "      <td>200472.921459</td>\n",
       "    </tr>\n",
       "    <tr>\n",
       "      <th>3</th>\n",
       "      <td>fa1c13f2614d7b5c4749cbc52fecda94</td>\n",
       "      <td>194042.029396</td>\n",
       "    </tr>\n",
       "    <tr>\n",
       "      <th>4</th>\n",
       "      <td>7c67e1448b00f6e969d365cea6b010ab</td>\n",
       "      <td>187923.891939</td>\n",
       "    </tr>\n",
       "  </tbody>\n",
       "</table>\n",
       "</div>"
      ],
      "text/plain": [
       "                          seller_id        revenue\n",
       "0  4869f7a5dfa277a7dca6462dcf3b52b2  229472.628349\n",
       "1  53243585a1d6dc2643021fd1853d8905  222776.049545\n",
       "2  4a3ca9315b744ce9f8e9374361493884  200472.921459\n",
       "3  fa1c13f2614d7b5c4749cbc52fecda94  194042.029396\n",
       "4  7c67e1448b00f6e969d365cea6b010ab  187923.891939"
      ]
     },
     "execution_count": 56,
     "metadata": {},
     "output_type": "execute_result"
    }
   ],
   "source": [
    "# 1. sort by rev desc\n",
    "top_sellers = (sellers_rev\n",
    "               .sort_values(\"revenue\", ascending=False)\n",
    "               .reset_index(drop=True))\n",
    "top_sellers.head()"
   ]
  },
  {
   "cell_type": "code",
   "execution_count": 60,
   "metadata": {},
   "outputs": [],
   "source": [
    "# 2. rank sellers\n",
    "top_sellers = (top_sellers\n",
    "               .assign(rank=top_sellers.index + 1)\n",
    "# 3. cumulative revenue\n",
    "               .assign(cum_rev=top_sellers[\"revenue\"].cumsum()))"
   ]
  },
  {
   "cell_type": "code",
   "execution_count": 82,
   "metadata": {},
   "outputs": [],
   "source": [
    "# 4. percentiles\n",
    "top_sellers = (top_sellers\n",
    "               .assign(top_n_perc=((top_sellers[\"rank\"] / len(top_sellers)) * 100))\n",
    "               .assign(percentile=((1 - top_sellers[\"rank\"] / len(top_sellers)) * 100).astype(int))\n",
    "# 5. revenue contribution\n",
    "               .assign(revenue_contribution=((top_sellers[\"cum_rev\"] / top_sellers[\"revenue\"].sum()) * 100).astype(int)))"
   ]
  },
  {
   "cell_type": "code",
   "execution_count": 88,
   "metadata": {},
   "outputs": [
    {
     "data": {
      "text/html": [
       "<div>\n",
       "<style scoped>\n",
       "    .dataframe tbody tr th:only-of-type {\n",
       "        vertical-align: middle;\n",
       "    }\n",
       "\n",
       "    .dataframe tbody tr th {\n",
       "        vertical-align: top;\n",
       "    }\n",
       "\n",
       "    .dataframe thead th {\n",
       "        text-align: right;\n",
       "    }\n",
       "</style>\n",
       "<table border=\"1\" class=\"dataframe\">\n",
       "  <thead>\n",
       "    <tr style=\"text-align: right;\">\n",
       "      <th></th>\n",
       "      <th>seller_id</th>\n",
       "      <th>revenue</th>\n",
       "      <th>rank</th>\n",
       "      <th>cum_rev</th>\n",
       "      <th>percentile</th>\n",
       "      <th>revenue_contribution</th>\n",
       "      <th>top_n_perc</th>\n",
       "    </tr>\n",
       "  </thead>\n",
       "  <tbody>\n",
       "    <tr>\n",
       "      <th>0</th>\n",
       "      <td>4869f7a5dfa277a7dca6462dcf3b52b2</td>\n",
       "      <td>229472.628349</td>\n",
       "      <td>1</td>\n",
       "      <td>2.294726e+05</td>\n",
       "      <td>99</td>\n",
       "      <td>1</td>\n",
       "      <td>0.032595</td>\n",
       "    </tr>\n",
       "    <tr>\n",
       "      <th>1</th>\n",
       "      <td>53243585a1d6dc2643021fd1853d8905</td>\n",
       "      <td>222776.049545</td>\n",
       "      <td>2</td>\n",
       "      <td>4.522487e+05</td>\n",
       "      <td>99</td>\n",
       "      <td>3</td>\n",
       "      <td>0.065189</td>\n",
       "    </tr>\n",
       "    <tr>\n",
       "      <th>2</th>\n",
       "      <td>4a3ca9315b744ce9f8e9374361493884</td>\n",
       "      <td>200472.921459</td>\n",
       "      <td>3</td>\n",
       "      <td>6.527216e+05</td>\n",
       "      <td>99</td>\n",
       "      <td>4</td>\n",
       "      <td>0.097784</td>\n",
       "    </tr>\n",
       "    <tr>\n",
       "      <th>3</th>\n",
       "      <td>fa1c13f2614d7b5c4749cbc52fecda94</td>\n",
       "      <td>194042.029396</td>\n",
       "      <td>4</td>\n",
       "      <td>8.467636e+05</td>\n",
       "      <td>99</td>\n",
       "      <td>6</td>\n",
       "      <td>0.130378</td>\n",
       "    </tr>\n",
       "    <tr>\n",
       "      <th>4</th>\n",
       "      <td>7c67e1448b00f6e969d365cea6b010ab</td>\n",
       "      <td>187923.891939</td>\n",
       "      <td>5</td>\n",
       "      <td>1.034688e+06</td>\n",
       "      <td>99</td>\n",
       "      <td>7</td>\n",
       "      <td>0.162973</td>\n",
       "    </tr>\n",
       "    <tr>\n",
       "      <th>5</th>\n",
       "      <td>7e93a43ef30c4f03f38b393420bc753a</td>\n",
       "      <td>175032.869331</td>\n",
       "      <td>6</td>\n",
       "      <td>1.209720e+06</td>\n",
       "      <td>99</td>\n",
       "      <td>8</td>\n",
       "      <td>0.195567</td>\n",
       "    </tr>\n",
       "    <tr>\n",
       "      <th>6</th>\n",
       "      <td>da8622b14eb17ae2831f4ac5b9dab84a</td>\n",
       "      <td>160236.568089</td>\n",
       "      <td>7</td>\n",
       "      <td>1.369957e+06</td>\n",
       "      <td>99</td>\n",
       "      <td>10</td>\n",
       "      <td>0.228162</td>\n",
       "    </tr>\n",
       "    <tr>\n",
       "      <th>7</th>\n",
       "      <td>7a67c85e85bb2ce8582c35f2203ad736</td>\n",
       "      <td>141745.531660</td>\n",
       "      <td>8</td>\n",
       "      <td>1.511702e+06</td>\n",
       "      <td>99</td>\n",
       "      <td>11</td>\n",
       "      <td>0.260756</td>\n",
       "    </tr>\n",
       "    <tr>\n",
       "      <th>8</th>\n",
       "      <td>1025f0e2d44d7041d6cf58b6550e0bfa</td>\n",
       "      <td>138968.550537</td>\n",
       "      <td>9</td>\n",
       "      <td>1.650671e+06</td>\n",
       "      <td>99</td>\n",
       "      <td>12</td>\n",
       "      <td>0.293351</td>\n",
       "    </tr>\n",
       "    <tr>\n",
       "      <th>9</th>\n",
       "      <td>955fee9216a65b617aa5c0531780ce60</td>\n",
       "      <td>135171.700697</td>\n",
       "      <td>10</td>\n",
       "      <td>1.785843e+06</td>\n",
       "      <td>99</td>\n",
       "      <td>13</td>\n",
       "      <td>0.325945</td>\n",
       "    </tr>\n",
       "    <tr>\n",
       "      <th>10</th>\n",
       "      <td>46dc3b2cc0980fb8ec44634e21d2718e</td>\n",
       "      <td>125766.298500</td>\n",
       "      <td>11</td>\n",
       "      <td>1.911609e+06</td>\n",
       "      <td>99</td>\n",
       "      <td>14</td>\n",
       "      <td>0.358540</td>\n",
       "    </tr>\n",
       "    <tr>\n",
       "      <th>11</th>\n",
       "      <td>6560211a19b47992c3666cc44a7e94c0</td>\n",
       "      <td>123304.830029</td>\n",
       "      <td>12</td>\n",
       "      <td>2.034914e+06</td>\n",
       "      <td>99</td>\n",
       "      <td>15</td>\n",
       "      <td>0.391134</td>\n",
       "    </tr>\n",
       "    <tr>\n",
       "      <th>12</th>\n",
       "      <td>7d13fca15225358621be4086e1eb0964</td>\n",
       "      <td>113628.970078</td>\n",
       "      <td>13</td>\n",
       "      <td>2.148543e+06</td>\n",
       "      <td>99</td>\n",
       "      <td>15</td>\n",
       "      <td>0.423729</td>\n",
       "    </tr>\n",
       "    <tr>\n",
       "      <th>13</th>\n",
       "      <td>5dceca129747e92ff8ef7a997dc4f8ca</td>\n",
       "      <td>112155.529818</td>\n",
       "      <td>14</td>\n",
       "      <td>2.260698e+06</td>\n",
       "      <td>99</td>\n",
       "      <td>16</td>\n",
       "      <td>0.456323</td>\n",
       "    </tr>\n",
       "    <tr>\n",
       "      <th>14</th>\n",
       "      <td>620c87c171fb2a6dd6e8bb4dec959fc6</td>\n",
       "      <td>108977.398788</td>\n",
       "      <td>15</td>\n",
       "      <td>2.369676e+06</td>\n",
       "      <td>99</td>\n",
       "      <td>17</td>\n",
       "      <td>0.488918</td>\n",
       "    </tr>\n",
       "    <tr>\n",
       "      <th>15</th>\n",
       "      <td>1f50f920176fa81dab994f9023523100</td>\n",
       "      <td>106939.212391</td>\n",
       "      <td>16</td>\n",
       "      <td>2.476615e+06</td>\n",
       "      <td>99</td>\n",
       "      <td>18</td>\n",
       "      <td>0.521512</td>\n",
       "    </tr>\n",
       "    <tr>\n",
       "      <th>16</th>\n",
       "      <td>cc419e0650a3c5ba77189a1882b7556a</td>\n",
       "      <td>104288.420132</td>\n",
       "      <td>17</td>\n",
       "      <td>2.580903e+06</td>\n",
       "      <td>99</td>\n",
       "      <td>19</td>\n",
       "      <td>0.554107</td>\n",
       "    </tr>\n",
       "    <tr>\n",
       "      <th>17</th>\n",
       "      <td>a1043bafd471dff536d0c462352beb48</td>\n",
       "      <td>101901.160370</td>\n",
       "      <td>18</td>\n",
       "      <td>2.682805e+06</td>\n",
       "      <td>99</td>\n",
       "      <td>19</td>\n",
       "      <td>0.586701</td>\n",
       "    </tr>\n",
       "    <tr>\n",
       "      <th>18</th>\n",
       "      <td>3d871de0142ce09b7081e2b9d1733cb1</td>\n",
       "      <td>94914.200079</td>\n",
       "      <td>19</td>\n",
       "      <td>2.777719e+06</td>\n",
       "      <td>99</td>\n",
       "      <td>20</td>\n",
       "      <td>0.619296</td>\n",
       "    </tr>\n",
       "    <tr>\n",
       "      <th>19</th>\n",
       "      <td>edb1ef5e36e0c8cd84eb3c9b003e486d</td>\n",
       "      <td>79284.550701</td>\n",
       "      <td>20</td>\n",
       "      <td>2.857003e+06</td>\n",
       "      <td>99</td>\n",
       "      <td>21</td>\n",
       "      <td>0.651890</td>\n",
       "    </tr>\n",
       "    <tr>\n",
       "      <th>20</th>\n",
       "      <td>ccc4bbb5f32a6ab2b7066a4130f114e3</td>\n",
       "      <td>74004.619247</td>\n",
       "      <td>21</td>\n",
       "      <td>2.931008e+06</td>\n",
       "      <td>99</td>\n",
       "      <td>21</td>\n",
       "      <td>0.684485</td>\n",
       "    </tr>\n",
       "    <tr>\n",
       "      <th>21</th>\n",
       "      <td>f7ba60f8c3f99e7ee4042fdef03b70c4</td>\n",
       "      <td>68395.000000</td>\n",
       "      <td>22</td>\n",
       "      <td>2.999403e+06</td>\n",
       "      <td>99</td>\n",
       "      <td>22</td>\n",
       "      <td>0.717080</td>\n",
       "    </tr>\n",
       "    <tr>\n",
       "      <th>22</th>\n",
       "      <td>fe2032dab1a61af8794248c8196565c9</td>\n",
       "      <td>65959.609406</td>\n",
       "      <td>23</td>\n",
       "      <td>3.065363e+06</td>\n",
       "      <td>99</td>\n",
       "      <td>22</td>\n",
       "      <td>0.749674</td>\n",
       "    </tr>\n",
       "    <tr>\n",
       "      <th>23</th>\n",
       "      <td>8581055ce74af1daba164fdbd55a40de</td>\n",
       "      <td>64925.300211</td>\n",
       "      <td>24</td>\n",
       "      <td>3.130288e+06</td>\n",
       "      <td>99</td>\n",
       "      <td>23</td>\n",
       "      <td>0.782269</td>\n",
       "    </tr>\n",
       "    <tr>\n",
       "      <th>24</th>\n",
       "      <td>cca3071e3e9bb7d12640c9fbe2301306</td>\n",
       "      <td>63056.190152</td>\n",
       "      <td>25</td>\n",
       "      <td>3.193344e+06</td>\n",
       "      <td>99</td>\n",
       "      <td>23</td>\n",
       "      <td>0.814863</td>\n",
       "    </tr>\n",
       "    <tr>\n",
       "      <th>25</th>\n",
       "      <td>04308b1ee57b6625f47df1d56f00eedf</td>\n",
       "      <td>60130.601936</td>\n",
       "      <td>26</td>\n",
       "      <td>3.253475e+06</td>\n",
       "      <td>99</td>\n",
       "      <td>24</td>\n",
       "      <td>0.847458</td>\n",
       "    </tr>\n",
       "    <tr>\n",
       "      <th>26</th>\n",
       "      <td>522620dcb18a6b31cd7bdf73665113a9</td>\n",
       "      <td>56459.690066</td>\n",
       "      <td>27</td>\n",
       "      <td>3.309934e+06</td>\n",
       "      <td>99</td>\n",
       "      <td>24</td>\n",
       "      <td>0.880052</td>\n",
       "    </tr>\n",
       "    <tr>\n",
       "      <th>27</th>\n",
       "      <td>17e34d8224d27a541263c4c64b11a56b</td>\n",
       "      <td>56363.240110</td>\n",
       "      <td>28</td>\n",
       "      <td>3.366298e+06</td>\n",
       "      <td>99</td>\n",
       "      <td>24</td>\n",
       "      <td>0.912647</td>\n",
       "    </tr>\n",
       "    <tr>\n",
       "      <th>28</th>\n",
       "      <td>7ddcbb64b5bc1ef36ca8c151f6ec77df</td>\n",
       "      <td>55578.571131</td>\n",
       "      <td>29</td>\n",
       "      <td>3.421876e+06</td>\n",
       "      <td>99</td>\n",
       "      <td>25</td>\n",
       "      <td>0.945241</td>\n",
       "    </tr>\n",
       "    <tr>\n",
       "      <th>29</th>\n",
       "      <td>de722cd6dad950a92b7d4f82673f8833</td>\n",
       "      <td>55426.098007</td>\n",
       "      <td>30</td>\n",
       "      <td>3.477302e+06</td>\n",
       "      <td>99</td>\n",
       "      <td>25</td>\n",
       "      <td>0.977836</td>\n",
       "    </tr>\n",
       "    <tr>\n",
       "      <th>30</th>\n",
       "      <td>37be5a7c751166fbc5f8ccba4119e043</td>\n",
       "      <td>55350.550110</td>\n",
       "      <td>31</td>\n",
       "      <td>3.532653e+06</td>\n",
       "      <td>98</td>\n",
       "      <td>26</td>\n",
       "      <td>1.010430</td>\n",
       "    </tr>\n",
       "    <tr>\n",
       "      <th>31</th>\n",
       "      <td>218d46b86c1881d022bce9c68a7d4b15</td>\n",
       "      <td>55093.280052</td>\n",
       "      <td>32</td>\n",
       "      <td>3.587746e+06</td>\n",
       "      <td>98</td>\n",
       "      <td>26</td>\n",
       "      <td>1.043025</td>\n",
       "    </tr>\n",
       "    <tr>\n",
       "      <th>32</th>\n",
       "      <td>25c5c91f63607446a97b143d2d535d31</td>\n",
       "      <td>54679.219467</td>\n",
       "      <td>33</td>\n",
       "      <td>3.642425e+06</td>\n",
       "      <td>98</td>\n",
       "      <td>26</td>\n",
       "      <td>1.075619</td>\n",
       "    </tr>\n",
       "    <tr>\n",
       "      <th>33</th>\n",
       "      <td>f5a590cf36251cf1162ea35bef76fe84</td>\n",
       "      <td>53201.779984</td>\n",
       "      <td>34</td>\n",
       "      <td>3.695627e+06</td>\n",
       "      <td>98</td>\n",
       "      <td>27</td>\n",
       "      <td>1.108214</td>\n",
       "    </tr>\n",
       "    <tr>\n",
       "      <th>34</th>\n",
       "      <td>ceaec5548eefc6e23e6607c5435102e7</td>\n",
       "      <td>52917.180161</td>\n",
       "      <td>35</td>\n",
       "      <td>3.748544e+06</td>\n",
       "      <td>98</td>\n",
       "      <td>27</td>\n",
       "      <td>1.140808</td>\n",
       "    </tr>\n",
       "    <tr>\n",
       "      <th>35</th>\n",
       "      <td>b2ba3715d723d245138f291a6fe42594</td>\n",
       "      <td>51547.079784</td>\n",
       "      <td>36</td>\n",
       "      <td>3.800091e+06</td>\n",
       "      <td>98</td>\n",
       "      <td>28</td>\n",
       "      <td>1.173403</td>\n",
       "    </tr>\n",
       "    <tr>\n",
       "      <th>36</th>\n",
       "      <td>966cb4760537b1404caedd472cc610a5</td>\n",
       "      <td>51286.050049</td>\n",
       "      <td>37</td>\n",
       "      <td>3.851377e+06</td>\n",
       "      <td>98</td>\n",
       "      <td>28</td>\n",
       "      <td>1.205997</td>\n",
       "    </tr>\n",
       "    <tr>\n",
       "      <th>37</th>\n",
       "      <td>e882b2a25a10b9c057cc49695f222c19</td>\n",
       "      <td>51057.539970</td>\n",
       "      <td>38</td>\n",
       "      <td>3.902435e+06</td>\n",
       "      <td>98</td>\n",
       "      <td>28</td>\n",
       "      <td>1.238592</td>\n",
       "    </tr>\n",
       "    <tr>\n",
       "      <th>38</th>\n",
       "      <td>2bf6a2c1e71bbd29a4ad64e6d3c3629f</td>\n",
       "      <td>50628.900269</td>\n",
       "      <td>39</td>\n",
       "      <td>3.953064e+06</td>\n",
       "      <td>98</td>\n",
       "      <td>29</td>\n",
       "      <td>1.271186</td>\n",
       "    </tr>\n",
       "    <tr>\n",
       "      <th>39</th>\n",
       "      <td>f8db351d8c4c4c22c6835c19a46f01b0</td>\n",
       "      <td>50525.599962</td>\n",
       "      <td>40</td>\n",
       "      <td>4.003589e+06</td>\n",
       "      <td>98</td>\n",
       "      <td>29</td>\n",
       "      <td>1.303781</td>\n",
       "    </tr>\n",
       "  </tbody>\n",
       "</table>\n",
       "</div>"
      ],
      "text/plain": [
       "                           seller_id        revenue  rank       cum_rev  \\\n",
       "0   4869f7a5dfa277a7dca6462dcf3b52b2  229472.628349     1  2.294726e+05   \n",
       "1   53243585a1d6dc2643021fd1853d8905  222776.049545     2  4.522487e+05   \n",
       "2   4a3ca9315b744ce9f8e9374361493884  200472.921459     3  6.527216e+05   \n",
       "3   fa1c13f2614d7b5c4749cbc52fecda94  194042.029396     4  8.467636e+05   \n",
       "4   7c67e1448b00f6e969d365cea6b010ab  187923.891939     5  1.034688e+06   \n",
       "5   7e93a43ef30c4f03f38b393420bc753a  175032.869331     6  1.209720e+06   \n",
       "6   da8622b14eb17ae2831f4ac5b9dab84a  160236.568089     7  1.369957e+06   \n",
       "7   7a67c85e85bb2ce8582c35f2203ad736  141745.531660     8  1.511702e+06   \n",
       "8   1025f0e2d44d7041d6cf58b6550e0bfa  138968.550537     9  1.650671e+06   \n",
       "9   955fee9216a65b617aa5c0531780ce60  135171.700697    10  1.785843e+06   \n",
       "10  46dc3b2cc0980fb8ec44634e21d2718e  125766.298500    11  1.911609e+06   \n",
       "11  6560211a19b47992c3666cc44a7e94c0  123304.830029    12  2.034914e+06   \n",
       "12  7d13fca15225358621be4086e1eb0964  113628.970078    13  2.148543e+06   \n",
       "13  5dceca129747e92ff8ef7a997dc4f8ca  112155.529818    14  2.260698e+06   \n",
       "14  620c87c171fb2a6dd6e8bb4dec959fc6  108977.398788    15  2.369676e+06   \n",
       "15  1f50f920176fa81dab994f9023523100  106939.212391    16  2.476615e+06   \n",
       "16  cc419e0650a3c5ba77189a1882b7556a  104288.420132    17  2.580903e+06   \n",
       "17  a1043bafd471dff536d0c462352beb48  101901.160370    18  2.682805e+06   \n",
       "18  3d871de0142ce09b7081e2b9d1733cb1   94914.200079    19  2.777719e+06   \n",
       "19  edb1ef5e36e0c8cd84eb3c9b003e486d   79284.550701    20  2.857003e+06   \n",
       "20  ccc4bbb5f32a6ab2b7066a4130f114e3   74004.619247    21  2.931008e+06   \n",
       "21  f7ba60f8c3f99e7ee4042fdef03b70c4   68395.000000    22  2.999403e+06   \n",
       "22  fe2032dab1a61af8794248c8196565c9   65959.609406    23  3.065363e+06   \n",
       "23  8581055ce74af1daba164fdbd55a40de   64925.300211    24  3.130288e+06   \n",
       "24  cca3071e3e9bb7d12640c9fbe2301306   63056.190152    25  3.193344e+06   \n",
       "25  04308b1ee57b6625f47df1d56f00eedf   60130.601936    26  3.253475e+06   \n",
       "26  522620dcb18a6b31cd7bdf73665113a9   56459.690066    27  3.309934e+06   \n",
       "27  17e34d8224d27a541263c4c64b11a56b   56363.240110    28  3.366298e+06   \n",
       "28  7ddcbb64b5bc1ef36ca8c151f6ec77df   55578.571131    29  3.421876e+06   \n",
       "29  de722cd6dad950a92b7d4f82673f8833   55426.098007    30  3.477302e+06   \n",
       "30  37be5a7c751166fbc5f8ccba4119e043   55350.550110    31  3.532653e+06   \n",
       "31  218d46b86c1881d022bce9c68a7d4b15   55093.280052    32  3.587746e+06   \n",
       "32  25c5c91f63607446a97b143d2d535d31   54679.219467    33  3.642425e+06   \n",
       "33  f5a590cf36251cf1162ea35bef76fe84   53201.779984    34  3.695627e+06   \n",
       "34  ceaec5548eefc6e23e6607c5435102e7   52917.180161    35  3.748544e+06   \n",
       "35  b2ba3715d723d245138f291a6fe42594   51547.079784    36  3.800091e+06   \n",
       "36  966cb4760537b1404caedd472cc610a5   51286.050049    37  3.851377e+06   \n",
       "37  e882b2a25a10b9c057cc49695f222c19   51057.539970    38  3.902435e+06   \n",
       "38  2bf6a2c1e71bbd29a4ad64e6d3c3629f   50628.900269    39  3.953064e+06   \n",
       "39  f8db351d8c4c4c22c6835c19a46f01b0   50525.599962    40  4.003589e+06   \n",
       "\n",
       "    percentile  revenue_contribution  top_n_perc  \n",
       "0           99                     1    0.032595  \n",
       "1           99                     3    0.065189  \n",
       "2           99                     4    0.097784  \n",
       "3           99                     6    0.130378  \n",
       "4           99                     7    0.162973  \n",
       "5           99                     8    0.195567  \n",
       "6           99                    10    0.228162  \n",
       "7           99                    11    0.260756  \n",
       "8           99                    12    0.293351  \n",
       "9           99                    13    0.325945  \n",
       "10          99                    14    0.358540  \n",
       "11          99                    15    0.391134  \n",
       "12          99                    15    0.423729  \n",
       "13          99                    16    0.456323  \n",
       "14          99                    17    0.488918  \n",
       "15          99                    18    0.521512  \n",
       "16          99                    19    0.554107  \n",
       "17          99                    19    0.586701  \n",
       "18          99                    20    0.619296  \n",
       "19          99                    21    0.651890  \n",
       "20          99                    21    0.684485  \n",
       "21          99                    22    0.717080  \n",
       "22          99                    22    0.749674  \n",
       "23          99                    23    0.782269  \n",
       "24          99                    23    0.814863  \n",
       "25          99                    24    0.847458  \n",
       "26          99                    24    0.880052  \n",
       "27          99                    24    0.912647  \n",
       "28          99                    25    0.945241  \n",
       "29          99                    25    0.977836  \n",
       "30          98                    26    1.010430  \n",
       "31          98                    26    1.043025  \n",
       "32          98                    26    1.075619  \n",
       "33          98                    27    1.108214  \n",
       "34          98                    27    1.140808  \n",
       "35          98                    28    1.173403  \n",
       "36          98                    28    1.205997  \n",
       "37          98                    28    1.238592  \n",
       "38          98                    29    1.271186  \n",
       "39          98                    29    1.303781  "
      ]
     },
     "execution_count": 88,
     "metadata": {},
     "output_type": "execute_result"
    }
   ],
   "source": [
    "top_sellers.head(40)"
   ]
  },
  {
   "cell_type": "markdown",
   "metadata": {},
   "source": [
    "- Out top 7 sellers account for 10% of our revenue\n",
    "- Our top 1% sellers account for approx. a quarter of our revenue"
   ]
  },
  {
   "cell_type": "code",
   "execution_count": 89,
   "metadata": {},
   "outputs": [
    {
     "data": {
      "text/html": [
       "<div>\n",
       "<style scoped>\n",
       "    .dataframe tbody tr th:only-of-type {\n",
       "        vertical-align: middle;\n",
       "    }\n",
       "\n",
       "    .dataframe tbody tr th {\n",
       "        vertical-align: top;\n",
       "    }\n",
       "\n",
       "    .dataframe thead th {\n",
       "        text-align: right;\n",
       "    }\n",
       "</style>\n",
       "<table border=\"1\" class=\"dataframe\">\n",
       "  <thead>\n",
       "    <tr style=\"text-align: right;\">\n",
       "      <th></th>\n",
       "      <th>seller_id</th>\n",
       "      <th>revenue</th>\n",
       "      <th>rank</th>\n",
       "      <th>cum_rev</th>\n",
       "      <th>percentile</th>\n",
       "      <th>revenue_contribution</th>\n",
       "      <th>top_n_perc</th>\n",
       "    </tr>\n",
       "  </thead>\n",
       "  <tbody>\n",
       "    <tr>\n",
       "      <th>122</th>\n",
       "      <td>59fb871bf6f4522a87ba567b42dafecf</td>\n",
       "      <td>21598.580399</td>\n",
       "      <td>123</td>\n",
       "      <td>6.643533e+06</td>\n",
       "      <td>95</td>\n",
       "      <td>49</td>\n",
       "      <td>4.009126</td>\n",
       "    </tr>\n",
       "    <tr>\n",
       "      <th>123</th>\n",
       "      <td>d2374cbcbb3ca4ab1086534108cc3ab7</td>\n",
       "      <td>21223.920174</td>\n",
       "      <td>124</td>\n",
       "      <td>6.664757e+06</td>\n",
       "      <td>95</td>\n",
       "      <td>49</td>\n",
       "      <td>4.041721</td>\n",
       "    </tr>\n",
       "    <tr>\n",
       "      <th>124</th>\n",
       "      <td>48162d548f5b1b11b9d29d1e01f75a61</td>\n",
       "      <td>20510.139845</td>\n",
       "      <td>125</td>\n",
       "      <td>6.685267e+06</td>\n",
       "      <td>95</td>\n",
       "      <td>49</td>\n",
       "      <td>4.074316</td>\n",
       "    </tr>\n",
       "    <tr>\n",
       "      <th>125</th>\n",
       "      <td>729f06993dac8e860d4f02d7088ca48a</td>\n",
       "      <td>20485.079700</td>\n",
       "      <td>126</td>\n",
       "      <td>6.705752e+06</td>\n",
       "      <td>95</td>\n",
       "      <td>49</td>\n",
       "      <td>4.106910</td>\n",
       "    </tr>\n",
       "    <tr>\n",
       "      <th>126</th>\n",
       "      <td>00ee68308b45bc5e2660cd833c3f81cc</td>\n",
       "      <td>20260.000000</td>\n",
       "      <td>127</td>\n",
       "      <td>6.726012e+06</td>\n",
       "      <td>95</td>\n",
       "      <td>49</td>\n",
       "      <td>4.139505</td>\n",
       "    </tr>\n",
       "    <tr>\n",
       "      <th>127</th>\n",
       "      <td>bfd27a966d91cfaafdb25d076585f0da</td>\n",
       "      <td>19921.000000</td>\n",
       "      <td>128</td>\n",
       "      <td>6.745933e+06</td>\n",
       "      <td>95</td>\n",
       "      <td>49</td>\n",
       "      <td>4.172099</td>\n",
       "    </tr>\n",
       "    <tr>\n",
       "      <th>128</th>\n",
       "      <td>004c9cd9d87a3c30c522c48c4fc07416</td>\n",
       "      <td>19712.710007</td>\n",
       "      <td>129</td>\n",
       "      <td>6.765646e+06</td>\n",
       "      <td>95</td>\n",
       "      <td>49</td>\n",
       "      <td>4.204694</td>\n",
       "    </tr>\n",
       "    <tr>\n",
       "      <th>129</th>\n",
       "      <td>d650b663c3b5f6fb392b6326366efa9a</td>\n",
       "      <td>19242.899994</td>\n",
       "      <td>130</td>\n",
       "      <td>6.784888e+06</td>\n",
       "      <td>95</td>\n",
       "      <td>50</td>\n",
       "      <td>4.237288</td>\n",
       "    </tr>\n",
       "    <tr>\n",
       "      <th>130</th>\n",
       "      <td>821fb029fc6e495ca4f08a35d51e53a5</td>\n",
       "      <td>19187.419968</td>\n",
       "      <td>131</td>\n",
       "      <td>6.804076e+06</td>\n",
       "      <td>95</td>\n",
       "      <td>50</td>\n",
       "      <td>4.269883</td>\n",
       "    </tr>\n",
       "    <tr>\n",
       "      <th>131</th>\n",
       "      <td>f457c46070d02cadd8a68551231220dd</td>\n",
       "      <td>19093.000183</td>\n",
       "      <td>132</td>\n",
       "      <td>6.823169e+06</td>\n",
       "      <td>95</td>\n",
       "      <td>50</td>\n",
       "      <td>4.302477</td>\n",
       "    </tr>\n",
       "    <tr>\n",
       "      <th>132</th>\n",
       "      <td>2a5b78b41cd05baeac8df54c6606b92c</td>\n",
       "      <td>19025.360172</td>\n",
       "      <td>133</td>\n",
       "      <td>6.842194e+06</td>\n",
       "      <td>95</td>\n",
       "      <td>50</td>\n",
       "      <td>4.335072</td>\n",
       "    </tr>\n",
       "    <tr>\n",
       "      <th>133</th>\n",
       "      <td>dc317f341ab0e22f39acbd9dbf9b4a1f</td>\n",
       "      <td>18988.399727</td>\n",
       "      <td>134</td>\n",
       "      <td>6.861183e+06</td>\n",
       "      <td>95</td>\n",
       "      <td>50</td>\n",
       "      <td>4.367666</td>\n",
       "    </tr>\n",
       "    <tr>\n",
       "      <th>134</th>\n",
       "      <td>96493fab2fbb13a14d0c0e8772eef5c3</td>\n",
       "      <td>18969.000000</td>\n",
       "      <td>135</td>\n",
       "      <td>6.880152e+06</td>\n",
       "      <td>95</td>\n",
       "      <td>50</td>\n",
       "      <td>4.400261</td>\n",
       "    </tr>\n",
       "    <tr>\n",
       "      <th>135</th>\n",
       "      <td>44073f8b7e41514de3b7815dd0237f4f</td>\n",
       "      <td>18729.639961</td>\n",
       "      <td>136</td>\n",
       "      <td>6.898881e+06</td>\n",
       "      <td>95</td>\n",
       "      <td>50</td>\n",
       "      <td>4.432855</td>\n",
       "    </tr>\n",
       "    <tr>\n",
       "      <th>136</th>\n",
       "      <td>cd68562d3f44870c08922d380acae552</td>\n",
       "      <td>18569.699997</td>\n",
       "      <td>137</td>\n",
       "      <td>6.917451e+06</td>\n",
       "      <td>95</td>\n",
       "      <td>51</td>\n",
       "      <td>4.465450</td>\n",
       "    </tr>\n",
       "    <tr>\n",
       "      <th>137</th>\n",
       "      <td>0dd184061fb0eaa7ca37932c68ab91c5</td>\n",
       "      <td>18446.920013</td>\n",
       "      <td>138</td>\n",
       "      <td>6.935898e+06</td>\n",
       "      <td>95</td>\n",
       "      <td>51</td>\n",
       "      <td>4.498044</td>\n",
       "    </tr>\n",
       "    <tr>\n",
       "      <th>138</th>\n",
       "      <td>527801b552d0077ffd170872eb49683b</td>\n",
       "      <td>17942.800467</td>\n",
       "      <td>139</td>\n",
       "      <td>6.953841e+06</td>\n",
       "      <td>95</td>\n",
       "      <td>51</td>\n",
       "      <td>4.530639</td>\n",
       "    </tr>\n",
       "    <tr>\n",
       "      <th>139</th>\n",
       "      <td>a888faf2d1baececa6baf9c3d603ee1f</td>\n",
       "      <td>17765.799713</td>\n",
       "      <td>140</td>\n",
       "      <td>6.971606e+06</td>\n",
       "      <td>95</td>\n",
       "      <td>51</td>\n",
       "      <td>4.563233</td>\n",
       "    </tr>\n",
       "    <tr>\n",
       "      <th>140</th>\n",
       "      <td>9de4643a8dbde634fe55621059d92273</td>\n",
       "      <td>17560.340244</td>\n",
       "      <td>141</td>\n",
       "      <td>6.989167e+06</td>\n",
       "      <td>95</td>\n",
       "      <td>51</td>\n",
       "      <td>4.595828</td>\n",
       "    </tr>\n",
       "    <tr>\n",
       "      <th>141</th>\n",
       "      <td>8b321bb669392f5163d04c59e235e066</td>\n",
       "      <td>17535.689890</td>\n",
       "      <td>142</td>\n",
       "      <td>7.006702e+06</td>\n",
       "      <td>95</td>\n",
       "      <td>51</td>\n",
       "      <td>4.628422</td>\n",
       "    </tr>\n",
       "    <tr>\n",
       "      <th>142</th>\n",
       "      <td>c72de06d72748d1a0dfb2125be43ba63</td>\n",
       "      <td>17522.000000</td>\n",
       "      <td>143</td>\n",
       "      <td>7.024224e+06</td>\n",
       "      <td>95</td>\n",
       "      <td>51</td>\n",
       "      <td>4.661017</td>\n",
       "    </tr>\n",
       "    <tr>\n",
       "      <th>143</th>\n",
       "      <td>165fc07beebdcb6190fba8a06db2a449</td>\n",
       "      <td>17481.400017</td>\n",
       "      <td>144</td>\n",
       "      <td>7.041706e+06</td>\n",
       "      <td>95</td>\n",
       "      <td>51</td>\n",
       "      <td>4.693611</td>\n",
       "    </tr>\n",
       "  </tbody>\n",
       "</table>\n",
       "</div>"
      ],
      "text/plain": [
       "                            seller_id       revenue  rank       cum_rev  \\\n",
       "122  59fb871bf6f4522a87ba567b42dafecf  21598.580399   123  6.643533e+06   \n",
       "123  d2374cbcbb3ca4ab1086534108cc3ab7  21223.920174   124  6.664757e+06   \n",
       "124  48162d548f5b1b11b9d29d1e01f75a61  20510.139845   125  6.685267e+06   \n",
       "125  729f06993dac8e860d4f02d7088ca48a  20485.079700   126  6.705752e+06   \n",
       "126  00ee68308b45bc5e2660cd833c3f81cc  20260.000000   127  6.726012e+06   \n",
       "127  bfd27a966d91cfaafdb25d076585f0da  19921.000000   128  6.745933e+06   \n",
       "128  004c9cd9d87a3c30c522c48c4fc07416  19712.710007   129  6.765646e+06   \n",
       "129  d650b663c3b5f6fb392b6326366efa9a  19242.899994   130  6.784888e+06   \n",
       "130  821fb029fc6e495ca4f08a35d51e53a5  19187.419968   131  6.804076e+06   \n",
       "131  f457c46070d02cadd8a68551231220dd  19093.000183   132  6.823169e+06   \n",
       "132  2a5b78b41cd05baeac8df54c6606b92c  19025.360172   133  6.842194e+06   \n",
       "133  dc317f341ab0e22f39acbd9dbf9b4a1f  18988.399727   134  6.861183e+06   \n",
       "134  96493fab2fbb13a14d0c0e8772eef5c3  18969.000000   135  6.880152e+06   \n",
       "135  44073f8b7e41514de3b7815dd0237f4f  18729.639961   136  6.898881e+06   \n",
       "136  cd68562d3f44870c08922d380acae552  18569.699997   137  6.917451e+06   \n",
       "137  0dd184061fb0eaa7ca37932c68ab91c5  18446.920013   138  6.935898e+06   \n",
       "138  527801b552d0077ffd170872eb49683b  17942.800467   139  6.953841e+06   \n",
       "139  a888faf2d1baececa6baf9c3d603ee1f  17765.799713   140  6.971606e+06   \n",
       "140  9de4643a8dbde634fe55621059d92273  17560.340244   141  6.989167e+06   \n",
       "141  8b321bb669392f5163d04c59e235e066  17535.689890   142  7.006702e+06   \n",
       "142  c72de06d72748d1a0dfb2125be43ba63  17522.000000   143  7.024224e+06   \n",
       "143  165fc07beebdcb6190fba8a06db2a449  17481.400017   144  7.041706e+06   \n",
       "\n",
       "     percentile  revenue_contribution  top_n_perc  \n",
       "122          95                    49    4.009126  \n",
       "123          95                    49    4.041721  \n",
       "124          95                    49    4.074316  \n",
       "125          95                    49    4.106910  \n",
       "126          95                    49    4.139505  \n",
       "127          95                    49    4.172099  \n",
       "128          95                    49    4.204694  \n",
       "129          95                    50    4.237288  \n",
       "130          95                    50    4.269883  \n",
       "131          95                    50    4.302477  \n",
       "132          95                    50    4.335072  \n",
       "133          95                    50    4.367666  \n",
       "134          95                    50    4.400261  \n",
       "135          95                    50    4.432855  \n",
       "136          95                    51    4.465450  \n",
       "137          95                    51    4.498044  \n",
       "138          95                    51    4.530639  \n",
       "139          95                    51    4.563233  \n",
       "140          95                    51    4.595828  \n",
       "141          95                    51    4.628422  \n",
       "142          95                    51    4.661017  \n",
       "143          95                    51    4.693611  "
      ]
     },
     "execution_count": 89,
     "metadata": {},
     "output_type": "execute_result"
    }
   ],
   "source": [
    "top_sellers.loc[top_sellers[\"revenue_contribution\"].between(49,51)]"
   ]
  },
  {
   "cell_type": "markdown",
   "metadata": {},
   "source": [
    "- Half of our revenue is generated by 130 sellers (the top 4.2%)"
   ]
  }
 ],
 "metadata": {
  "kernelspec": {
   "display_name": "Python 3",
   "language": "python",
   "name": "python3"
  },
  "language_info": {
   "codemirror_mode": {
    "name": "ipython",
    "version": 3
   },
   "file_extension": ".py",
   "mimetype": "text/x-python",
   "name": "python",
   "nbconvert_exporter": "python",
   "pygments_lexer": "ipython3",
   "version": "3.7.6"
  }
 },
 "nbformat": 4,
 "nbformat_minor": 4
}
