{
 "cells": [
  {
   "cell_type": "code",
   "execution_count": 1,
   "metadata": {},
   "outputs": [],
   "source": [
    "import pandas as pd\n",
    "import numpy as np\n",
    "import matplotlib\n",
    "import matplotlib.pyplot as plt\n",
    "import seaborn as sns\n",
    "import mysql_connection as mc\n",
    "import statsmodels.api as sm\n",
    "\n",
    "sns.set_style(\"white\")"
   ]
  },
  {
   "cell_type": "code",
   "execution_count": 2,
   "metadata": {},
   "outputs": [
    {
     "name": "stdout",
     "output_type": "stream",
     "text": [
      "Please insert your password:········\n"
     ]
    }
   ],
   "source": [
    "conn = mc.connect()"
   ]
  },
  {
   "cell_type": "markdown",
   "metadata": {},
   "source": [
    "Olist ran a Black Friday campaign on Nov. 24th 2017.\n",
    "\n",
    "The Analytics team is tasked to evaluate its success. \n",
    "\n",
    "### Get weekly revenue data"
   ]
  },
  {
   "cell_type": "code",
   "execution_count": 3,
   "metadata": {},
   "outputs": [],
   "source": [
    "revenue_query = \"\"\"\n",
    "SELECT \n",
    "    DATE_SUB(DATE(o.order_purchase_timestamp),\n",
    "            INTERVAL DAYOFWEEK(DATE(o.order_purchase_timestamp)) - 1 DAY) AS week_id,\n",
    "    SUM(oi.price)                                                         AS revenue\n",
    "FROM orders o\n",
    "    JOIN order_items oi\n",
    "    ON o.order_id = oi.order_id\n",
    "WHERE o.order_purchase_timestamp > '20170102'\n",
    "    AND o.order_purchase_timestamp < '20180903'\n",
    "    AND o.order_status = 'delivered'\n",
    "GROUP BY week_id\n",
    "ORDER BY week_id\n",
    "\"\"\"\n",
    "\n",
    "revenue = pd.read_sql(revenue_query, conn)"
   ]
  },
  {
   "cell_type": "code",
   "execution_count": 4,
   "metadata": {},
   "outputs": [
    {
     "data": {
      "text/html": [
       "<div>\n",
       "<style scoped>\n",
       "    .dataframe tbody tr th:only-of-type {\n",
       "        vertical-align: middle;\n",
       "    }\n",
       "\n",
       "    .dataframe tbody tr th {\n",
       "        vertical-align: top;\n",
       "    }\n",
       "\n",
       "    .dataframe thead th {\n",
       "        text-align: right;\n",
       "    }\n",
       "</style>\n",
       "<table border=\"1\" class=\"dataframe\">\n",
       "  <thead>\n",
       "    <tr style=\"text-align: right;\">\n",
       "      <th></th>\n",
       "      <th>week_id</th>\n",
       "      <th>revenue</th>\n",
       "    </tr>\n",
       "  </thead>\n",
       "  <tbody>\n",
       "    <tr>\n",
       "      <th>0</th>\n",
       "      <td>2017-01-01</td>\n",
       "      <td>2665.180000</td>\n",
       "    </tr>\n",
       "    <tr>\n",
       "      <th>1</th>\n",
       "      <td>2017-01-08</td>\n",
       "      <td>9219.869994</td>\n",
       "    </tr>\n",
       "    <tr>\n",
       "      <th>2</th>\n",
       "      <td>2017-01-15</td>\n",
       "      <td>21897.100027</td>\n",
       "    </tr>\n",
       "    <tr>\n",
       "      <th>3</th>\n",
       "      <td>2017-01-22</td>\n",
       "      <td>51331.669920</td>\n",
       "    </tr>\n",
       "    <tr>\n",
       "      <th>4</th>\n",
       "      <td>2017-01-29</td>\n",
       "      <td>66278.049820</td>\n",
       "    </tr>\n",
       "  </tbody>\n",
       "</table>\n",
       "</div>"
      ],
      "text/plain": [
       "      week_id       revenue\n",
       "0  2017-01-01   2665.180000\n",
       "1  2017-01-08   9219.869994\n",
       "2  2017-01-15  21897.100027\n",
       "3  2017-01-22  51331.669920\n",
       "4  2017-01-29  66278.049820"
      ]
     },
     "execution_count": 4,
     "metadata": {},
     "output_type": "execute_result"
    }
   ],
   "source": [
    "revenue.head()"
   ]
  },
  {
   "cell_type": "code",
   "execution_count": 5,
   "metadata": {},
   "outputs": [
    {
     "data": {
      "text/plain": [
       "week_id     object\n",
       "revenue    float64\n",
       "dtype: object"
      ]
     },
     "execution_count": 5,
     "metadata": {},
     "output_type": "execute_result"
    }
   ],
   "source": [
    "revenue.dtypes"
   ]
  },
  {
   "cell_type": "code",
   "execution_count": 6,
   "metadata": {},
   "outputs": [],
   "source": [
    "revenue[\"week_id\"] = pd.to_datetime(revenue[\"week_id\"])"
   ]
  },
  {
   "cell_type": "markdown",
   "metadata": {},
   "source": [
    "## Approach 1:\n",
    "\n",
    "Compare week of Black Friday to time period before"
   ]
  },
  {
   "cell_type": "code",
   "execution_count": 7,
   "metadata": {},
   "outputs": [],
   "source": [
    "week = revenue.copy()"
   ]
  },
  {
   "cell_type": "code",
   "execution_count": 8,
   "metadata": {},
   "outputs": [],
   "source": [
    "week = week.loc[week[\"week_id\"].between(\"2017-11-12\",\"2017-11-19\")]"
   ]
  },
  {
   "cell_type": "code",
   "execution_count": 9,
   "metadata": {},
   "outputs": [
    {
     "data": {
      "text/html": [
       "<div>\n",
       "<style scoped>\n",
       "    .dataframe tbody tr th:only-of-type {\n",
       "        vertical-align: middle;\n",
       "    }\n",
       "\n",
       "    .dataframe tbody tr th {\n",
       "        vertical-align: top;\n",
       "    }\n",
       "\n",
       "    .dataframe thead th {\n",
       "        text-align: right;\n",
       "    }\n",
       "</style>\n",
       "<table border=\"1\" class=\"dataframe\">\n",
       "  <thead>\n",
       "    <tr style=\"text-align: right;\">\n",
       "      <th></th>\n",
       "      <th>week_id</th>\n",
       "      <th>revenue</th>\n",
       "    </tr>\n",
       "  </thead>\n",
       "  <tbody>\n",
       "    <tr>\n",
       "      <th>45</th>\n",
       "      <td>2017-11-12</td>\n",
       "      <td>174580.540058</td>\n",
       "    </tr>\n",
       "    <tr>\n",
       "      <th>46</th>\n",
       "      <td>2017-11-19</td>\n",
       "      <td>373838.420382</td>\n",
       "    </tr>\n",
       "  </tbody>\n",
       "</table>\n",
       "</div>"
      ],
      "text/plain": [
       "      week_id        revenue\n",
       "45 2017-11-12  174580.540058\n",
       "46 2017-11-19  373838.420382"
      ]
     },
     "execution_count": 9,
     "metadata": {},
     "output_type": "execute_result"
    }
   ],
   "source": [
    "week"
   ]
  },
  {
   "cell_type": "code",
   "execution_count": 10,
   "metadata": {},
   "outputs": [
    {
     "data": {
      "text/plain": [
       "174580.54005765915"
      ]
     },
     "execution_count": 10,
     "metadata": {},
     "output_type": "execute_result"
    }
   ],
   "source": [
    "week.loc[week[\"week_id\"] == \"2017-11-12\", \"revenue\"].values[0]"
   ]
  },
  {
   "cell_type": "code",
   "execution_count": 11,
   "metadata": {},
   "outputs": [
    {
     "data": {
      "image/png": "[encoded data removed]",
      "text/plain": [
       "<Figure size 432x288 with 1 Axes>"
      ]
     },
     "metadata": {},
     "output_type": "display_data"
    }
   ],
   "source": [
    "ax = sns.barplot(data=week,\n",
    "                 x=\"week_id\",\n",
    "                 y=\"revenue\");\n",
    "\n",
    "ax.axhline(week.loc[week[\"week_id\"] == \"2017-11-12\", \"revenue\"].values[0], color=\"r\");"
   ]
  },
  {
   "cell_type": "markdown",
   "metadata": {},
   "source": [
    "Calculate the difference"
   ]
  },
  {
   "cell_type": "code",
   "execution_count": 12,
   "metadata": {},
   "outputs": [],
   "source": [
    "prev_week = week.loc[week[\"week_id\"] == \"2017-11-12\", \"revenue\"].values[0]\n",
    "bf_week = week.loc[week[\"week_id\"] == \"2017-11-19\", \"revenue\"].values[0]\n",
    "\n",
    "abs_diff = bf_week - prev_week\n",
    "rel_diff = (bf_week / prev_week) - 1"
   ]
  },
  {
   "cell_type": "code",
   "execution_count": 13,
   "metadata": {},
   "outputs": [
    {
     "name": "stdout",
     "output_type": "stream",
     "text": [
      "The revenue for the week including Black Friday increased by 114.14%\n",
      "compared to the week prior. Assuming the Black Friday promtion accounts for the entire difference,\n",
      "we were able to increase our revenue by 199257.88 Rios\n"
     ]
    }
   ],
   "source": [
    "print(f\"\"\"The revenue for the week including Black Friday increased by {round(rel_diff * 100, 2)}%\n",
    "compared to the week prior. Assuming the Black Friday promtion accounts for the entire difference,\n",
    "we were able to increase our revenue by {round(abs_diff, 2)} Rios\"\"\")"
   ]
  },
  {
   "cell_type": "markdown",
   "metadata": {},
   "source": [
    "We managed to increase our revenue due to Black Friday, according to our model. \n",
    "Our recommendation is to do it again!\n",
    "\n",
    "---\n",
    "\n",
    "Inspect the time-series to do visual analysis:"
   ]
  },
  {
   "cell_type": "code",
   "execution_count": 14,
   "metadata": {},
   "outputs": [
    {
     "data": {
      "image/png": "[encoded data removed]",
      "text/plain": [
       "<Figure size 864x576 with 1 Axes>"
      ]
     },
     "metadata": {},
     "output_type": "display_data"
    }
   ],
   "source": [
    "fig, ax = plt.subplots(figsize=(12,8))\n",
    "\n",
    "sns.lineplot(data=revenue,\n",
    "             x=\"week_id\",\n",
    "             y=\"revenue\",\n",
    "             ax=ax);\n",
    "\n",
    "ax.axvline(pd.to_datetime(\"2017-11-19\"), color=\"r\");\n",
    "ax.set_xlim((pd.to_datetime(\"2017-03-01\"), pd.to_datetime(\"2018-03-01\")));\n",
    "\n",
    "ax.axvline(pd.to_datetime(\"2017-10-15\"), color=\"grey\");\n",
    "ax.axvline(pd.to_datetime(\"2017-12-31\"), color=\"grey\");"
   ]
  },
  {
   "cell_type": "markdown",
   "metadata": {},
   "source": [
    "The graph suggests that revenue decreased in some time periods immediatly before and after the week of Black Friday, which indicates that consumers may have changed their purchasing behavior. That is, some consumers may have preponed or postponed a purchase to save money. \n",
    "We can also see that revenue has probably been increasing throughout the year of 2017.\n",
    "\n",
    "\n",
    "We can 'bake in' these additional assumptions through considering a time range instead of just the week affected (change in behavior) and through estimating a trend line (trend).\n",
    "\n",
    "## Approach 2:\n",
    "\n",
    "Establish baseline considering overall trend and change in behavior."
   ]
  },
  {
   "cell_type": "code",
   "execution_count": 15,
   "metadata": {},
   "outputs": [],
   "source": [
    "rev_trend = revenue.loc[revenue[\"week_id\"].between(\"2017-03-01\",\"2017-12-31\")].copy().reset_index(drop=True)"
   ]
  },
  {
   "cell_type": "code",
   "execution_count": 16,
   "metadata": {},
   "outputs": [],
   "source": [
    "rev_trend_train = rev_trend[rev_trend[\"week_id\"].between(\"2017-03-01\",\"2017-10-15\")].copy().reset_index(drop=True)"
   ]
  },
  {
   "cell_type": "code",
   "execution_count": 17,
   "metadata": {},
   "outputs": [
    {
     "data": {
      "image/png": "[encoded data removed]",
      "text/plain": [
       "<Figure size 720x432 with 1 Axes>"
      ]
     },
     "metadata": {},
     "output_type": "display_data"
    }
   ],
   "source": [
    "fig, ax = plt.subplots(figsize=(10,6))\n",
    "\n",
    "sns.lineplot(data=rev_trend_train,\n",
    "             x=\"week_id\",\n",
    "             y=\"revenue\",\n",
    "             ax=ax);"
   ]
  },
  {
   "cell_type": "code",
   "execution_count": 18,
   "metadata": {},
   "outputs": [
    {
     "data": {
      "image/png": "[encoded data removed]",
      "text/plain": [
       "<Figure size 720x432 with 1 Axes>"
      ]
     },
     "metadata": {},
     "output_type": "display_data"
    }
   ],
   "source": [
    "fig, ax = plt.subplots(figsize=(10,6))\n",
    "\n",
    "sns.scatterplot(data=rev_trend_train,\n",
    "                x=\"week_id\",\n",
    "                y=\"revenue\",\n",
    "                ax=ax);\n",
    "\n",
    "ax.set_xlim((pd.to_datetime(\"2017-03-01\"), pd.to_datetime(\"2017-10-15\")));"
   ]
  },
  {
   "cell_type": "markdown",
   "metadata": {},
   "source": [
    "Create time variable to run a regression"
   ]
  },
  {
   "cell_type": "code",
   "execution_count": 19,
   "metadata": {},
   "outputs": [],
   "source": [
    "rev_trend_train = (rev_trend_train\n",
    "                   .sort_values(\"week_id\")\n",
    "                   .assign(t=range(1, len(rev_trend_train) + 1)))"
   ]
  },
  {
   "cell_type": "code",
   "execution_count": 20,
   "metadata": {},
   "outputs": [
    {
     "data": {
      "image/png": "[encoded data removed]",
      "text/plain": [
       "<Figure size 720x432 with 1 Axes>"
      ]
     },
     "metadata": {},
     "output_type": "display_data"
    }
   ],
   "source": [
    "fig, ax = plt.subplots(figsize=(10,6))\n",
    "\n",
    "sns.lineplot(data=rev_trend_train,\n",
    "             x=\"t\",\n",
    "             y=\"revenue\",\n",
    "             ax=ax);"
   ]
  },
  {
   "cell_type": "code",
   "execution_count": 21,
   "metadata": {},
   "outputs": [
    {
     "data": {
      "image/png": "[encoded data removed]",
      "text/plain": [
       "<Figure size 720x432 with 1 Axes>"
      ]
     },
     "metadata": {},
     "output_type": "display_data"
    }
   ],
   "source": [
    "fig, ax = plt.subplots(figsize=(10,6))\n",
    "\n",
    "sns.regplot(data=rev_trend_train,\n",
    "            x=\"t\",\n",
    "            y=\"revenue\",\n",
    "            ax=ax);"
   ]
  },
  {
   "cell_type": "markdown",
   "metadata": {},
   "source": [
    "Using Linear Regression to compute the fitted line"
   ]
  },
  {
   "cell_type": "code",
   "execution_count": 22,
   "metadata": {},
   "outputs": [],
   "source": [
    "# add a constant\n",
    "rev_trend_train = rev_trend_train.assign(const=1)\n",
    "\n",
    "# rev_trend_train = sm.add_constant(rev_trend_train)"
   ]
  },
  {
   "cell_type": "code",
   "execution_count": 23,
   "metadata": {},
   "outputs": [],
   "source": [
    "y = rev_trend_train[\"revenue\"]\n",
    "X = rev_trend_train[[\"const\", \"t\"]]\n",
    "\n",
    "lin_reg = sm.OLS(y, X)\n",
    "results = lin_reg.fit()"
   ]
  },
  {
   "cell_type": "code",
   "execution_count": 24,
   "metadata": {},
   "outputs": [
    {
     "data": {
      "text/html": [
       "<table class=\"simpletable\">\n",
       "<caption>OLS Regression Results</caption>\n",
       "<tr>\n",
       "  <th>Dep. Variable:</th>         <td>revenue</td>     <th>  R-squared:         </th> <td>   0.733</td>\n",
       "</tr>\n",
       "<tr>\n",
       "  <th>Model:</th>                   <td>OLS</td>       <th>  Adj. R-squared:    </th> <td>   0.724</td>\n",
       "</tr>\n",
       "<tr>\n",
       "  <th>Method:</th>             <td>Least Squares</td>  <th>  F-statistic:       </th> <td>   85.07</td>\n",
       "</tr>\n",
       "<tr>\n",
       "  <th>Date:</th>             <td>Mon, 20 Apr 2020</td> <th>  Prob (F-statistic):</th> <td>2.13e-10</td>\n",
       "</tr>\n",
       "<tr>\n",
       "  <th>Time:</th>                 <td>15:40:22</td>     <th>  Log-Likelihood:    </th> <td> -359.88</td>\n",
       "</tr>\n",
       "<tr>\n",
       "  <th>No. Observations:</th>      <td>    33</td>      <th>  AIC:               </th> <td>   723.8</td>\n",
       "</tr>\n",
       "<tr>\n",
       "  <th>Df Residuals:</th>          <td>    31</td>      <th>  BIC:               </th> <td>   726.7</td>\n",
       "</tr>\n",
       "<tr>\n",
       "  <th>Df Model:</th>              <td>     1</td>      <th>                     </th>     <td> </td>   \n",
       "</tr>\n",
       "<tr>\n",
       "  <th>Covariance Type:</th>      <td>nonrobust</td>    <th>                     </th>     <td> </td>   \n",
       "</tr>\n",
       "</table>\n",
       "<table class=\"simpletable\">\n",
       "<tr>\n",
       "    <td></td>       <th>coef</th>     <th>std err</th>      <th>t</th>      <th>P>|t|</th>  <th>[0.025</th>    <th>0.975]</th>  \n",
       "</tr>\n",
       "<tr>\n",
       "  <th>const</th> <td> 7.194e+04</td> <td> 4843.799</td> <td>   14.852</td> <td> 0.000</td> <td> 6.21e+04</td> <td> 8.18e+04</td>\n",
       "</tr>\n",
       "<tr>\n",
       "  <th>t</th>     <td> 2292.7797</td> <td>  248.591</td> <td>    9.223</td> <td> 0.000</td> <td> 1785.776</td> <td> 2799.784</td>\n",
       "</tr>\n",
       "</table>\n",
       "<table class=\"simpletable\">\n",
       "<tr>\n",
       "  <th>Omnibus:</th>       <td> 0.224</td> <th>  Durbin-Watson:     </th> <td>   1.492</td>\n",
       "</tr>\n",
       "<tr>\n",
       "  <th>Prob(Omnibus):</th> <td> 0.894</td> <th>  Jarque-Bera (JB):  </th> <td>   0.040</td>\n",
       "</tr>\n",
       "<tr>\n",
       "  <th>Skew:</th>          <td> 0.081</td> <th>  Prob(JB):          </th> <td>   0.980</td>\n",
       "</tr>\n",
       "<tr>\n",
       "  <th>Kurtosis:</th>      <td> 2.947</td> <th>  Cond. No.          </th> <td>    40.0</td>\n",
       "</tr>\n",
       "</table><br/><br/>Warnings:<br/>[1] Standard Errors assume that the covariance matrix of the errors is correctly specified."
      ],
      "text/plain": [
       "<class 'statsmodels.iolib.summary.Summary'>\n",
       "\"\"\"\n",
       "                            OLS Regression Results                            \n",
       "==============================================================================\n",
       "Dep. Variable:                revenue   R-squared:                       0.733\n",
       "Model:                            OLS   Adj. R-squared:                  0.724\n",
       "Method:                 Least Squares   F-statistic:                     85.07\n",
       "Date:                Mon, 20 Apr 2020   Prob (F-statistic):           2.13e-10\n",
       "Time:                        15:40:22   Log-Likelihood:                -359.88\n",
       "No. Observations:                  33   AIC:                             723.8\n",
       "Df Residuals:                      31   BIC:                             726.7\n",
       "Df Model:                           1                                         \n",
       "Covariance Type:            nonrobust                                         \n",
       "==============================================================================\n",
       "                 coef    std err          t      P>|t|      [0.025      0.975]\n",
       "------------------------------------------------------------------------------\n",
       "const       7.194e+04   4843.799     14.852      0.000    6.21e+04    8.18e+04\n",
       "t           2292.7797    248.591      9.223      0.000    1785.776    2799.784\n",
       "==============================================================================\n",
       "Omnibus:                        0.224   Durbin-Watson:                   1.492\n",
       "Prob(Omnibus):                  0.894   Jarque-Bera (JB):                0.040\n",
       "Skew:                           0.081   Prob(JB):                        0.980\n",
       "Kurtosis:                       2.947   Cond. No.                         40.0\n",
       "==============================================================================\n",
       "\n",
       "Warnings:\n",
       "[1] Standard Errors assume that the covariance matrix of the errors is correctly specified.\n",
       "\"\"\""
      ]
     },
     "execution_count": 24,
     "metadata": {},
     "output_type": "execute_result"
    }
   ],
   "source": [
    "results.summary()"
   ]
  },
  {
   "cell_type": "code",
   "execution_count": 25,
   "metadata": {},
   "outputs": [],
   "source": [
    "predicted_revenue = results.predict(X)\n",
    "rev_trend_train = rev_trend_train.assign(predicted_revenue=predicted_revenue)"
   ]
  },
  {
   "cell_type": "code",
   "execution_count": 26,
   "metadata": {},
   "outputs": [
    {
     "data": {
      "image/png": "[encoded data removed]",
      "text/plain": [
       "<Figure size 720x432 with 1 Axes>"
      ]
     },
     "metadata": {},
     "output_type": "display_data"
    }
   ],
   "source": [
    "fig, ax = plt.subplots(figsize=(10,6))\n",
    "\n",
    "sns.lineplot(data=rev_trend_train,\n",
    "             x=\"week_id\",\n",
    "             y=\"revenue\",\n",
    "             ax=ax);\n",
    "\n",
    "sns.lineplot(data=rev_trend_train,\n",
    "             x=\"week_id\",\n",
    "             y=\"predicted_revenue\",\n",
    "             color=\"green\",\n",
    "             ax=ax);"
   ]
  },
  {
   "cell_type": "markdown",
   "metadata": {},
   "source": [
    "Predict the revenue for the time periods affected by Black Friday"
   ]
  },
  {
   "cell_type": "code",
   "execution_count": 27,
   "metadata": {},
   "outputs": [],
   "source": [
    "# add constant and time variable to rev_trend\n",
    "rev_trend = (rev_trend.assign(const=1,\n",
    "                              t=range(1, len(rev_trend) + 1)))"
   ]
  },
  {
   "cell_type": "code",
   "execution_count": 28,
   "metadata": {},
   "outputs": [],
   "source": [
    "predicted_revenue_bf = results.predict(rev_trend[[\"const\", \"t\"]])\n",
    "rev_trend = rev_trend.assign(predicted_revenue=predicted_revenue_bf)"
   ]
  },
  {
   "cell_type": "code",
   "execution_count": 29,
   "metadata": {},
   "outputs": [
    {
     "data": {
      "image/png": "[encoded data removed]",
      "text/plain": [
       "<Figure size 720x432 with 1 Axes>"
      ]
     },
     "metadata": {},
     "output_type": "display_data"
    }
   ],
   "source": [
    "fig, ax = plt.subplots(figsize=(10,6))\n",
    "\n",
    "sns.lineplot(data=rev_trend,\n",
    "             x=\"week_id\",\n",
    "             y=\"revenue\",\n",
    "             ax=ax);\n",
    "\n",
    "sns.lineplot(data=rev_trend,\n",
    "             x=\"week_id\",\n",
    "             y=\"predicted_revenue\",\n",
    "             color=\"green\",\n",
    "             ax=ax);\n",
    "\n",
    "ax.axvline(pd.to_datetime(\"2017-10-15\"), color=\"red\");"
   ]
  },
  {
   "cell_type": "markdown",
   "metadata": {},
   "source": [
    "Calculate the differences betwen realized revenue and predicted revenue (baseline) and compute the sum"
   ]
  },
  {
   "cell_type": "code",
   "execution_count": 30,
   "metadata": {},
   "outputs": [],
   "source": [
    "rev_bf = rev_trend.loc[rev_trend[\"week_id\"] > '2017-10-15']"
   ]
  },
  {
   "cell_type": "code",
   "execution_count": 31,
   "metadata": {},
   "outputs": [],
   "source": [
    "rev_bf = rev_bf.assign(diff=rev_bf[\"revenue\"] - rev_bf[\"predicted_revenue\"])"
   ]
  },
  {
   "cell_type": "code",
   "execution_count": 32,
   "metadata": {},
   "outputs": [
    {
     "data": {
      "text/html": [
       "<div>\n",
       "<style scoped>\n",
       "    .dataframe tbody tr th:only-of-type {\n",
       "        vertical-align: middle;\n",
       "    }\n",
       "\n",
       "    .dataframe tbody tr th {\n",
       "        vertical-align: top;\n",
       "    }\n",
       "\n",
       "    .dataframe thead th {\n",
       "        text-align: right;\n",
       "    }\n",
       "</style>\n",
       "<table border=\"1\" class=\"dataframe\">\n",
       "  <thead>\n",
       "    <tr style=\"text-align: right;\">\n",
       "      <th></th>\n",
       "      <th>week_id</th>\n",
       "      <th>revenue</th>\n",
       "      <th>const</th>\n",
       "      <th>t</th>\n",
       "      <th>predicted_revenue</th>\n",
       "      <th>diff</th>\n",
       "    </tr>\n",
       "  </thead>\n",
       "  <tbody>\n",
       "    <tr>\n",
       "      <th>33</th>\n",
       "      <td>2017-10-22</td>\n",
       "      <td>138215.120121</td>\n",
       "      <td>1</td>\n",
       "      <td>34</td>\n",
       "      <td>149896.575500</td>\n",
       "      <td>-11681.455379</td>\n",
       "    </tr>\n",
       "    <tr>\n",
       "      <th>34</th>\n",
       "      <td>2017-10-29</td>\n",
       "      <td>142517.870461</td>\n",
       "      <td>1</td>\n",
       "      <td>35</td>\n",
       "      <td>152189.355219</td>\n",
       "      <td>-9671.484758</td>\n",
       "    </tr>\n",
       "    <tr>\n",
       "      <th>35</th>\n",
       "      <td>2017-11-05</td>\n",
       "      <td>148169.000426</td>\n",
       "      <td>1</td>\n",
       "      <td>36</td>\n",
       "      <td>154482.134939</td>\n",
       "      <td>-6313.134513</td>\n",
       "    </tr>\n",
       "    <tr>\n",
       "      <th>36</th>\n",
       "      <td>2017-11-12</td>\n",
       "      <td>174580.540058</td>\n",
       "      <td>1</td>\n",
       "      <td>37</td>\n",
       "      <td>156774.914659</td>\n",
       "      <td>17805.625399</td>\n",
       "    </tr>\n",
       "    <tr>\n",
       "      <th>37</th>\n",
       "      <td>2017-11-19</td>\n",
       "      <td>373838.420382</td>\n",
       "      <td>1</td>\n",
       "      <td>38</td>\n",
       "      <td>159067.694379</td>\n",
       "      <td>214770.726003</td>\n",
       "    </tr>\n",
       "    <tr>\n",
       "      <th>38</th>\n",
       "      <td>2017-11-26</td>\n",
       "      <td>278597.099682</td>\n",
       "      <td>1</td>\n",
       "      <td>39</td>\n",
       "      <td>161360.474099</td>\n",
       "      <td>117236.625583</td>\n",
       "    </tr>\n",
       "    <tr>\n",
       "      <th>39</th>\n",
       "      <td>2017-12-03</td>\n",
       "      <td>222071.810027</td>\n",
       "      <td>1</td>\n",
       "      <td>40</td>\n",
       "      <td>163653.253819</td>\n",
       "      <td>58418.556209</td>\n",
       "    </tr>\n",
       "    <tr>\n",
       "      <th>40</th>\n",
       "      <td>2017-12-10</td>\n",
       "      <td>190441.949685</td>\n",
       "      <td>1</td>\n",
       "      <td>41</td>\n",
       "      <td>165946.033538</td>\n",
       "      <td>24495.916146</td>\n",
       "    </tr>\n",
       "    <tr>\n",
       "      <th>41</th>\n",
       "      <td>2017-12-17</td>\n",
       "      <td>138845.850016</td>\n",
       "      <td>1</td>\n",
       "      <td>42</td>\n",
       "      <td>168238.813258</td>\n",
       "      <td>-29392.963243</td>\n",
       "    </tr>\n",
       "    <tr>\n",
       "      <th>42</th>\n",
       "      <td>2017-12-24</td>\n",
       "      <td>96475.050198</td>\n",
       "      <td>1</td>\n",
       "      <td>43</td>\n",
       "      <td>170531.592978</td>\n",
       "      <td>-74056.542780</td>\n",
       "    </tr>\n",
       "    <tr>\n",
       "      <th>43</th>\n",
       "      <td>2017-12-31</td>\n",
       "      <td>158807.340458</td>\n",
       "      <td>1</td>\n",
       "      <td>44</td>\n",
       "      <td>172824.372698</td>\n",
       "      <td>-14017.032240</td>\n",
       "    </tr>\n",
       "  </tbody>\n",
       "</table>\n",
       "</div>"
      ],
      "text/plain": [
       "      week_id        revenue  const   t  predicted_revenue           diff\n",
       "33 2017-10-22  138215.120121      1  34      149896.575500  -11681.455379\n",
       "34 2017-10-29  142517.870461      1  35      152189.355219   -9671.484758\n",
       "35 2017-11-05  148169.000426      1  36      154482.134939   -6313.134513\n",
       "36 2017-11-12  174580.540058      1  37      156774.914659   17805.625399\n",
       "37 2017-11-19  373838.420382      1  38      159067.694379  214770.726003\n",
       "38 2017-11-26  278597.099682      1  39      161360.474099  117236.625583\n",
       "39 2017-12-03  222071.810027      1  40      163653.253819   58418.556209\n",
       "40 2017-12-10  190441.949685      1  41      165946.033538   24495.916146\n",
       "41 2017-12-17  138845.850016      1  42      168238.813258  -29392.963243\n",
       "42 2017-12-24   96475.050198      1  43      170531.592978  -74056.542780\n",
       "43 2017-12-31  158807.340458      1  44      172824.372698  -14017.032240"
      ]
     },
     "execution_count": 32,
     "metadata": {},
     "output_type": "execute_result"
    }
   ],
   "source": [
    "rev_bf"
   ]
  },
  {
   "cell_type": "code",
   "execution_count": 34,
   "metadata": {},
   "outputs": [],
   "source": [
    "abs_diff_trend = rev_bf[\"diff\"].sum()\n",
    "rel_diff_trend = (rev_bf[\"revenue\"].sum() / rev_bf[\"predicted_revenue\"].sum()) - 1"
   ]
  },
  {
   "cell_type": "code",
   "execution_count": 35,
   "metadata": {},
   "outputs": [
    {
     "data": {
      "text/plain": [
       "11"
      ]
     },
     "execution_count": 35,
     "metadata": {},
     "output_type": "execute_result"
    }
   ],
   "source": [
    "len(rev_bf)"
   ]
  },
  {
   "cell_type": "code",
   "execution_count": 36,
   "metadata": {},
   "outputs": [
    {
     "name": "stdout",
     "output_type": "stream",
     "text": [
      "The increased revenue due to Black Friday increased by 16.2%\n",
      "for the duration of approx. 11 weeks that we considered as impacted by our promotion.\n",
      "Assuming the Black Friday promtion accounts for the entire difference,\n",
      "we were able to increase our revenue by 287594.84 Rios.\n"
     ]
    }
   ],
   "source": [
    "print(f\"\"\"The increased revenue due to Black Friday increased by {round(rel_diff_trend * 100, 2)}%\n",
    "for the duration of approx. {len(rev_bf)} weeks that we considered as impacted by our promotion.\n",
    "Assuming the Black Friday promtion accounts for the entire difference,\n",
    "we were able to increase our revenue by {round(abs_diff_trend, 2)} Rios.\"\"\")"
   ]
  },
  {
   "cell_type": "markdown",
   "metadata": {},
   "source": [
    "## Approach 3:\n",
    "\n",
    "Establish baseline considering overall quadratic trend and change in behavior."
   ]
  },
  {
   "cell_type": "code",
   "execution_count": 40,
   "metadata": {},
   "outputs": [],
   "source": [
    "rev_qtrend_train = rev_trend_train[[\"week_id\", \"revenue\", \"const\", \"t\"]].copy()\n",
    "rev_qtrend = rev_trend[[\"week_id\", \"revenue\", \"const\", \"t\"]].copy()"
   ]
  },
  {
   "cell_type": "code",
   "execution_count": 43,
   "metadata": {},
   "outputs": [],
   "source": [
    "# add quadratic time variable\n",
    "rev_qtrend_train = rev_qtrend_train.assign(t2=rev_qtrend_train[\"t\"] * rev_qtrend_train[\"t\"])"
   ]
  },
  {
   "cell_type": "code",
   "execution_count": 44,
   "metadata": {},
   "outputs": [],
   "source": [
    "y = rev_qtrend_train[\"revenue\"]\n",
    "X = rev_qtrend_train[[\"const\", \"t\", \"t2\"]]"
   ]
  },
  {
   "cell_type": "code",
   "execution_count": 45,
   "metadata": {},
   "outputs": [],
   "source": [
    "quad_reg = sm.OLS(y, X)\n",
    "results_q = quad_reg.fit()"
   ]
  },
  {
   "cell_type": "code",
   "execution_count": 46,
   "metadata": {},
   "outputs": [
    {
     "data": {
      "text/html": [
       "<table class=\"simpletable\">\n",
       "<caption>OLS Regression Results</caption>\n",
       "<tr>\n",
       "  <th>Dep. Variable:</th>         <td>revenue</td>     <th>  R-squared:         </th> <td>   0.746</td>\n",
       "</tr>\n",
       "<tr>\n",
       "  <th>Model:</th>                   <td>OLS</td>       <th>  Adj. R-squared:    </th> <td>   0.729</td>\n",
       "</tr>\n",
       "<tr>\n",
       "  <th>Method:</th>             <td>Least Squares</td>  <th>  F-statistic:       </th> <td>   44.03</td>\n",
       "</tr>\n",
       "<tr>\n",
       "  <th>Date:</th>             <td>Mon, 20 Apr 2020</td> <th>  Prob (F-statistic):</th> <td>1.19e-09</td>\n",
       "</tr>\n",
       "<tr>\n",
       "  <th>Time:</th>                 <td>15:43:28</td>     <th>  Log-Likelihood:    </th> <td> -359.05</td>\n",
       "</tr>\n",
       "<tr>\n",
       "  <th>No. Observations:</th>      <td>    33</td>      <th>  AIC:               </th> <td>   724.1</td>\n",
       "</tr>\n",
       "<tr>\n",
       "  <th>Df Residuals:</th>          <td>    30</td>      <th>  BIC:               </th> <td>   728.6</td>\n",
       "</tr>\n",
       "<tr>\n",
       "  <th>Df Model:</th>              <td>     2</td>      <th>                     </th>     <td> </td>   \n",
       "</tr>\n",
       "<tr>\n",
       "  <th>Covariance Type:</th>      <td>nonrobust</td>    <th>                     </th>     <td> </td>   \n",
       "</tr>\n",
       "</table>\n",
       "<table class=\"simpletable\">\n",
       "<tr>\n",
       "    <td></td>       <th>coef</th>     <th>std err</th>      <th>t</th>      <th>P>|t|</th>  <th>[0.025</th>    <th>0.975]</th>  \n",
       "</tr>\n",
       "<tr>\n",
       "  <th>const</th> <td> 7.906e+04</td> <td> 7490.432</td> <td>   10.554</td> <td> 0.000</td> <td> 6.38e+04</td> <td> 9.44e+04</td>\n",
       "</tr>\n",
       "<tr>\n",
       "  <th>t</th>     <td> 1073.2721</td> <td> 1015.737</td> <td>    1.057</td> <td> 0.299</td> <td>-1001.139</td> <td> 3147.683</td>\n",
       "</tr>\n",
       "<tr>\n",
       "  <th>t2</th>    <td>   35.8679</td> <td>   28.982</td> <td>    1.238</td> <td> 0.225</td> <td>  -23.321</td> <td>   95.056</td>\n",
       "</tr>\n",
       "</table>\n",
       "<table class=\"simpletable\">\n",
       "<tr>\n",
       "  <th>Omnibus:</th>       <td> 1.022</td> <th>  Durbin-Watson:     </th> <td>   1.565</td>\n",
       "</tr>\n",
       "<tr>\n",
       "  <th>Prob(Omnibus):</th> <td> 0.600</td> <th>  Jarque-Bera (JB):  </th> <td>   0.358</td>\n",
       "</tr>\n",
       "<tr>\n",
       "  <th>Skew:</th>          <td> 0.225</td> <th>  Prob(JB):          </th> <td>   0.836</td>\n",
       "</tr>\n",
       "<tr>\n",
       "  <th>Kurtosis:</th>      <td> 3.239</td> <th>  Cond. No.          </th> <td>1.63e+03</td>\n",
       "</tr>\n",
       "</table><br/><br/>Warnings:<br/>[1] Standard Errors assume that the covariance matrix of the errors is correctly specified.<br/>[2] The condition number is large, 1.63e+03. This might indicate that there are<br/>strong multicollinearity or other numerical problems."
      ],
      "text/plain": [
       "<class 'statsmodels.iolib.summary.Summary'>\n",
       "\"\"\"\n",
       "                            OLS Regression Results                            \n",
       "==============================================================================\n",
       "Dep. Variable:                revenue   R-squared:                       0.746\n",
       "Model:                            OLS   Adj. R-squared:                  0.729\n",
       "Method:                 Least Squares   F-statistic:                     44.03\n",
       "Date:                Mon, 20 Apr 2020   Prob (F-statistic):           1.19e-09\n",
       "Time:                        15:43:28   Log-Likelihood:                -359.05\n",
       "No. Observations:                  33   AIC:                             724.1\n",
       "Df Residuals:                      30   BIC:                             728.6\n",
       "Df Model:                           2                                         \n",
       "Covariance Type:            nonrobust                                         \n",
       "==============================================================================\n",
       "                 coef    std err          t      P>|t|      [0.025      0.975]\n",
       "------------------------------------------------------------------------------\n",
       "const       7.906e+04   7490.432     10.554      0.000    6.38e+04    9.44e+04\n",
       "t           1073.2721   1015.737      1.057      0.299   -1001.139    3147.683\n",
       "t2            35.8679     28.982      1.238      0.225     -23.321      95.056\n",
       "==============================================================================\n",
       "Omnibus:                        1.022   Durbin-Watson:                   1.565\n",
       "Prob(Omnibus):                  0.600   Jarque-Bera (JB):                0.358\n",
       "Skew:                           0.225   Prob(JB):                        0.836\n",
       "Kurtosis:                       3.239   Cond. No.                     1.63e+03\n",
       "==============================================================================\n",
       "\n",
       "Warnings:\n",
       "[1] Standard Errors assume that the covariance matrix of the errors is correctly specified.\n",
       "[2] The condition number is large, 1.63e+03. This might indicate that there are\n",
       "strong multicollinearity or other numerical problems.\n",
       "\"\"\""
      ]
     },
     "execution_count": 46,
     "metadata": {},
     "output_type": "execute_result"
    }
   ],
   "source": [
    "results_q.summary()"
   ]
  },
  {
   "cell_type": "code",
   "execution_count": 49,
   "metadata": {},
   "outputs": [
    {
     "data": {
      "text/plain": [
       "0      80164.999212\n",
       "1      81345.874970\n",
       "2      82598.486466\n",
       "3      83922.833703\n",
       "4      85318.916678\n",
       "5      86786.735394\n",
       "6      88326.289849\n",
       "7      89937.580043\n",
       "8      91620.605977\n",
       "9      93375.367650\n",
       "10     95201.865063\n",
       "11     97100.098216\n",
       "12     99070.067108\n",
       "13    101111.771739\n",
       "14    103225.212110\n",
       "15    105410.388221\n",
       "16    107667.300071\n",
       "17    109995.947660\n",
       "18    112396.330990\n",
       "19    114868.450058\n",
       "20    117412.304866\n",
       "21    120027.895414\n",
       "22    122715.221701\n",
       "23    125474.283728\n",
       "24    128305.081494\n",
       "25    131207.615000\n",
       "26    134181.884245\n",
       "27    137227.889230\n",
       "28    140345.629954\n",
       "29    143535.106418\n",
       "30    146796.318622\n",
       "31    150129.266564\n",
       "32    153533.950247\n",
       "dtype: float64"
      ]
     },
     "execution_count": 49,
     "metadata": {},
     "output_type": "execute_result"
    }
   ],
   "source": [
    "results_q.predict(X)"
   ]
  },
  {
   "cell_type": "code",
   "execution_count": 52,
   "metadata": {},
   "outputs": [],
   "source": [
    "rev_qtrend = rev_qtrend.assign(t2=rev_qtrend[\"t\"] * rev_qtrend[\"t\"])"
   ]
  },
  {
   "cell_type": "code",
   "execution_count": 55,
   "metadata": {},
   "outputs": [],
   "source": [
    "rev_qtrend = rev_qtrend.assign(predicted_revenue=results_q.predict(rev_qtrend[[\"const\", \"t\", \"t2\"]]))"
   ]
  },
  {
   "cell_type": "code",
   "execution_count": 56,
   "metadata": {},
   "outputs": [
    {
     "data": {
      "image/png": "[encoded data removed]",
      "text/plain": [
       "<Figure size 720x432 with 1 Axes>"
      ]
     },
     "metadata": {},
     "output_type": "display_data"
    }
   ],
   "source": [
    "fig, ax = plt.subplots(figsize=(10,6))\n",
    "\n",
    "sns.lineplot(data=rev_qtrend,\n",
    "             x=\"week_id\",\n",
    "             y=\"revenue\",\n",
    "             ax=ax);\n",
    "\n",
    "sns.lineplot(data=rev_qtrend,\n",
    "             x=\"week_id\",\n",
    "             y=\"predicted_revenue\",\n",
    "             color=\"green\",\n",
    "             ax=ax);\n",
    "\n",
    "ax.axvline(pd.to_datetime(\"2017-10-15\"), color=\"red\");"
   ]
  },
  {
   "cell_type": "code",
   "execution_count": 58,
   "metadata": {},
   "outputs": [
    {
     "data": {
      "text/html": [
       "<div>\n",
       "<style scoped>\n",
       "    .dataframe tbody tr th:only-of-type {\n",
       "        vertical-align: middle;\n",
       "    }\n",
       "\n",
       "    .dataframe tbody tr th {\n",
       "        vertical-align: top;\n",
       "    }\n",
       "\n",
       "    .dataframe thead th {\n",
       "        text-align: right;\n",
       "    }\n",
       "</style>\n",
       "<table border=\"1\" class=\"dataframe\">\n",
       "  <thead>\n",
       "    <tr style=\"text-align: right;\">\n",
       "      <th></th>\n",
       "      <th>week_id</th>\n",
       "      <th>revenue</th>\n",
       "      <th>const</th>\n",
       "      <th>t</th>\n",
       "      <th>predicted_revenue</th>\n",
       "    </tr>\n",
       "  </thead>\n",
       "  <tbody>\n",
       "    <tr>\n",
       "      <th>0</th>\n",
       "      <td>2017-03-05</td>\n",
       "      <td>73254.889816</td>\n",
       "      <td>1</td>\n",
       "      <td>1</td>\n",
       "      <td>74234.844745</td>\n",
       "    </tr>\n",
       "    <tr>\n",
       "      <th>1</th>\n",
       "      <td>2017-03-12</td>\n",
       "      <td>93336.099724</td>\n",
       "      <td>1</td>\n",
       "      <td>2</td>\n",
       "      <td>76527.624465</td>\n",
       "    </tr>\n",
       "    <tr>\n",
       "      <th>2</th>\n",
       "      <td>2017-03-19</td>\n",
       "      <td>84442.799897</td>\n",
       "      <td>1</td>\n",
       "      <td>3</td>\n",
       "      <td>78820.404185</td>\n",
       "    </tr>\n",
       "    <tr>\n",
       "      <th>3</th>\n",
       "      <td>2017-03-26</td>\n",
       "      <td>81356.439932</td>\n",
       "      <td>1</td>\n",
       "      <td>4</td>\n",
       "      <td>81113.183905</td>\n",
       "    </tr>\n",
       "    <tr>\n",
       "      <th>4</th>\n",
       "      <td>2017-04-02</td>\n",
       "      <td>88992.920028</td>\n",
       "      <td>1</td>\n",
       "      <td>5</td>\n",
       "      <td>83405.963625</td>\n",
       "    </tr>\n",
       "    <tr>\n",
       "      <th>5</th>\n",
       "      <td>2017-04-09</td>\n",
       "      <td>58462.989766</td>\n",
       "      <td>1</td>\n",
       "      <td>6</td>\n",
       "      <td>85698.743344</td>\n",
       "    </tr>\n",
       "    <tr>\n",
       "      <th>6</th>\n",
       "      <td>2017-04-16</td>\n",
       "      <td>78988.539804</td>\n",
       "      <td>1</td>\n",
       "      <td>7</td>\n",
       "      <td>87991.523064</td>\n",
       "    </tr>\n",
       "    <tr>\n",
       "      <th>7</th>\n",
       "      <td>2017-04-23</td>\n",
       "      <td>88725.400124</td>\n",
       "      <td>1</td>\n",
       "      <td>8</td>\n",
       "      <td>90284.302784</td>\n",
       "    </tr>\n",
       "    <tr>\n",
       "      <th>8</th>\n",
       "      <td>2017-04-30</td>\n",
       "      <td>88554.129788</td>\n",
       "      <td>1</td>\n",
       "      <td>9</td>\n",
       "      <td>92577.082504</td>\n",
       "    </tr>\n",
       "    <tr>\n",
       "      <th>9</th>\n",
       "      <td>2017-05-07</td>\n",
       "      <td>111217.309701</td>\n",
       "      <td>1</td>\n",
       "      <td>10</td>\n",
       "      <td>94869.862224</td>\n",
       "    </tr>\n",
       "    <tr>\n",
       "      <th>10</th>\n",
       "      <td>2017-05-14</td>\n",
       "      <td>117347.119858</td>\n",
       "      <td>1</td>\n",
       "      <td>11</td>\n",
       "      <td>97162.641944</td>\n",
       "    </tr>\n",
       "    <tr>\n",
       "      <th>11</th>\n",
       "      <td>2017-05-21</td>\n",
       "      <td>120540.399970</td>\n",
       "      <td>1</td>\n",
       "      <td>12</td>\n",
       "      <td>99455.421663</td>\n",
       "    </tr>\n",
       "    <tr>\n",
       "      <th>12</th>\n",
       "      <td>2017-05-28</td>\n",
       "      <td>107978.400000</td>\n",
       "      <td>1</td>\n",
       "      <td>13</td>\n",
       "      <td>101748.201383</td>\n",
       "    </tr>\n",
       "    <tr>\n",
       "      <th>13</th>\n",
       "      <td>2017-06-04</td>\n",
       "      <td>105199.440084</td>\n",
       "      <td>1</td>\n",
       "      <td>14</td>\n",
       "      <td>104040.981103</td>\n",
       "    </tr>\n",
       "    <tr>\n",
       "      <th>14</th>\n",
       "      <td>2017-06-11</td>\n",
       "      <td>98334.819941</td>\n",
       "      <td>1</td>\n",
       "      <td>15</td>\n",
       "      <td>106333.760823</td>\n",
       "    </tr>\n",
       "    <tr>\n",
       "      <th>15</th>\n",
       "      <td>2017-06-18</td>\n",
       "      <td>84027.430014</td>\n",
       "      <td>1</td>\n",
       "      <td>16</td>\n",
       "      <td>108626.540543</td>\n",
       "    </tr>\n",
       "    <tr>\n",
       "      <th>16</th>\n",
       "      <td>2017-06-25</td>\n",
       "      <td>97478.280203</td>\n",
       "      <td>1</td>\n",
       "      <td>17</td>\n",
       "      <td>110919.320262</td>\n",
       "    </tr>\n",
       "    <tr>\n",
       "      <th>17</th>\n",
       "      <td>2017-07-02</td>\n",
       "      <td>106410.519937</td>\n",
       "      <td>1</td>\n",
       "      <td>18</td>\n",
       "      <td>113212.099982</td>\n",
       "    </tr>\n",
       "    <tr>\n",
       "      <th>18</th>\n",
       "      <td>2017-07-09</td>\n",
       "      <td>106899.230135</td>\n",
       "      <td>1</td>\n",
       "      <td>19</td>\n",
       "      <td>115504.879702</td>\n",
       "    </tr>\n",
       "    <tr>\n",
       "      <th>19</th>\n",
       "      <td>2017-07-16</td>\n",
       "      <td>119979.470096</td>\n",
       "      <td>1</td>\n",
       "      <td>20</td>\n",
       "      <td>117797.659422</td>\n",
       "    </tr>\n",
       "    <tr>\n",
       "      <th>20</th>\n",
       "      <td>2017-07-23</td>\n",
       "      <td>107755.030149</td>\n",
       "      <td>1</td>\n",
       "      <td>21</td>\n",
       "      <td>120090.439142</td>\n",
       "    </tr>\n",
       "    <tr>\n",
       "      <th>21</th>\n",
       "      <td>2017-07-30</td>\n",
       "      <td>116235.940101</td>\n",
       "      <td>1</td>\n",
       "      <td>22</td>\n",
       "      <td>122383.218862</td>\n",
       "    </tr>\n",
       "    <tr>\n",
       "      <th>22</th>\n",
       "      <td>2017-08-06</td>\n",
       "      <td>126116.420047</td>\n",
       "      <td>1</td>\n",
       "      <td>23</td>\n",
       "      <td>124675.998581</td>\n",
       "    </tr>\n",
       "    <tr>\n",
       "      <th>23</th>\n",
       "      <td>2017-08-13</td>\n",
       "      <td>120820.780333</td>\n",
       "      <td>1</td>\n",
       "      <td>24</td>\n",
       "      <td>126968.778301</td>\n",
       "    </tr>\n",
       "    <tr>\n",
       "      <th>24</th>\n",
       "      <td>2017-08-20</td>\n",
       "      <td>104179.430027</td>\n",
       "      <td>1</td>\n",
       "      <td>25</td>\n",
       "      <td>129261.558021</td>\n",
       "    </tr>\n",
       "    <tr>\n",
       "      <th>25</th>\n",
       "      <td>2017-08-27</td>\n",
       "      <td>162368.259984</td>\n",
       "      <td>1</td>\n",
       "      <td>26</td>\n",
       "      <td>131554.337741</td>\n",
       "    </tr>\n",
       "    <tr>\n",
       "      <th>26</th>\n",
       "      <td>2017-09-03</td>\n",
       "      <td>141082.819700</td>\n",
       "      <td>1</td>\n",
       "      <td>27</td>\n",
       "      <td>133847.117461</td>\n",
       "    </tr>\n",
       "    <tr>\n",
       "      <th>27</th>\n",
       "      <td>2017-09-10</td>\n",
       "      <td>153200.599777</td>\n",
       "      <td>1</td>\n",
       "      <td>28</td>\n",
       "      <td>136139.897181</td>\n",
       "    </tr>\n",
       "    <tr>\n",
       "      <th>28</th>\n",
       "      <td>2017-09-17</td>\n",
       "      <td>132001.670079</td>\n",
       "      <td>1</td>\n",
       "      <td>29</td>\n",
       "      <td>138432.676900</td>\n",
       "    </tr>\n",
       "    <tr>\n",
       "      <th>29</th>\n",
       "      <td>2017-09-24</td>\n",
       "      <td>135219.369856</td>\n",
       "      <td>1</td>\n",
       "      <td>30</td>\n",
       "      <td>140725.456620</td>\n",
       "    </tr>\n",
       "    <tr>\n",
       "      <th>30</th>\n",
       "      <td>2017-10-01</td>\n",
       "      <td>142829.740062</td>\n",
       "      <td>1</td>\n",
       "      <td>31</td>\n",
       "      <td>143018.236340</td>\n",
       "    </tr>\n",
       "    <tr>\n",
       "      <th>31</th>\n",
       "      <td>2017-10-08</td>\n",
       "      <td>145758.639908</td>\n",
       "      <td>1</td>\n",
       "      <td>32</td>\n",
       "      <td>145311.016060</td>\n",
       "    </tr>\n",
       "    <tr>\n",
       "      <th>32</th>\n",
       "      <td>2017-10-15</td>\n",
       "      <td>161242.239824</td>\n",
       "      <td>1</td>\n",
       "      <td>33</td>\n",
       "      <td>147603.795780</td>\n",
       "    </tr>\n",
       "    <tr>\n",
       "      <th>33</th>\n",
       "      <td>2017-10-22</td>\n",
       "      <td>138215.120121</td>\n",
       "      <td>1</td>\n",
       "      <td>34</td>\n",
       "      <td>149896.575500</td>\n",
       "    </tr>\n",
       "    <tr>\n",
       "      <th>34</th>\n",
       "      <td>2017-10-29</td>\n",
       "      <td>142517.870461</td>\n",
       "      <td>1</td>\n",
       "      <td>35</td>\n",
       "      <td>152189.355219</td>\n",
       "    </tr>\n",
       "    <tr>\n",
       "      <th>35</th>\n",
       "      <td>2017-11-05</td>\n",
       "      <td>148169.000426</td>\n",
       "      <td>1</td>\n",
       "      <td>36</td>\n",
       "      <td>154482.134939</td>\n",
       "    </tr>\n",
       "    <tr>\n",
       "      <th>36</th>\n",
       "      <td>2017-11-12</td>\n",
       "      <td>174580.540058</td>\n",
       "      <td>1</td>\n",
       "      <td>37</td>\n",
       "      <td>156774.914659</td>\n",
       "    </tr>\n",
       "    <tr>\n",
       "      <th>37</th>\n",
       "      <td>2017-11-19</td>\n",
       "      <td>373838.420382</td>\n",
       "      <td>1</td>\n",
       "      <td>38</td>\n",
       "      <td>159067.694379</td>\n",
       "    </tr>\n",
       "    <tr>\n",
       "      <th>38</th>\n",
       "      <td>2017-11-26</td>\n",
       "      <td>278597.099682</td>\n",
       "      <td>1</td>\n",
       "      <td>39</td>\n",
       "      <td>161360.474099</td>\n",
       "    </tr>\n",
       "    <tr>\n",
       "      <th>39</th>\n",
       "      <td>2017-12-03</td>\n",
       "      <td>222071.810027</td>\n",
       "      <td>1</td>\n",
       "      <td>40</td>\n",
       "      <td>163653.253819</td>\n",
       "    </tr>\n",
       "    <tr>\n",
       "      <th>40</th>\n",
       "      <td>2017-12-10</td>\n",
       "      <td>190441.949685</td>\n",
       "      <td>1</td>\n",
       "      <td>41</td>\n",
       "      <td>165946.033538</td>\n",
       "    </tr>\n",
       "    <tr>\n",
       "      <th>41</th>\n",
       "      <td>2017-12-17</td>\n",
       "      <td>138845.850016</td>\n",
       "      <td>1</td>\n",
       "      <td>42</td>\n",
       "      <td>168238.813258</td>\n",
       "    </tr>\n",
       "    <tr>\n",
       "      <th>42</th>\n",
       "      <td>2017-12-24</td>\n",
       "      <td>96475.050198</td>\n",
       "      <td>1</td>\n",
       "      <td>43</td>\n",
       "      <td>170531.592978</td>\n",
       "    </tr>\n",
       "    <tr>\n",
       "      <th>43</th>\n",
       "      <td>2017-12-31</td>\n",
       "      <td>158807.340458</td>\n",
       "      <td>1</td>\n",
       "      <td>44</td>\n",
       "      <td>172824.372698</td>\n",
       "    </tr>\n",
       "  </tbody>\n",
       "</table>\n",
       "</div>"
      ],
      "text/plain": [
       "      week_id        revenue  const   t  predicted_revenue\n",
       "0  2017-03-05   73254.889816      1   1       74234.844745\n",
       "1  2017-03-12   93336.099724      1   2       76527.624465\n",
       "2  2017-03-19   84442.799897      1   3       78820.404185\n",
       "3  2017-03-26   81356.439932      1   4       81113.183905\n",
       "4  2017-04-02   88992.920028      1   5       83405.963625\n",
       "5  2017-04-09   58462.989766      1   6       85698.743344\n",
       "6  2017-04-16   78988.539804      1   7       87991.523064\n",
       "7  2017-04-23   88725.400124      1   8       90284.302784\n",
       "8  2017-04-30   88554.129788      1   9       92577.082504\n",
       "9  2017-05-07  111217.309701      1  10       94869.862224\n",
       "10 2017-05-14  117347.119858      1  11       97162.641944\n",
       "11 2017-05-21  120540.399970      1  12       99455.421663\n",
       "12 2017-05-28  107978.400000      1  13      101748.201383\n",
       "13 2017-06-04  105199.440084      1  14      104040.981103\n",
       "14 2017-06-11   98334.819941      1  15      106333.760823\n",
       "15 2017-06-18   84027.430014      1  16      108626.540543\n",
       "16 2017-06-25   97478.280203      1  17      110919.320262\n",
       "17 2017-07-02  106410.519937      1  18      113212.099982\n",
       "18 2017-07-09  106899.230135      1  19      115504.879702\n",
       "19 2017-07-16  119979.470096      1  20      117797.659422\n",
       "20 2017-07-23  107755.030149      1  21      120090.439142\n",
       "21 2017-07-30  116235.940101      1  22      122383.218862\n",
       "22 2017-08-06  126116.420047      1  23      124675.998581\n",
       "23 2017-08-13  120820.780333      1  24      126968.778301\n",
       "24 2017-08-20  104179.430027      1  25      129261.558021\n",
       "25 2017-08-27  162368.259984      1  26      131554.337741\n",
       "26 2017-09-03  141082.819700      1  27      133847.117461\n",
       "27 2017-09-10  153200.599777      1  28      136139.897181\n",
       "28 2017-09-17  132001.670079      1  29      138432.676900\n",
       "29 2017-09-24  135219.369856      1  30      140725.456620\n",
       "30 2017-10-01  142829.740062      1  31      143018.236340\n",
       "31 2017-10-08  145758.639908      1  32      145311.016060\n",
       "32 2017-10-15  161242.239824      1  33      147603.795780\n",
       "33 2017-10-22  138215.120121      1  34      149896.575500\n",
       "34 2017-10-29  142517.870461      1  35      152189.355219\n",
       "35 2017-11-05  148169.000426      1  36      154482.134939\n",
       "36 2017-11-12  174580.540058      1  37      156774.914659\n",
       "37 2017-11-19  373838.420382      1  38      159067.694379\n",
       "38 2017-11-26  278597.099682      1  39      161360.474099\n",
       "39 2017-12-03  222071.810027      1  40      163653.253819\n",
       "40 2017-12-10  190441.949685      1  41      165946.033538\n",
       "41 2017-12-17  138845.850016      1  42      168238.813258\n",
       "42 2017-12-24   96475.050198      1  43      170531.592978\n",
       "43 2017-12-31  158807.340458      1  44      172824.372698"
      ]
     },
     "execution_count": 58,
     "metadata": {},
     "output_type": "execute_result"
    }
   ],
   "source": [
    "rev_trend"
   ]
  }
 ],
 "metadata": {
  "kernelspec": {
   "display_name": "Python 3",
   "language": "python",
   "name": "python3"
  },
  "language_info": {
   "codemirror_mode": {
    "name": "ipython",
    "version": 3
   },
   "file_extension": ".py",
   "mimetype": "text/x-python",
   "name": "python",
   "nbconvert_exporter": "python",
   "pygments_lexer": "ipython3",
   "version": "3.7.6"
  }
 },
 "nbformat": 4,
 "nbformat_minor": 4
}
